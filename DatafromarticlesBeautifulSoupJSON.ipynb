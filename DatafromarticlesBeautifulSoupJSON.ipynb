{
 "cells": [
  {
   "cell_type": "code",
   "execution_count": 8,
   "metadata": {},
   "outputs": [],
   "source": [
    "from bs4 import BeautifulSoup\n",
    "import requests\n",
    "import re\n",
    "import pandas as pd"
   ]
  },
  {
   "cell_type": "code",
   "execution_count": 9,
   "metadata": {},
   "outputs": [],
   "source": [
    "#retrieving the url for FOMC Statement\n",
    "html_page= requests.get('https://www.federalreserve.gov/newsevents/pressreleases/monetary20190320a.htm') \n",
    "soup= BeautifulSoup(html_page.content, 'html.parser')"
   ]
  },
  {
   "cell_type": "code",
   "execution_count": 10,
   "metadata": {},
   "outputs": [
    {
     "name": "stdout",
     "output_type": "stream",
     "text": [
      "<!DOCTYPE doctype html>\n",
      "<html class=\"no-js\" lang=\"en\">\n",
      " <head>\n",
      "  <meta charset=\"utf-8\"/>\n",
      "  <meta content=\"IE=edge\" http-equiv=\"X-UA-Compatible\"/>\n",
      "  <meta content=\"width=device-width, initial-scale=1.0, minimum-scale=1.0 maximum-scale=1.6, user-scalable=1\" name=\"viewport\"/>\n",
      "  <meta content=\" Information received since the Federal Open Market Committee met in January indicates that the labor market remains strong but that growth of economic activity\" name=\"description\">\n",
      "   <meta content=\"Federal Reserve issues FOMC statement\" property=\"og:title\">\n",
      "    <meta content=\"Board of Governors of the Federal Reserve System\" property=\"og:site_name\">\n",
      "     <meta content=\"article\" property=\"og:type\"/>\n",
      "     <meta content=\" Information received since the Federal Open Market Committee met in January indicates that the labor market remains strong but that growth of economic activity\" property=\"og:description\"/>\n",
      "     <meta content=\"\" property=\"og:image\"/>\n",
      "     <meta content=\"summary\" name=\"twitter:card\"/>\n",
      "\n"
     ]
    }
   ],
   "source": [
    "#preview the soup... MMM soup\n",
    "print(soup.prettify()[:1000])"
   ]
  },
  {
   "cell_type": "code",
   "execution_count": 11,
   "metadata": {},
   "outputs": [],
   "source": [
    "#search for the text in the article, isolate and save text\n",
    "article = soup.find(\"div\",attrs={\"class\":\"col-xs-12 col-sm-8 col-md-8\"}).getText()"
   ]
  },
  {
   "cell_type": "code",
   "execution_count": 12,
   "metadata": {},
   "outputs": [
    {
     "data": {
      "text/plain": [
       "\"\\nInformation received since the Federal Open Market Committee met in January indicates that the labor market remains strong but that growth of economic activity has slowed from its solid rate in the fourth quarter. Payroll employment was little changed in February, but job gains have been solid, on average, in recent months, and the unemployment rate has remained low. Recent indicators point to slower growth of household spending and business fixed investment in the first quarter. On a 12-month basis, overall inflation has declined, largely as a result of lower energy prices; inflation for items other than food and energy remains near 2 percent. On balance, market-based measures of inflation compensation have remained low in recent months, and survey-based measures of longer-term inflation expectations are little changed.\\nConsistent with its statutory mandate, the Committee seeks to foster maximum employment and price stability. In support of these goals, the Committee decided to maintain the target range for the federal funds rate at 2-1/4 to 2-1/2 percent. The Committee continues to view sustained expansion of economic activity, strong labor market conditions, and inflation near the Committee's symmetric 2 percent objective as the most likely outcomes. In light of global economic and financial developments and muted inflation pressures, the Committee will be patient as it determines what future adjustments to the target range for the federal funds rate may be appropriate to support these outcomes.\\nIn determining the timing and size of future adjustments to the target range for the federal funds rate, the Committee will assess realized and expected economic conditions relative to its maximum employment objective and its symmetric 2 percent inflation objective. This assessment will take into account a wide range of information, including measures of labor market conditions, indicators of inflation pressures and inflation expectations, and readings on financial and international developments.\\nVoting for the FOMC monetary policy action were: Jerome H. Powell, Chairman; John C. Williams, Vice Chairman; Michelle W. Bowman; Lael Brainard; James Bullard; Richard H. Clarida; Charles L. Evans; Esther L. George; Randal K. Quarles; and Eric S. Rosengren.\\nImplementation Note issued March 20, 2019\\n\""
      ]
     },
     "execution_count": 12,
     "metadata": {},
     "output_type": "execute_result"
    }
   ],
   "source": [
    "article"
   ]
  },
  {
   "cell_type": "code",
   "execution_count": 13,
   "metadata": {},
   "outputs": [],
   "source": [
    "import requests\n",
    "r = requests.get('https://www.federalreserve.gov/json/ne-press.json')"
   ]
  },
  {
   "cell_type": "code",
   "execution_count": 14,
   "metadata": {},
   "outputs": [],
   "source": [
    "c = r.content"
   ]
  },
  {
   "cell_type": "code",
   "execution_count": 15,
   "metadata": {},
   "outputs": [],
   "source": [
    "from bs4 import BeautifulSoup"
   ]
  },
  {
   "cell_type": "code",
   "execution_count": 16,
   "metadata": {},
   "outputs": [],
   "source": [
    "json_file = BeautifulSoup(c)"
   ]
  },
  {
   "cell_type": "code",
   "execution_count": 17,
   "metadata": {},
   "outputs": [],
   "source": [
    "import json"
   ]
  },
  {
   "cell_type": "code",
   "execution_count": 18,
   "metadata": {
    "collapsed": true
   },
   "outputs": [
    {
     "data": {
      "text/plain": [
       "[{'d': '3/25/2019 2:00:00 PM',\n",
       "  't': 'Federal and state financial regulatory agencies issue interagency statement on supervisory practices regarding financial institutions affected by flooding in the Midwest',\n",
       "  'pt': 'Banking and Consumer Regulatory Policy',\n",
       "  'l': '/newsevents/pressreleases/bcreg20190325a.htm'},\n",
       " {'d': '3/22/2019 5:00:00 PM',\n",
       "  't': 'Federal Reserve Board announces approval of proposals by First Interstate Bank',\n",
       "  'pt': 'Orders on Banking Applications',\n",
       "  'l': '/newsevents/pressreleases/orders20190322a.htm'},\n",
       " {'d': '3/22/2019 12:00:00 PM',\n",
       "  't': 'Federal Reserve System publishes annual financial statements',\n",
       "  'pt': 'Other Announcements',\n",
       "  'l': '/newsevents/pressreleases/other20190322a.htm'},\n",
       " {'d': '3/21/2019 12:00:00 PM',\n",
       "  't': 'Federal Reserve Board publishes report containing summary information on debit card transactions in 2017',\n",
       "  'pt': 'Other Announcements',\n",
       "  'l': '/newsevents/pressreleases/other20190321a.htm'},\n",
       " {'d': '3/21/2019 11:00:00 AM',\n",
       "  't': 'Federal Reserve Board announces termination of enforcement action with Commercial State Bank',\n",
       "  'pt': 'Enforcement Actions',\n",
       "  'l': '/newsevents/pressreleases/enforcement20190321a.htm'},\n",
       " {'d': '3/20/2019 2:00:00 PM',\n",
       "  't': 'Balance Sheet Normalization Principles and Plans',\n",
       "  'pt': 'Monetary Policy',\n",
       "  'l': '/newsevents/pressreleases/monetary20190320c.htm'},\n",
       " {'d': '3/20/2019 2:00:00 PM',\n",
       "  't': 'Federal Reserve Board and Federal Open Market Committee release economic projections from the March 19-20 FOMC meeting',\n",
       "  'pt': 'Monetary Policy',\n",
       "  'l': '/newsevents/pressreleases/monetary20190320b.htm'},\n",
       " {'d': '3/20/2019 2:00:00 PM',\n",
       "  't': 'Federal Reserve issues FOMC statement',\n",
       "  'pt': 'Monetary Policy',\n",
       "  'l': '/newsevents/pressreleases/monetary20190320a.htm'},\n",
       " {'d': '3/19/2019 12:45:00 PM',\n",
       "  't': 'Statement by Federal Reserve Board Vice Chair Richard H. Clarida on the passing of Alan Krueger',\n",
       "  'pt': 'Other Announcements',\n",
       "  'l': '/newsevents/pressreleases/other20190319a.htm'},\n",
       " {'d': '3/18/2019 1:00:00 PM',\n",
       "  't': 'Federal Reserve announces members of Fraud Definitions Work Group',\n",
       "  'pt': 'Other Announcements',\n",
       "  'l': '/newsevents/pressreleases/other20190318a.htm'},\n",
       " {'d': '3/15/2019 11:00:00 AM',\n",
       "  't': 'Agencies adopt interim final rule to facilitate transfers of legacy swaps',\n",
       "  'pt': 'Banking and Consumer Regulatory Policy',\n",
       "  'l': '/newsevents/pressreleases/bcreg20190315a.htm'},\n",
       " {'d': '3/14/2019 4:30:00 PM',\n",
       "  't': 'Federal Reserve announces seventh triennial study to examine U.S. payments usage',\n",
       "  'pt': 'Other Announcements',\n",
       "  'l': '/newsevents/pressreleases/other20190314b.htm'},\n",
       " {'d': '3/14/2019 3:30:00 PM',\n",
       "  't': 'Agencies announce two public meetings on merger of BB&T and SunTrust; public comment period extended',\n",
       "  'pt': 'Other Announcements',\n",
       "  'l': '/newsevents/pressreleases/other20190314a.htm'},\n",
       " {'d': '3/12/2019 10:00:00 AM',\n",
       "  't': 'Federal Reserve Board permanently bars two former employees of The Goldman Sachs Group, Inc. from the banking industry',\n",
       "  'pt': 'Enforcement Actions',\n",
       "  'l': '/newsevents/pressreleases/enforcement20190312a.htm'},\n",
       " {'d': '3/11/2019 3:30:00 PM',\n",
       "  't': 'Federal Reserve Board announces approval of application by CenterState Bank Corporation',\n",
       "  'pt': 'Orders on Banking Applications',\n",
       "  'l': '/newsevents/pressreleases/orders20190311a.htm'},\n",
       " {'d': '3/6/2019 5:00:00 PM',\n",
       "  't': 'Federal Reserve Board announces approval of proposals by Fifth Third Bancorp and Fifth Third Bank',\n",
       "  'pt': 'Orders on Banking Applications',\n",
       "  'l': '/newsevents/pressreleases/orders20190306a.htm'},\n",
       " {'d': '3/6/2019 4:45:00 PM',\n",
       "  't': 'Federal Reserve Board votes to affirm the Countercyclical Capital Buffer (CCyB) at the current level of 0 percent ',\n",
       "  'pt': 'Banking and Consumer Regulatory Policy',\n",
       "  'l': '/newsevents/pressreleases/bcreg20190306c.htm'}]"
      ]
     },
     "execution_count": 18,
     "metadata": {},
     "output_type": "execute_result"
    }
   ],
   "source": [
    "json.loads(json_file.text[0:3579] + ']')"
   ]
  },
  {
   "cell_type": "code",
   "execution_count": 19,
   "metadata": {},
   "outputs": [],
   "source": [
    "our_list = json_file.text.split(\"Federal Reserve issues FOMC statement\")"
   ]
  },
  {
   "cell_type": "code",
   "execution_count": 20,
   "metadata": {
    "scrolled": true
   },
   "outputs": [
    {
     "data": {
      "text/plain": [
       "['https://www.federalreserve.gov/newsevents/pressreleases/monetary20190320a.htm',\n",
       " 'https://www.federalreserve.gov/newsevents/pressreleases/monetary20190130a.htm',\n",
       " 'https://www.federalreserve.gov/newsevents/pressreleases/monetary20181219a.htm',\n",
       " 'https://www.federalreserve.gov/newsevents/pressreleases/monetary20181108a.htm',\n",
       " 'https://www.federalreserve.gov/newsevents/pressreleases/monetary20180926a.htm',\n",
       " 'https://www.federalreserve.gov/newsevents/pressreleases/monetary20180801a.htm',\n",
       " 'https://www.federalreserve.gov/newsevents/pressreleases/monetary20180613a.htm',\n",
       " 'https://www.federalreserve.gov/newsevents/pressreleases/monetary20180502a.htm',\n",
       " 'https://www.federalreserve.gov/newsevents/pressreleases/monetary20180321a.htm',\n",
       " 'https://www.federalreserve.gov/newsevents/pressreleases/monetary20180131a.htm',\n",
       " 'https://www.federalreserve.gov/newsevents/pressreleases/monetary20171213a.htm',\n",
       " 'https://www.federalreserve.gov/newsevents/pressreleases/monetary20171101a.htm',\n",
       " 'https://www.federalreserve.gov/newsevents/pressreleases/monetary20170920a.htm',\n",
       " 'https://www.federalreserve.gov/newsevents/pressreleases/monetary20170726a.htm',\n",
       " 'https://www.federalreserve.gov/newsevents/pressreleases/monetary20170614a.htm',\n",
       " 'https://www.federalreserve.gov/newsevents/pressreleases/monetary20170503a.htm',\n",
       " 'https://www.federalreserve.gov/newsevents/pressreleases/monetary20170315a.htm',\n",
       " 'https://www.federalreserve.gov/newsevents/pressreleases/monetary20161214a.htm',\n",
       " 'https://www.federalreserve.gov/newsevents/pressreleases/monetary20161102a.htm',\n",
       " 'https://www.federalreserve.gov/newsevents/pressreleases/monetary20170201a.htm',\n",
       " 'https://www.federalreserve.gov/newsevents/pressreleases/monetary20160921a.htm',\n",
       " 'https://www.federalreserve.gov/newsevents/pressreleases/monetary20110921a.htm',\n",
       " 'https://www.federalreserve.gov/newsevents/pressreleases/monetary20111102a.htm',\n",
       " 'https://www.federalreserve.gov/newsevents/pressreleases/monetary20111213a.htm',\n",
       " 'https://www.federalreserve.gov/newsevents/pressreleases/monetary20120125a.htm',\n",
       " 'https://www.federalreserve.gov/newsevents/pressreleases/monetary20120125c.htm',\n",
       " 'https://www.federalreserve.gov/newsevents/pressreleases/monetary20120313a.htm',\n",
       " 'https://www.federalreserve.gov/newsevents/pressreleases/monetary20120425a.htm',\n",
       " 'https://www.federalreserve.gov/newsevents/pressreleases/monetary20120620a.htm',\n",
       " 'https://www.federalreserve.gov/newsevents/pressreleases/monetary20120801a.htm',\n",
       " 'https://www.federalreserve.gov/newsevents/pressreleases/monetary20120913a.htm',\n",
       " 'https://www.federalreserve.gov/newsevents/pressreleases/monetary20121024a.htm',\n",
       " 'https://www.federalreserve.gov/newsevents/pressreleases/monetary20121212a.htm',\n",
       " 'https://www.federalreserve.gov/newsevents/pressreleases/monetary20130130a.htm',\n",
       " 'https://www.federalreserve.gov/newsevents/pressreleases/monetary20130320a.htm',\n",
       " 'https://www.federalreserve.gov/newsevents/pressreleases/monetary20130501a.htm',\n",
       " 'https://www.federalreserve.gov/newsevents/pressreleases/monetary20130619a.htm',\n",
       " 'https://www.federalreserve.gov/newsevents/pressreleases/monetary20130731a.htm',\n",
       " 'https://www.federalreserve.gov/newsevents/pressreleases/monetary20130918a.htm',\n",
       " 'https://www.federalreserve.gov/newsevents/pressreleases/monetary20131030a.htm',\n",
       " 'https://www.federalreserve.gov/newsevents/pressreleases/monetary20131218a.htm',\n",
       " 'https://www.federalreserve.gov/newsevents/pressreleases/monetary20140129a.htm',\n",
       " 'https://www.federalreserve.gov/newsevents/pressreleases/monetary20140319a.htm',\n",
       " 'https://www.federalreserve.gov/newsevents/pressreleases/monetary20140430a.htm',\n",
       " 'https://www.federalreserve.gov/newsevents/pressreleases/monetary20140618a.htm',\n",
       " 'https://www.federalreserve.gov/newsevents/pressreleases/monetary20140730a.htm',\n",
       " 'https://www.federalreserve.gov/newsevents/pressreleases/monetary20140917c.htm',\n",
       " 'https://www.federalreserve.gov/newsevents/pressreleases/monetary20140917a.htm',\n",
       " 'https://www.federalreserve.gov/newsevents/pressreleases/monetary20141029a.htm',\n",
       " 'https://www.federalreserve.gov/newsevents/pressreleases/monetary20141217a.htm',\n",
       " 'https://www.federalreserve.gov/newsevents/pressreleases/monetary20150128a.htm',\n",
       " 'https://www.federalreserve.gov/newsevents/pressreleases/monetary20150318a.htm',\n",
       " 'https://www.federalreserve.gov/newsevents/pressreleases/monetary20150429a.htm',\n",
       " 'https://www.federalreserve.gov/newsevents/pressreleases/monetary20150617a.htm',\n",
       " 'https://www.federalreserve.gov/newsevents/pressreleases/monetary20150729a.htm',\n",
       " 'https://www.federalreserve.gov/newsevents/pressreleases/monetary20150917a.htm',\n",
       " 'https://www.federalreserve.gov/newsevents/pressreleases/monetary20151028a.htm',\n",
       " 'https://www.federalreserve.gov/newsevents/pressreleases/monetary20151216a.htm',\n",
       " 'https://www.federalreserve.gov/newsevents/pressreleases/monetary20160727a.htm',\n",
       " 'https://www.federalreserve.gov/newsevents/pressreleases/monetary20160427a.htm',\n",
       " 'https://www.federalreserve.gov/newsevents/pressreleases/monetary20160615a.htm',\n",
       " 'https://www.federalreserve.gov/newsevents/pressreleases/monetary20160316a.htm',\n",
       " 'https://www.federalreserve.gov/newsevents/pressreleases/monetary20160127a.htm']"
      ]
     },
     "execution_count": 20,
     "metadata": {},
     "output_type": "execute_result"
    }
   ],
   "source": [
    "links = []\n",
    "for element in our_list[1:]:\n",
    "    links.append('https://www.federalreserve.gov/newsevents' + element.split('newsevents')[1][0:36])\n",
    "links"
   ]
  },
  {
   "cell_type": "code",
   "execution_count": 21,
   "metadata": {},
   "outputs": [
    {
     "data": {
      "text/plain": [
       "33"
      ]
     },
     "execution_count": 21,
     "metadata": {},
     "output_type": "execute_result"
    }
   ],
   "source": [
    "len('/pressreleases/bcreg20190325a.htm')"
   ]
  },
  {
   "cell_type": "code",
   "execution_count": 25,
   "metadata": {},
   "outputs": [],
   "source": [
    "documents=[]\n",
    "for link in links:\n",
    "    html_page= requests.get(link) \n",
    "    soup= BeautifulSoup(html_page.content, 'html.parser')\n",
    "    article = soup.find(\"div\",attrs={\"class\":\"col-xs-12 col-sm-8 col-md-8\"}).getText()\n",
    "    documents.append(article)"
   ]
  },
  {
   "cell_type": "code",
   "execution_count": 34,
   "metadata": {},
   "outputs": [
    {
     "data": {
      "text/plain": [
       "\"\\nInformation received since the Federal Open Market Committee met in January indicates that the labor market remains strong but that growth of economic activity has slowed from its solid rate in the fourth quarter. Payroll employment was little changed in February, but job gains have been solid, on average, in recent months, and the unemployment rate has remained low. Recent indicators point to slower growth of household spending and business fixed investment in the first quarter. On a 12-month basis, overall inflation has declined, largely as a result of lower energy prices; inflation for items other than food and energy remains near 2 percent. On balance, market-based measures of inflation compensation have remained low in recent months, and survey-based measures of longer-term inflation expectations are little changed.\\nConsistent with its statutory mandate, the Committee seeks to foster maximum employment and price stability. In support of these goals, the Committee decided to maintain the target range for the federal funds rate at 2-1/4 to 2-1/2 percent. The Committee continues to view sustained expansion of economic activity, strong labor market conditions, and inflation near the Committee's symmetric 2 percent objective as the most likely outcomes. In light of global economic and financial developments and muted inflation pressures, the Committee will be patient as it determines what future adjustments to the target range for the federal funds rate may be appropriate to support these outcomes.\\nIn determining the timing and size of future adjustments to the target range for the federal funds rate, the Committee will assess realized and expected economic conditions relative to its maximum employment objective and its symmetric 2 percent inflation objective. This assessment will take into account a wide range of information, including measures of labor market conditions, indicators of inflation pressures and inflation expectations, and readings on financial and international developments.\\nVoting for the FOMC monetary policy action were: Jerome H. Powell, Chairman; John C. Williams, Vice Chairman; Michelle W. Bowman; Lael Brainard; James Bullard; Richard H. Clarida; Charles L. Evans; Esther L. George; Randal K. Quarles; and Eric S. Rosengren.\\nImplementation Note issued March 20, 2019\\n\""
      ]
     },
     "execution_count": 34,
     "metadata": {},
     "output_type": "execute_result"
    }
   ],
   "source": [
    "documents[0]"
   ]
  },
  {
   "cell_type": "code",
   "execution_count": null,
   "metadata": {},
   "outputs": [],
   "source": []
  }
 ],
 "metadata": {
  "kernelspec": {
   "display_name": "learn-env",
   "language": "python",
   "name": "learn-env"
  },
  "language_info": {
   "codemirror_mode": {
    "name": "ipython",
    "version": 3
   },
   "file_extension": ".py",
   "mimetype": "text/x-python",
   "name": "python",
   "nbconvert_exporter": "python",
   "pygments_lexer": "ipython3",
   "version": "3.6.6"
  }
 },
 "nbformat": 4,
 "nbformat_minor": 2
}
