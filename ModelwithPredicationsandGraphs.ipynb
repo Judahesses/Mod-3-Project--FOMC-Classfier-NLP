{
 "cells": [
  {
   "cell_type": "code",
   "execution_count": 1,
   "metadata": {},
   "outputs": [
    {
     "name": "stderr",
     "output_type": "stream",
     "text": [
      "[nltk_data] Downloading package punkt to\n",
      "[nltk_data]     /Users/marcschneider/nltk_data...\n",
      "[nltk_data]   Package punkt is already up-to-date!\n"
     ]
    }
   ],
   "source": [
    "from bs4 import BeautifulSoup\n",
    "import requests\n",
    "import re\n",
    "import pandas as pd\n",
    "import json\n",
    "import numpy as np\n",
    "from mpl_toolkits.mplot3d import Axes3D\n",
    "import matplotlib.pyplot as plt\n",
    "%matplotlib inline\n",
    "from sklearn.manifold import TSNE\n",
    "from nltk.tokenize import word_tokenize\n",
    "import nltk\n",
    "from sklearn import model_selection, preprocessing, linear_model, naive_bayes, metrics, svm\n",
    "import string\n",
    "from sklearn.feature_extraction.text import CountVectorizer\n",
    "from sklearn.feature_extraction.text import TfidfVectorizer\n",
    "from sklearn.metrics import accuracy_score\n",
    "from sklearn.datasets import fetch_20newsgroups\n",
    "from sklearn import model_selection, preprocessing, linear_model, naive_bayes, metrics, svm\n",
    "from sklearn import decomposition, ensemble\n",
    "from sklearn.metrics import classification_report\n",
    "from sklearn.metrics import confusion_matrix\n",
    "from itertools import product\n",
    "nltk.download('punkt')\n",
    "np.random.seed(0)"
   ]
  },
  {
   "cell_type": "code",
   "execution_count": 2,
   "metadata": {},
   "outputs": [
    {
     "name": "stdout",
     "output_type": "stream",
     "text": [
      "Requirement already satisfied: imblearn in /anaconda3/lib/python3.7/site-packages (0.0)\n",
      "Requirement already satisfied: imbalanced-learn in /anaconda3/lib/python3.7/site-packages (from imblearn) (0.4.3)\n",
      "Requirement already satisfied: numpy>=1.8.2 in /anaconda3/lib/python3.7/site-packages (from imbalanced-learn->imblearn) (1.15.4)\n",
      "Requirement already satisfied: scipy>=0.13.3 in /anaconda3/lib/python3.7/site-packages (from imbalanced-learn->imblearn) (1.1.0)\n",
      "Requirement already satisfied: scikit-learn>=0.20 in /anaconda3/lib/python3.7/site-packages (from imbalanced-learn->imblearn) (0.20.1)\n"
     ]
    }
   ],
   "source": [
    "!pip install imblearn"
   ]
  },
  {
   "cell_type": "code",
   "execution_count": 3,
   "metadata": {},
   "outputs": [],
   "source": [
    "#retrieving the url for FOMC Statement\n",
    "html_page= requests.get('https://www.federalreserve.gov/newsevents/pressreleases/monetary20190320a.htm') \n",
    "soup= BeautifulSoup(html_page.content, 'html.parser')"
   ]
  },
  {
   "cell_type": "code",
   "execution_count": 4,
   "metadata": {},
   "outputs": [
    {
     "name": "stdout",
     "output_type": "stream",
     "text": [
      "<!DOCTYPE doctype html>\n",
      "<html class=\"no-js\" lang=\"en\">\n",
      " <head>\n",
      "  <meta charset=\"utf-8\"/>\n",
      "  <meta content=\"IE=edge\" http-equiv=\"X-UA-Compatible\"/>\n",
      "  <meta content=\"width=device-width, initial-scale=1.0, minimum-scale=1.0 maximum-scale=1.6, user-scalable=1\" name=\"viewport\"/>\n",
      "  <meta content=\" Information received since the Federal Open Market Committee met in January indicates that the labor market remains strong but that growth of economic activity\" name=\"description\">\n",
      "   <meta content=\"Federal Reserve issues FOMC statement\" property=\"og:title\">\n",
      "    <meta content=\"Board of Governors of the Federal Reserve System\" property=\"og:site_name\">\n",
      "     <meta content=\"article\" property=\"og:type\"/>\n",
      "     <meta content=\" Information received since the Federal Open Market Committee met in January indicates that the labor market remains strong but that growth of economic activity\" property=\"og:description\"/>\n",
      "     <meta content=\"\" property=\"og:image\"/>\n",
      "     <meta content=\"summary\" name=\"twitter:card\"/>\n",
      "\n"
     ]
    }
   ],
   "source": [
    "#preview the soup... MMM soup\n",
    "print(soup.prettify()[:1000])"
   ]
  },
  {
   "cell_type": "code",
   "execution_count": 236,
   "metadata": {},
   "outputs": [],
   "source": [
    "#search for the text in the article, isolate and save text\n",
    "article = soup.find(\"div\",attrs={\"class\":\"col-xs-12 col-sm-8 col-md-8\"}).getText()"
   ]
  },
  {
   "cell_type": "code",
   "execution_count": 237,
   "metadata": {},
   "outputs": [],
   "source": [
    "# get json data from federal reserve \n",
    "r = requests.get('https://www.federalreserve.gov/json/ne-press.json')"
   ]
  },
  {
   "cell_type": "code",
   "execution_count": 238,
   "metadata": {},
   "outputs": [],
   "source": [
    "# federal reserve json content\n",
    "c = r.content"
   ]
  },
  {
   "cell_type": "code",
   "execution_count": 239,
   "metadata": {},
   "outputs": [],
   "source": [
    "# clean up data using beautiful soup\n",
    "json_file = BeautifulSoup(c)"
   ]
  },
  {
   "cell_type": "code",
   "execution_count": 240,
   "metadata": {},
   "outputs": [
    {
     "data": {
      "text/plain": [
       "[{'d': '3/28/2019 4:30:00 PM',\n",
       "  't': 'Federal Reserve Board releases document providing additional information on its stress testing program',\n",
       "  'pt': 'Banking and Consumer Regulatory Policy',\n",
       "  'l': '/newsevents/pressreleases/bcreg20190328a.htm'},\n",
       " {'d': '3/25/2019 2:00:00 PM',\n",
       "  't': 'Federal and state financial regulatory agencies issue interagency statement on supervisory practices regarding financial institutions affected by flooding in the Midwest',\n",
       "  'pt': 'Banking and Consumer Regulatory Policy',\n",
       "  'l': '/newsevents/pressreleases/bcreg20190325a.htm'},\n",
       " {'d': '3/22/2019 5:00:00 PM',\n",
       "  't': 'Federal Reserve Board announces approval of proposals by First Interstate Bank',\n",
       "  'pt': 'Orders on Banking Applications',\n",
       "  'l': '/newsevents/pressreleases/orders20190322a.htm'},\n",
       " {'d': '3/22/2019 12:00:00 PM',\n",
       "  't': 'Federal Reserve System publishes annual financial statements',\n",
       "  'pt': 'Other Announcements',\n",
       "  'l': '/newsevents/pressreleases/other20190322a.htm'},\n",
       " {'d': '3/21/2019 12:00:00 PM',\n",
       "  't': 'Federal Reserve Board publishes report containing summary information on debit card transactions in 2017',\n",
       "  'pt': 'Other Announcements',\n",
       "  'l': '/newsevents/pressreleases/other20190321a.htm'},\n",
       " {'d': '3/21/2019 11:00:00 AM',\n",
       "  't': 'Federal Reserve Board announces termination of enforcement action with Commercial State Bank',\n",
       "  'pt': 'Enforcement Actions',\n",
       "  'l': '/newsevents/pressreleases/enforcement20190321a.htm'},\n",
       " {'d': '3/20/2019 2:00:00 PM',\n",
       "  't': 'Balance Sheet Normalization Principles and Plans',\n",
       "  'pt': 'Monetary Policy',\n",
       "  'l': '/newsevents/pressreleases/monetary20190320c.htm'},\n",
       " {'d': '3/20/2019 2:00:00 PM',\n",
       "  't': 'Federal Reserve Board and Federal Open Market Committee release economic projections from the March 19-20 FOMC meeting',\n",
       "  'pt': 'Monetary Policy',\n",
       "  'l': '/newsevents/pressreleases/monetary20190320b.htm'},\n",
       " {'d': '3/20/2019 2:00:00 PM',\n",
       "  't': 'Federal Reserve issues FOMC statement',\n",
       "  'pt': 'Monetary Policy',\n",
       "  'l': '/newsevents/pressreleases/monetary20190320a.htm'},\n",
       " {'d': '3/19/2019 12:45:00 PM',\n",
       "  't': 'Statement by Federal Reserve Board Vice Chair Richard H. Clarida on the passing of Alan Krueger',\n",
       "  'pt': 'Other Announcements',\n",
       "  'l': '/newsevents/pressreleases/other20190319a.htm'},\n",
       " {'d': '3/18/2019 1:00:00 PM',\n",
       "  't': 'Federal Reserve announces members of Fraud Definitions Work Group',\n",
       "  'pt': 'Other Announcements',\n",
       "  'l': '/newsevents/pressreleases/other20190318a.htm'},\n",
       " {'d': '3/15/2019 11:00:00 AM',\n",
       "  't': 'Agencies adopt interim final rule to facilitate transfers of legacy swaps',\n",
       "  'pt': 'Banking and Consumer Regulatory Policy',\n",
       "  'l': '/newsevents/pressreleases/bcreg20190315a.htm'},\n",
       " {'d': '3/14/2019 4:30:00 PM',\n",
       "  't': 'Federal Reserve announces seventh triennial study to examine U.S. payments usage',\n",
       "  'pt': 'Other Announcements',\n",
       "  'l': '/newsevents/pressreleases/other20190314b.htm'},\n",
       " {'d': '3/14/2019 3:30:00 PM',\n",
       "  't': 'Agencies announce two public meetings on merger of BB&T and SunTrust; public comment period extended',\n",
       "  'pt': 'Other Announcements',\n",
       "  'l': '/newsevents/pressreleases/other20190314a.htm'},\n",
       " {'d': '3/12/2019 10:00:00 AM',\n",
       "  't': 'Federal Reserve Board permanently bars two former employees of The Goldman Sachs Group, Inc. from the banking industry',\n",
       "  'pt': 'Enforcement Actions',\n",
       "  'l': '/newsevents/pressreleases/enforcement20190312a.htm'},\n",
       " {'d': '3/11/2019 3:30:00 PM',\n",
       "  't': 'Federal Reserve Board announces approval of application by CenterState Bank Corporation',\n",
       "  'pt': 'Orders on Banking Applications',\n",
       "  'l': '/newsevents/pressreleases/orders20190311a.htm'},\n",
       " {'d': '3/6/2019 5:00:00 PM',\n",
       "  't': 'Federal Reserve Board announces approval of proposals by Fifth Third Bancorp and Fifth Third Bank',\n",
       "  'pt': 'Orders on Banking Applications',\n",
       "  'l': '/newsevents/pressreleases/orders20190306a.htm'}]"
      ]
     },
     "execution_count": 240,
     "metadata": {},
     "output_type": "execute_result"
    }
   ],
   "source": [
    "# load data\n",
    "json.loads(json_file.text[0:3568] + ']')"
   ]
  },
  {
   "cell_type": "code",
   "execution_count": 241,
   "metadata": {},
   "outputs": [],
   "source": [
    "# split the data on \"Federal Reserve issues FOMC statement\"\n",
    "our_list = json_file.text.split(\"Federal Reserve issues FOMC statement\")"
   ]
  },
  {
   "cell_type": "code",
   "execution_count": 242,
   "metadata": {
    "scrolled": true
   },
   "outputs": [],
   "source": [
    "links = []\n",
    "for element in our_list[1:]:\n",
    "    links.append('https://www.federalreserve.gov/newsevents' + element.split('newsevents')[1][0:36])"
   ]
  },
  {
   "cell_type": "code",
   "execution_count": 243,
   "metadata": {},
   "outputs": [],
   "source": [
    "documents=[]\n",
    "for link in links:\n",
    "    html_page= requests.get(link) \n",
    "    soup= BeautifulSoup(html_page.content, 'html.parser')\n",
    "    article = soup.find(\"div\",attrs={\"class\":\"col-xs-12 col-sm-8 col-md-8\"}).getText()\n",
    "    documents.append(article)"
   ]
  },
  {
   "cell_type": "code",
   "execution_count": 244,
   "metadata": {},
   "outputs": [],
   "source": [
    "listoftags=[]\n",
    "for doc in documents:\n",
    "    listoftags.append([doc,'dovish'])"
   ]
  },
  {
   "cell_type": "code",
   "execution_count": 245,
   "metadata": {},
   "outputs": [],
   "source": [
    "df= pd.DataFrame(listoftags)"
   ]
  },
  {
   "cell_type": "code",
   "execution_count": 246,
   "metadata": {},
   "outputs": [],
   "source": [
    "df.to_excel(\"FOMC.xlsx\")"
   ]
  },
  {
   "cell_type": "code",
   "execution_count": 247,
   "metadata": {},
   "outputs": [],
   "source": [
    "df=pd.read_excel(\"FOMC copy.xlsx\")"
   ]
  },
  {
   "cell_type": "code",
   "execution_count": 248,
   "metadata": {},
   "outputs": [],
   "source": [
    "df.drop(columns = 'Unnamed: 2', inplace= True)"
   ]
  },
  {
   "cell_type": "code",
   "execution_count": 249,
   "metadata": {},
   "outputs": [],
   "source": [
    "df.columns = [\"Documents\", \"Category\"]"
   ]
  },
  {
   "cell_type": "code",
   "execution_count": 250,
   "metadata": {},
   "outputs": [],
   "source": [
    "def clean_data(data):\n",
    "    cleaned_data = []\n",
    "    for line in data:\n",
    "        if not '[' in line and not ']' in line:\n",
    "            for symbol in \",.?!''\\n\":\n",
    "                line = line.replace(symbol, '').lower()\n",
    "            cleaned_data.append(line)\n",
    "    return \"\".join(cleaned_data)\n",
    "data_without_brackets = clean_data(df.Documents[0])"
   ]
  },
  {
   "cell_type": "code",
   "execution_count": 251,
   "metadata": {},
   "outputs": [],
   "source": [
    "df['Documents']= df['Documents'].apply(lambda x: clean_data(x))"
   ]
  },
  {
   "cell_type": "code",
   "execution_count": 252,
   "metadata": {},
   "outputs": [],
   "source": [
    "from nltk.corpus import stopwords\n",
    "import re"
   ]
  },
  {
   "cell_type": "code",
   "execution_count": 253,
   "metadata": {},
   "outputs": [],
   "source": [
    "stopwords_list = stopwords.words('english') + list(string.punctuation)"
   ]
  },
  {
   "cell_type": "code",
   "execution_count": 254,
   "metadata": {},
   "outputs": [],
   "source": [
    "#This function returns a PARAGRAPH of words that have stopwords and numbers removed\n",
    "def process_data(Documents):\n",
    "    tokens = nltk.word_tokenize(Documents)\n",
    "    stopwords_removed = ' '.join([token.lower() for token in tokens if token not in stopwords_list])\n",
    "    pattern= r\"[a-z]+\"\n",
    "    regex_tokens = re.findall(pattern, stopwords_removed)\n",
    "    return ' '.join(regex_tokens)"
   ]
  },
  {
   "cell_type": "code",
   "execution_count": 255,
   "metadata": {},
   "outputs": [],
   "source": [
    "document_words = df['Documents'].tolist()"
   ]
  },
  {
   "cell_type": "code",
   "execution_count": 256,
   "metadata": {},
   "outputs": [],
   "source": [
    "category = df['Category'].tolist()"
   ]
  },
  {
   "cell_type": "code",
   "execution_count": 257,
   "metadata": {},
   "outputs": [],
   "source": [
    "processed_data= list(map(process_data, document_words))"
   ]
  },
  {
   "cell_type": "code",
   "execution_count": 258,
   "metadata": {
    "scrolled": false
   },
   "outputs": [],
   "source": [
    "#Process the data for each document and create a new column in the data frame with the preprocessed data\n",
    "corpus= []\n",
    "for i in processed_data:\n",
    "    corpus.append(i)"
   ]
  },
  {
   "cell_type": "code",
   "execution_count": 259,
   "metadata": {},
   "outputs": [],
   "source": [
    "df['Processed_Data'] = np.nan"
   ]
  },
  {
   "cell_type": "code",
   "execution_count": 260,
   "metadata": {},
   "outputs": [],
   "source": [
    "df['Processed_Data'] = df.apply(lambda x: corpus)"
   ]
  },
  {
   "cell_type": "code",
   "execution_count": 261,
   "metadata": {},
   "outputs": [],
   "source": [
    "def tokenize(data):\n",
    "    joined_data = ' '.join(data)\n",
    "    tokenized_data = word_tokenize(data)\n",
    "    \n",
    "    return tokenized_data\n",
    "\n",
    "tokenized_test_data = tokenize(df['Processed_Data'][0])"
   ]
  },
  {
   "cell_type": "code",
   "execution_count": 262,
   "metadata": {
    "scrolled": true
   },
   "outputs": [],
   "source": [
    "df['Tokenized_Data']= df['Processed_Data'].apply(lambda x: tokenize(x))"
   ]
  },
  {
   "cell_type": "markdown",
   "metadata": {},
   "source": [
    "## Word Tokenize and Frequency Distributions"
   ]
  },
  {
   "cell_type": "code",
   "execution_count": 263,
   "metadata": {},
   "outputs": [],
   "source": [
    "from nltk import word_tokenize, FreqDist"
   ]
  },
  {
   "cell_type": "code",
   "execution_count": 264,
   "metadata": {},
   "outputs": [],
   "source": [
    "fdist = FreqDist()\n",
    "for row in df['Tokenized_Data']:\n",
    "    for word in row:\n",
    "        fdist[word] += 1"
   ]
  },
  {
   "cell_type": "code",
   "execution_count": 265,
   "metadata": {
    "scrolled": false
   },
   "outputs": [],
   "source": [
    "count_vectorizer= CountVectorizer()"
   ]
  },
  {
   "cell_type": "code",
   "execution_count": 266,
   "metadata": {},
   "outputs": [],
   "source": [
    "processed_words_df = pd.DataFrame(df['Tokenized_Data'])\n",
    "categories_df = pd.DataFrame(category)"
   ]
  },
  {
   "cell_type": "code",
   "execution_count": 267,
   "metadata": {},
   "outputs": [],
   "source": [
    "df_model= pd.concat([processed_words_df, categories_df], axis =1, sort= False)"
   ]
  },
  {
   "cell_type": "code",
   "execution_count": 268,
   "metadata": {
    "scrolled": true
   },
   "outputs": [],
   "source": [
    "df_model.columns= ['Statement_Words', 'Category']"
   ]
  },
  {
   "cell_type": "code",
   "execution_count": 269,
   "metadata": {},
   "outputs": [],
   "source": [
    "def make_raw_doc(list_of_words):\n",
    "    return ' '.join(list(list_of_words))"
   ]
  },
  {
   "cell_type": "code",
   "execution_count": 270,
   "metadata": {},
   "outputs": [],
   "source": [
    "df_model['raw_document'] = df_model.Statement_Words.apply(lambda x: make_raw_doc(x))"
   ]
  },
  {
   "cell_type": "code",
   "execution_count": 271,
   "metadata": {},
   "outputs": [],
   "source": [
    "df_model['binary_code']= pd.get_dummies(df_model['Category'], drop_first=True)"
   ]
  },
  {
   "cell_type": "code",
   "execution_count": 272,
   "metadata": {},
   "outputs": [
    {
     "data": {
      "text/html": [
       "<div>\n",
       "<style scoped>\n",
       "    .dataframe tbody tr th:only-of-type {\n",
       "        vertical-align: middle;\n",
       "    }\n",
       "\n",
       "    .dataframe tbody tr th {\n",
       "        vertical-align: top;\n",
       "    }\n",
       "\n",
       "    .dataframe thead th {\n",
       "        text-align: right;\n",
       "    }\n",
       "</style>\n",
       "<table border=\"1\" class=\"dataframe\">\n",
       "  <thead>\n",
       "    <tr style=\"text-align: right;\">\n",
       "      <th></th>\n",
       "      <th>Statement_Words</th>\n",
       "      <th>Category</th>\n",
       "      <th>raw_document</th>\n",
       "      <th>binary_code</th>\n",
       "    </tr>\n",
       "  </thead>\n",
       "  <tbody>\n",
       "    <tr>\n",
       "      <th>0</th>\n",
       "      <td>[information, received, since, federal, open, ...</td>\n",
       "      <td>dovish</td>\n",
       "      <td>information received since federal open market...</td>\n",
       "      <td>0</td>\n",
       "    </tr>\n",
       "    <tr>\n",
       "      <th>1</th>\n",
       "      <td>[information, received, since, federal, open, ...</td>\n",
       "      <td>dovish</td>\n",
       "      <td>information received since federal open market...</td>\n",
       "      <td>0</td>\n",
       "    </tr>\n",
       "    <tr>\n",
       "      <th>2</th>\n",
       "      <td>[information, received, since, federal, open, ...</td>\n",
       "      <td>hawkish</td>\n",
       "      <td>information received since federal open market...</td>\n",
       "      <td>1</td>\n",
       "    </tr>\n",
       "    <tr>\n",
       "      <th>3</th>\n",
       "      <td>[information, received, since, federal, open, ...</td>\n",
       "      <td>dovish</td>\n",
       "      <td>information received since federal open market...</td>\n",
       "      <td>0</td>\n",
       "    </tr>\n",
       "    <tr>\n",
       "      <th>4</th>\n",
       "      <td>[information, received, since, federal, open, ...</td>\n",
       "      <td>hawkish</td>\n",
       "      <td>information received since federal open market...</td>\n",
       "      <td>1</td>\n",
       "    </tr>\n",
       "  </tbody>\n",
       "</table>\n",
       "</div>"
      ],
      "text/plain": [
       "                                     Statement_Words Category  \\\n",
       "0  [information, received, since, federal, open, ...   dovish   \n",
       "1  [information, received, since, federal, open, ...   dovish   \n",
       "2  [information, received, since, federal, open, ...  hawkish   \n",
       "3  [information, received, since, federal, open, ...   dovish   \n",
       "4  [information, received, since, federal, open, ...  hawkish   \n",
       "\n",
       "                                        raw_document  binary_code  \n",
       "0  information received since federal open market...            0  \n",
       "1  information received since federal open market...            0  \n",
       "2  information received since federal open market...            1  \n",
       "3  information received since federal open market...            0  \n",
       "4  information received since federal open market...            1  "
      ]
     },
     "execution_count": 272,
     "metadata": {},
     "output_type": "execute_result"
    }
   ],
   "source": [
    "df_model.head()"
   ]
  },
  {
   "cell_type": "code",
   "execution_count": 273,
   "metadata": {},
   "outputs": [
    {
     "name": "stderr",
     "output_type": "stream",
     "text": [
      "/anaconda3/lib/python3.7/site-packages/sklearn/model_selection/_split.py:2179: FutureWarning: From version 0.21, test_size will always complement train_size unless both are specified.\n",
      "  FutureWarning)\n"
     ]
    }
   ],
   "source": [
    "X_train, X_test, y_train, y_test = model_selection.train_test_split(df_model.raw_document, df_model.Category, train_size = .8, random_state = 0)\n",
    "\n",
    "#do we need this\n"
   ]
  },
  {
   "cell_type": "code",
   "execution_count": 274,
   "metadata": {},
   "outputs": [],
   "source": [
    "# create a count vectorizer object \n",
    "count_vect = CountVectorizer(analyzer='word', token_pattern=r'\\w{1,}')\n",
    "count_vect.fit(X_train ,y_train)\n",
    "\n",
    "# transform the training and validation data using count vectorizer object\n",
    "xtrain_count =  count_vect.transform(X_train)\n",
    "xtest_count =  count_vect.transform(X_test)\n"
   ]
  },
  {
   "cell_type": "markdown",
   "metadata": {},
   "source": [
    "## Count Vectorizing"
   ]
  },
  {
   "cell_type": "code",
   "execution_count": 275,
   "metadata": {},
   "outputs": [],
   "source": [
    "# word level tf-idf\n",
    "tfidf_vect = TfidfVectorizer(analyzer='word', token_pattern=r'\\w{1,}', max_features=5000)\n",
    "tfidf_vect.fit(X_train)\n",
    "xtrain_tfidf =  tfidf_vect.transform(X_train)\n",
    "xtest_tfidf =  tfidf_vect.transform(X_test)"
   ]
  },
  {
   "cell_type": "code",
   "execution_count": 276,
   "metadata": {},
   "outputs": [],
   "source": [
    "from sklearn.feature_extraction.text import CountVectorizer"
   ]
  },
  {
   "cell_type": "code",
   "execution_count": 277,
   "metadata": {},
   "outputs": [],
   "source": [
    "# ngram level tf-idf \n",
    "tfidf_vect_ngram = TfidfVectorizer(analyzer='word', token_pattern=r'\\w{1,}', ngram_range=(1,3), max_features=5000)\n",
    "tfidf_vect_ngram.fit(X_train)\n",
    "xtrain_tfidf_ngram =  tfidf_vect_ngram.transform(X_train)\n",
    "xtest_tfidf_ngram =  tfidf_vect_ngram.transform(X_test)"
   ]
  },
  {
   "cell_type": "code",
   "execution_count": 278,
   "metadata": {
    "scrolled": false
   },
   "outputs": [],
   "source": [
    "#create a vectorizer to ultimate create a sparse matrix of our corpus\n",
    "vectorizer = CountVectorizer()"
   ]
  },
  {
   "cell_type": "code",
   "execution_count": 279,
   "metadata": {},
   "outputs": [],
   "source": [
    "#fits a model to our corpus\n",
    "X = vectorizer.fit_transform(corpus)"
   ]
  },
  {
   "cell_type": "markdown",
   "metadata": {},
   "source": [
    "## Endogeniety"
   ]
  },
  {
   "cell_type": "code",
   "execution_count": 280,
   "metadata": {},
   "outputs": [],
   "source": [
    "sorted_wordsbyappearance = sorted(vectorizer.vocabulary_.items(), key=lambda kv: kv[1], reverse=True)"
   ]
  },
  {
   "cell_type": "code",
   "execution_count": 281,
   "metadata": {},
   "outputs": [],
   "source": [
    "for i in sorted_wordsbyappearance:\n",
    "    if i[1] > 800:\n",
    "        stopwords_list.append(i[0])      "
   ]
  },
  {
   "cell_type": "markdown",
   "metadata": {},
   "source": [
    "## Sparse Matrix and Sparsity "
   ]
  },
  {
   "cell_type": "code",
   "execution_count": 282,
   "metadata": {},
   "outputs": [
    {
     "name": "stdout",
     "output_type": "stream",
     "text": [
      "Shape of Sparse Matrix:  (63, 967)\n",
      "Amount of Non-Zero occurences:  13250\n"
     ]
    }
   ],
   "source": [
    "print('Shape of Sparse Matrix: ', X.shape)\n",
    "print('Amount of Non-Zero occurences: ', X.nnz)"
   ]
  },
  {
   "cell_type": "code",
   "execution_count": 290,
   "metadata": {},
   "outputs": [
    {
     "data": {
      "text/plain": [
       "array([[0, 0, 0, ..., 0, 0, 0],\n",
       "       [0, 0, 0, ..., 1, 0, 0],\n",
       "       [0, 0, 0, ..., 1, 0, 0],\n",
       "       ...,\n",
       "       [0, 0, 0, ..., 1, 0, 1],\n",
       "       [0, 0, 0, ..., 0, 0, 1],\n",
       "       [0, 0, 0, ..., 1, 0, 1]], dtype=int64)"
      ]
     },
     "execution_count": 290,
     "metadata": {},
     "output_type": "execute_result"
    }
   ],
   "source": [
    "X.toarray()"
   ]
  },
  {
   "cell_type": "code",
   "execution_count": 291,
   "metadata": {
    "scrolled": true
   },
   "outputs": [
    {
     "name": "stdout",
     "output_type": "stream",
     "text": [
      "sparsity: 22\n"
     ]
    }
   ],
   "source": [
    "sparsity = (100.0 * X.nnz / (X.shape[0] * X.shape[1]))\n",
    "print('sparsity:', round(sparsity))"
   ]
  },
  {
   "cell_type": "markdown",
   "metadata": {},
   "source": [
    "## Creating TD-IDF"
   ]
  },
  {
   "cell_type": "code",
   "execution_count": 292,
   "metadata": {},
   "outputs": [],
   "source": [
    "from sklearn.feature_extraction.text import TfidfTransformer"
   ]
  },
  {
   "cell_type": "code",
   "execution_count": 293,
   "metadata": {
    "scrolled": true
   },
   "outputs": [],
   "source": [
    "tfidf_transformer = TfidfTransformer().fit(X)"
   ]
  },
  {
   "cell_type": "code",
   "execution_count": 294,
   "metadata": {
    "scrolled": true
   },
   "outputs": [],
   "source": [
    "documents_tfidf = tfidf_transformer.transform(X)"
   ]
  },
  {
   "cell_type": "code",
   "execution_count": 295,
   "metadata": {},
   "outputs": [
    {
     "name": "stderr",
     "output_type": "stream",
     "text": [
      "/anaconda3/lib/python3.7/site-packages/sklearn/model_selection/_split.py:2179: FutureWarning: From version 0.21, test_size will always complement train_size unless both are specified.\n",
      "  FutureWarning)\n"
     ]
    }
   ],
   "source": [
    "X_train, X_test, y_train, y_test = model_selection.train_test_split(documents_tfidf, df_model.binary_code, train_size = .6, random_state= 0)\n"
   ]
  },
  {
   "cell_type": "markdown",
   "metadata": {},
   "source": [
    "## Handling Overfitting/Class Imbalance"
   ]
  },
  {
   "cell_type": "code",
   "execution_count": 296,
   "metadata": {},
   "outputs": [],
   "source": [
    "from imblearn.over_sampling import SMOTE, ADASYN"
   ]
  },
  {
   "cell_type": "code",
   "execution_count": 60,
   "metadata": {},
   "outputs": [],
   "source": [
    "X_resampled_BC, y_resampled_BC = SMOTE().fit_sample(documents_tfidf, df_model['binary_code']) "
   ]
  },
  {
   "cell_type": "code",
   "execution_count": 61,
   "metadata": {},
   "outputs": [],
   "source": [
    "X_resampled_Cat, y_resampled_Cat = SMOTE().fit_sample(documents_tfidf, df_model['Category']) "
   ]
  },
  {
   "cell_type": "markdown",
   "metadata": {},
   "source": [
    "### New shape after including synthetic data"
   ]
  },
  {
   "cell_type": "markdown",
   "metadata": {},
   "source": [
    "## Multinomial Naive Bayes"
   ]
  },
  {
   "cell_type": "code",
   "execution_count": 79,
   "metadata": {},
   "outputs": [],
   "source": [
    "from sklearn.naive_bayes import MultinomialNB\n",
    "from sklearn.metrics import roc_curve, auc"
   ]
  },
  {
   "cell_type": "code",
   "execution_count": 80,
   "metadata": {},
   "outputs": [],
   "source": [
    "mb_model_resampled = MultinomialNB().fit(X_resampled_Cat, y_resampled_Cat)"
   ]
  },
  {
   "cell_type": "code",
   "execution_count": 81,
   "metadata": {},
   "outputs": [
    {
     "name": "stdout",
     "output_type": "stream",
     "text": [
      "AUC: 0.926308294766821\n"
     ]
    },
    {
     "data": {
      "image/png": "[encoded data removed]",
      "text/plain": [
       "<Figure size 720x576 with 1 Axes>"
      ]
     },
     "metadata": {},
     "output_type": "display_data"
    }
   ],
   "source": [
    "import matplotlib.pyplot as plt\n",
    "import seaborn as sns\n",
    "%matplotlib inline\n",
    "\n",
    "\n",
    "y_score= mb_model_resampled.predict_proba(X_resampled_Cat)\n",
    "fpr, tpr, thresholds = roc_curve(y_resampled_BC, y_score[:,1])\n",
    "#Seaborns Beautiful Styling\n",
    "sns.set_style(\"darkgrid\", {\"axes.facecolor\": \".9\"})\n",
    "\n",
    "plt.figure(figsize=(10,8))\n",
    "lw = 2\n",
    "plt.plot(fpr, tpr, color='darkorange',\n",
    "         lw=lw, label='ROC curve')\n",
    "plt.plot([0, 1], [0, 1], color='navy', lw=lw, linestyle='--')\n",
    "plt.xlim([0.0, 1.0])\n",
    "plt.ylim([0.0, 1.05])\n",
    "plt.yticks([i/20.0 for i in range(21)])\n",
    "plt.xticks([i/20.0 for i in range(21)])\n",
    "plt.xlabel('False Positive Rate')\n",
    "plt.ylabel('True Positive Rate')\n",
    "plt.title('(ROC) Curve for MNB')\n",
    "plt.legend(loc=\"lower right\")\n",
    "print('AUC: {}'.format(auc(fpr, tpr)))\n",
    "plt.show()"
   ]
  },
  {
   "cell_type": "code",
   "execution_count": 82,
   "metadata": {
    "scrolled": true
   },
   "outputs": [
    {
     "name": "stdout",
     "output_type": "stream",
     "text": [
      "['hawkish' 'hawkish' 'hawkish' 'hawkish' 'hawkish' 'hawkish' 'hawkish'\n",
      " 'hawkish' 'hawkish' 'hawkish' 'hawkish' 'hawkish' 'hawkish' 'hawkish'\n",
      " 'hawkish' 'hawkish' 'hawkish' 'hawkish' 'hawkish' 'hawkish' 'hawkish'\n",
      " 'dovish' 'dovish' 'dovish' 'dovish' 'dovish' 'dovish' 'dovish' 'dovish'\n",
      " 'dovish' 'dovish' 'dovish' 'dovish' 'dovish' 'dovish' 'dovish' 'dovish'\n",
      " 'dovish' 'dovish' 'dovish' 'dovish' 'dovish' 'dovish' 'dovish' 'dovish'\n",
      " 'dovish' 'dovish' 'dovish' 'dovish' 'dovish' 'dovish' 'dovish' 'dovish'\n",
      " 'dovish' 'dovish' 'dovish' 'dovish' 'hawkish' 'hawkish' 'hawkish'\n",
      " 'hawkish' 'hawkish' 'hawkish' 'hawkish' 'hawkish' 'hawkish' 'hawkish'\n",
      " 'hawkish' 'hawkish' 'hawkish' 'hawkish' 'hawkish' 'hawkish' 'hawkish'\n",
      " 'hawkish' 'hawkish' 'hawkish' 'hawkish' 'hawkish' 'hawkish' 'hawkish'\n",
      " 'hawkish' 'hawkish' 'hawkish' 'hawkish' 'hawkish' 'hawkish' 'hawkish'\n",
      " 'hawkish' 'hawkish' 'hawkish' 'hawkish' 'hawkish' 'hawkish' 'hawkish'\n",
      " 'hawkish' 'hawkish' 'hawkish' 'hawkish' 'hawkish' 'hawkish' 'hawkish'\n",
      " 'hawkish' 'hawkish' 'hawkish' 'hawkish']\n"
     ]
    }
   ],
   "source": [
    "mb_all_predictions_resampled = mb_model_resampled.predict(X_resampled_Cat)\n",
    "print(mb_all_predictions_resampled)"
   ]
  },
  {
   "cell_type": "code",
   "execution_count": null,
   "metadata": {},
   "outputs": [],
   "source": []
  },
  {
   "cell_type": "code",
   "execution_count": 83,
   "metadata": {
    "scrolled": true
   },
   "outputs": [
    {
     "name": "stdout",
     "output_type": "stream",
     "text": [
      "              precision    recall  f1-score   support\n",
      "\n",
      "      dovish       1.00      0.68      0.81        53\n",
      "     hawkish       0.76      1.00      0.86        53\n",
      "\n",
      "   micro avg       0.84      0.84      0.84       106\n",
      "   macro avg       0.88      0.84      0.84       106\n",
      "weighted avg       0.88      0.84      0.84       106\n",
      "\n"
     ]
    }
   ],
   "source": [
    "print(classification_report(y_resampled_Cat, mb_all_predictions_resampled))"
   ]
  },
  {
   "cell_type": "code",
   "execution_count": 85,
   "metadata": {},
   "outputs": [
    {
     "data": {
      "text/plain": [
       "0.839622641509434"
      ]
     },
     "execution_count": 85,
     "metadata": {},
     "output_type": "execute_result"
    }
   ],
   "source": [
    "mb_model_resampled.score(X_resampled_Cat, y_resampled_Cat)"
   ]
  },
  {
   "cell_type": "code",
   "execution_count": 84,
   "metadata": {},
   "outputs": [
    {
     "data": {
      "image/png": "[encoded data removed]",
      "text/plain": [
       "<Figure size 432x288 with 2 Axes>"
      ]
     },
     "metadata": {},
     "output_type": "display_data"
    }
   ],
   "source": [
    "cf1 = confusion_matrix(y_resampled_Cat, mb_all_predictions_resampled)\n",
    "plt.imshow(cf1, cmap=plt.cm.Greens)\n",
    "\n",
    "plt.title('MultiNomial Naive Bayes Confusion Matrix')\n",
    "plt.ylabel('True label')\n",
    "plt.xlabel('Predicted label')\n",
    "\n",
    "class_names = set(y_resampled_Cat)\n",
    "tick_marks = np.arange(len(class_names))\n",
    "plt.xticks(tick_marks, class_names, rotation=45)\n",
    "plt.yticks(tick_marks, class_names)\n",
    "\n",
    "thresh = cf1.max() / 2.\n",
    "\n",
    "for i, j in product(range(cf1.shape[0]), range(cf1.shape[1])):\n",
    "    plt.text(j, i, cf1[i, j],\n",
    "         horizontalalignment=\"center\",\n",
    "         color=\"white\" if cf1[i, j] > thresh else \"black\")\n",
    "\n",
    "plt.colorbar();"
   ]
  },
  {
   "cell_type": "markdown",
   "metadata": {},
   "source": [
    "## Random Forest"
   ]
  },
  {
   "cell_type": "code",
   "execution_count": 87,
   "metadata": {},
   "outputs": [],
   "source": [
    "from sklearn.ensemble import RandomForestClassifier"
   ]
  },
  {
   "cell_type": "code",
   "execution_count": 104,
   "metadata": {},
   "outputs": [
    {
     "name": "stderr",
     "output_type": "stream",
     "text": [
      "/anaconda3/lib/python3.7/site-packages/sklearn/ensemble/forest.py:246: FutureWarning: The default value of n_estimators will change from 10 in version 0.20 to 100 in 0.22.\n",
      "  \"10 in version 0.20 to 100 in 0.22.\", FutureWarning)\n"
     ]
    }
   ],
   "source": [
    "rf_model_resampled = RandomForestClassifier(min_samples_split= 25).fit(X_resampled_Cat, y_resampled_Cat)"
   ]
  },
  {
   "cell_type": "code",
   "execution_count": 105,
   "metadata": {},
   "outputs": [
    {
     "name": "stdout",
     "output_type": "stream",
     "text": [
      "['dovish' 'dovish' 'hawkish' 'hawkish' 'hawkish' 'dovish' 'hawkish'\n",
      " 'dovish' 'hawkish' 'dovish' 'hawkish' 'dovish' 'dovish' 'dovish'\n",
      " 'hawkish' 'dovish' 'hawkish' 'hawkish' 'hawkish' 'hawkish' 'dovish'\n",
      " 'dovish' 'dovish' 'dovish' 'dovish' 'dovish' 'dovish' 'dovish' 'dovish'\n",
      " 'dovish' 'dovish' 'dovish' 'dovish' 'dovish' 'dovish' 'dovish' 'dovish'\n",
      " 'dovish' 'dovish' 'dovish' 'dovish' 'dovish' 'dovish' 'dovish' 'dovish'\n",
      " 'dovish' 'dovish' 'dovish' 'dovish' 'dovish' 'dovish' 'dovish' 'dovish'\n",
      " 'dovish' 'dovish' 'dovish' 'dovish' 'dovish' 'dovish' 'dovish' 'dovish'\n",
      " 'dovish' 'dovish' 'hawkish' 'hawkish' 'hawkish' 'hawkish' 'hawkish'\n",
      " 'hawkish' 'hawkish' 'hawkish' 'hawkish' 'hawkish' 'hawkish' 'hawkish'\n",
      " 'hawkish' 'hawkish' 'hawkish' 'hawkish' 'hawkish' 'hawkish' 'hawkish'\n",
      " 'hawkish' 'hawkish' 'hawkish' 'hawkish' 'hawkish' 'hawkish' 'hawkish'\n",
      " 'hawkish' 'hawkish' 'hawkish' 'hawkish' 'hawkish' 'hawkish' 'hawkish'\n",
      " 'hawkish' 'hawkish' 'hawkish' 'hawkish' 'hawkish' 'hawkish' 'hawkish'\n",
      " 'hawkish' 'hawkish' 'hawkish']\n"
     ]
    }
   ],
   "source": [
    "rf_all_predictions_resampled = rf_model_resampled.predict(X_resampled_Cat)\n",
    "print(rf_all_predictions_resampled)"
   ]
  },
  {
   "cell_type": "code",
   "execution_count": 106,
   "metadata": {
    "scrolled": true
   },
   "outputs": [
    {
     "name": "stdout",
     "output_type": "stream",
     "text": [
      "              precision    recall  f1-score   support\n",
      "\n",
      "      dovish       0.98      0.96      0.97        53\n",
      "     hawkish       0.96      0.98      0.97        53\n",
      "\n",
      "   micro avg       0.97      0.97      0.97       106\n",
      "   macro avg       0.97      0.97      0.97       106\n",
      "weighted avg       0.97      0.97      0.97       106\n",
      "\n"
     ]
    }
   ],
   "source": [
    "from sklearn.metrics import classification_report\n",
    "print(classification_report(y_resampled_Cat, rf_all_predictions_resampled))"
   ]
  },
  {
   "cell_type": "code",
   "execution_count": 107,
   "metadata": {},
   "outputs": [
    {
     "data": {
      "text/plain": [
       "0.9716981132075472"
      ]
     },
     "execution_count": 107,
     "metadata": {},
     "output_type": "execute_result"
    }
   ],
   "source": [
    "rf_model_resampled.score(X_resampled_Cat, y_resampled_Cat)"
   ]
  },
  {
   "cell_type": "code",
   "execution_count": 109,
   "metadata": {},
   "outputs": [
    {
     "data": {
      "image/png": "[encoded data removed]",
      "text/plain": [
       "<Figure size 432x288 with 2 Axes>"
      ]
     },
     "metadata": {},
     "output_type": "display_data"
    }
   ],
   "source": [
    "cf1 = confusion_matrix(y_resampled_Cat, rf_all_predictions_resampled)\n",
    "plt.imshow(cf1, cmap=plt.cm.Greens)\n",
    "\n",
    "plt.title('Random Forest Confusion Matrix')\n",
    "plt.ylabel('True label')\n",
    "plt.xlabel('Predicted label')\n",
    "\n",
    "class_names = set(y_resampled_Cat)\n",
    "tick_marks = np.arange(len(class_names))\n",
    "plt.xticks(tick_marks, class_names, rotation=45)\n",
    "plt.yticks(tick_marks, class_names)\n",
    "\n",
    "thresh = cf1.max() / 2.\n",
    "\n",
    "for i, j in product(range(cf1.shape[0]), range(cf1.shape[1])):\n",
    "    plt.text(j, i, cf1[i, j],\n",
    "         horizontalalignment=\"center\",\n",
    "         color=\"white\" if cf1[i, j] > thresh else \"black\")\n",
    "\n",
    "plt.colorbar();"
   ]
  },
  {
   "cell_type": "code",
   "execution_count": 115,
   "metadata": {},
   "outputs": [
    {
     "name": "stdout",
     "output_type": "stream",
     "text": [
      "AUC: 0.9982200071199715\n"
     ]
    },
    {
     "data": {
      "image/png": "[encoded data removed]",
      "text/plain": [
       "<Figure size 720x576 with 1 Axes>"
      ]
     },
     "metadata": {},
     "output_type": "display_data"
    }
   ],
   "source": [
    "import matplotlib.pyplot as plt\n",
    "import seaborn as sns\n",
    "%matplotlib inline\n",
    "\n",
    "\n",
    "y_score= rf_model_resampled.predict_proba(X_resampled_BC)\n",
    "fpr, tpr, thresholds = roc_curve(y_resampled_BC, y_score[:,1])\n",
    "#Seaborns Beautiful Styling\n",
    "sns.set_style(\"darkgrid\", {\"axes.facecolor\": \".9\"})\n",
    "\n",
    "plt.figure(figsize=(10,8))\n",
    "lw = 2\n",
    "plt.plot(fpr, tpr, color='darkorange',\n",
    "         lw=lw, label='ROC curve')\n",
    "plt.plot([0, 1], [0, 1], color='navy', lw=lw, linestyle='--')\n",
    "plt.xlim([0.0, 1.0])\n",
    "plt.ylim([0.0, 1.05])\n",
    "plt.yticks([i/20.0 for i in range(21)])\n",
    "plt.xticks([i/20.0 for i in range(21)])\n",
    "plt.xlabel('False Positive Rate')\n",
    "plt.ylabel('True Positive Rate')\n",
    "plt.title('(ROC) Curve for RandomForest')\n",
    "plt.legend(loc=\"lower right\")\n",
    "print('AUC: {}'.format(auc(fpr, tpr)))\n",
    "plt.show()"
   ]
  },
  {
   "cell_type": "markdown",
   "metadata": {},
   "source": [
    "## Logistic Regression "
   ]
  },
  {
   "cell_type": "code",
   "execution_count": 506,
   "metadata": {},
   "outputs": [],
   "source": [
    "# from sklearn.metrics import roc_curve, auc\n",
    "\n",
    "# #for various decision boundaries given the case member probabilites\n",
    "\n",
    "# #First calculate the probability scores of each of the datapoints:\n",
    "# y_score = mb_model_resampled.decision_function(X_resampled)\n",
    "\n",
    "# fpr, tpr, thresholds = roc_curve(y_resampled, y_score)\n",
    "\n",
    "# y_train_score = mb_model_resampled.decision_function(X_train)\n",
    "# train_fpr, train_tpr, thresholds = roc_curve(y_train, y_train_score)"
   ]
  },
  {
   "cell_type": "code",
   "execution_count": 117,
   "metadata": {},
   "outputs": [],
   "source": [
    "from sklearn.linear_model import LogisticRegression"
   ]
  },
  {
   "cell_type": "code",
   "execution_count": 122,
   "metadata": {},
   "outputs": [],
   "source": [
    "lr_model_resampled = LogisticRegression().fit(X_resampled_Cat,y_resampled_Cat)"
   ]
  },
  {
   "cell_type": "code",
   "execution_count": 123,
   "metadata": {},
   "outputs": [
    {
     "name": "stdout",
     "output_type": "stream",
     "text": [
      "['dovish' 'hawkish' 'hawkish' 'hawkish' 'hawkish' 'hawkish' 'hawkish'\n",
      " 'hawkish' 'hawkish' 'hawkish' 'hawkish' 'hawkish' 'hawkish' 'hawkish'\n",
      " 'hawkish' 'hawkish' 'hawkish' 'hawkish' 'hawkish' 'hawkish' 'hawkish'\n",
      " 'dovish' 'dovish' 'dovish' 'dovish' 'dovish' 'dovish' 'dovish' 'dovish'\n",
      " 'dovish' 'dovish' 'dovish' 'dovish' 'dovish' 'dovish' 'dovish' 'dovish'\n",
      " 'dovish' 'dovish' 'dovish' 'dovish' 'dovish' 'dovish' 'dovish' 'dovish'\n",
      " 'dovish' 'dovish' 'dovish' 'dovish' 'dovish' 'dovish' 'dovish' 'dovish'\n",
      " 'dovish' 'dovish' 'dovish' 'dovish' 'hawkish' 'hawkish' 'hawkish'\n",
      " 'hawkish' 'hawkish' 'hawkish' 'hawkish' 'hawkish' 'hawkish' 'hawkish'\n",
      " 'hawkish' 'hawkish' 'hawkish' 'hawkish' 'hawkish' 'hawkish' 'hawkish'\n",
      " 'hawkish' 'hawkish' 'hawkish' 'hawkish' 'hawkish' 'hawkish' 'hawkish'\n",
      " 'hawkish' 'hawkish' 'hawkish' 'hawkish' 'hawkish' 'hawkish' 'hawkish'\n",
      " 'hawkish' 'hawkish' 'hawkish' 'hawkish' 'hawkish' 'hawkish' 'hawkish'\n",
      " 'hawkish' 'hawkish' 'hawkish' 'hawkish' 'hawkish' 'hawkish' 'hawkish'\n",
      " 'hawkish' 'hawkish' 'hawkish' 'hawkish']\n"
     ]
    }
   ],
   "source": [
    "lr_all_predictions_resampled = lr_model_resampled.predict(X_resampled_Cat)\n",
    "print(lr_all_predictions_resampled)"
   ]
  },
  {
   "cell_type": "code",
   "execution_count": 125,
   "metadata": {
    "scrolled": true
   },
   "outputs": [
    {
     "name": "stdout",
     "output_type": "stream",
     "text": [
      "              precision    recall  f1-score   support\n",
      "\n",
      "      dovish       1.00      0.70      0.82        53\n",
      "     hawkish       0.77      1.00      0.87        53\n",
      "\n",
      "   micro avg       0.85      0.85      0.85       106\n",
      "   macro avg       0.88      0.85      0.85       106\n",
      "weighted avg       0.88      0.85      0.85       106\n",
      "\n"
     ]
    }
   ],
   "source": [
    "from sklearn.metrics import classification_report\n",
    "print(classification_report(y_resampled_Cat, lr_all_predictions_resampled))"
   ]
  },
  {
   "cell_type": "code",
   "execution_count": 127,
   "metadata": {},
   "outputs": [
    {
     "data": {
      "text/plain": [
       "0.8490566037735849"
      ]
     },
     "execution_count": 127,
     "metadata": {},
     "output_type": "execute_result"
    }
   ],
   "source": [
    "lr_model_resampled.score(X_resampled_Cat, y_resampled_Cat)"
   ]
  },
  {
   "cell_type": "code",
   "execution_count": 136,
   "metadata": {},
   "outputs": [
    {
     "data": {
      "image/png": "[encoded data removed]",
      "text/plain": [
       "<Figure size 432x288 with 2 Axes>"
      ]
     },
     "metadata": {},
     "output_type": "display_data"
    }
   ],
   "source": [
    "cf1 = confusion_matrix(y_resampled_Cat, lr_all_predictions_resampled)\n",
    "plt.imshow(cf1, cmap=plt.cm.Greens)\n",
    "\n",
    "plt.title('Logistic Regression Confusion Matrix')\n",
    "plt.ylabel('True label')\n",
    "plt.xlabel('Predicted label')\n",
    "\n",
    "class_names = set(y_resampled_Cat)\n",
    "tick_marks = np.arange(len(class_names))\n",
    "plt.xticks(tick_marks, class_names, rotation=45)\n",
    "plt.yticks(tick_marks, class_names)\n",
    "\n",
    "thresh = cf1.max() / 2.\n",
    "\n",
    "for i, j in product(range(cf1.shape[0]), range(cf1.shape[1])):\n",
    "    plt.text(j, i, cf1[i, j],\n",
    "         horizontalalignment=\"center\",\n",
    "         color=\"white\" if cf1[i, j] > thresh else \"black\")\n",
    "\n",
    "plt.colorbar();"
   ]
  },
  {
   "cell_type": "code",
   "execution_count": 146,
   "metadata": {},
   "outputs": [
    {
     "name": "stdout",
     "output_type": "stream",
     "text": [
      "AUC: 0.9515841936632254\n"
     ]
    },
    {
     "data": {
      "image/png": "[encoded data removed]",
      "text/plain": [
       "<Figure size 720x576 with 1 Axes>"
      ]
     },
     "metadata": {},
     "output_type": "display_data"
    }
   ],
   "source": [
    "# Your code here\n",
    "from sklearn.metrics import roc_curve, auc\n",
    "\n",
    "#for various decision boundaries given the case member probabilites\n",
    "\n",
    "#First calculate the probability scores of each of the datapoints:\n",
    "# y_score = lr_model_resampled.decision_function(X_resampled_BC)\n",
    "\n",
    "y_score= lr_model_resampled.predict_proba(X_resampled_BC)\n",
    "fpr, tpr, thresholds = roc_curve(y_resampled_BC, y_score[:,1])\n",
    "#Seaborns Beautiful Styling\n",
    "sns.set_style(\"darkgrid\", {\"axes.facecolor\": \".9\"})\n",
    "\n",
    "plt.figure(figsize=(10,8))\n",
    "lw = 2\n",
    "plt.plot(fpr, tpr, color='darkorange',\n",
    "         lw=lw, label='ROC curve')\n",
    "plt.plot([0, 1], [0, 1], color='navy', lw=lw, linestyle='--')\n",
    "plt.xlim([0.0, 1.0])\n",
    "plt.ylim([0.0, 1.05])\n",
    "plt.yticks([i/20.0 for i in range(21)])\n",
    "plt.xticks([i/20.0 for i in range(21)])\n",
    "plt.xlabel('False Positive Rate')\n",
    "plt.ylabel('True Positive Rate')\n",
    "plt.title('(ROC) Curve for Logistic Regression')\n",
    "plt.legend(loc=\"lower right\")\n",
    "print('AUC: {}'.format(auc(fpr, tpr)))\n",
    "plt.show()"
   ]
  },
  {
   "cell_type": "markdown",
   "metadata": {},
   "source": [
    "# Making Preditions with Our Model\n",
    "We will pass quotes from characters in Games of Thrones, to see if our model can predict if the character is Dovish or Hawkish."
   ]
  },
  {
   "cell_type": "code",
   "execution_count": 218,
   "metadata": {},
   "outputs": [],
   "source": [
    "game_of_thrones = {\n",
    "    'tyrion_lannister': \"My brother has his sword, King Robert has his warhammer and I have my mind...and a mind needs books as a sword needs a whetstone if it is to keep its edge. That's why I read so much Jon Snow.\",\n",
    "    'jon_snow': \"The more you give a king, the more he wants. We are walking on a bridge of ice with an abyss on either side. Pleasing one king is difficult enough, pleasing two is hardly possible.\",\n",
    "    'daenerys_targaryen': \"I am Daenerys Stormborn of House Targaryen, of the blood of Old Valyeria. I am the dragon's daughter, and I swear to you that those who would harm you will die screaming.\",\n",
    "    'joffrey_baratheon': \"I am the king! I will punish you.\",\n",
    "    'lord_of_ice_and_the_wardrobe': \"The Well of the High Castle: The War fits into the Lion's song, and shelter us human, and power. Peter was the destiny and literature is miserable. His parents are every turn, and his own transition, Borlú of the best efforts of the creature's hideousness.\"}"
   ]
  },
  {
   "cell_type": "code",
   "execution_count": 219,
   "metadata": {},
   "outputs": [],
   "source": [
    "def mb_predictions(document):\n",
    "    X = vectorizer.transform([document])\n",
    "    documents_tfidf = tfidf_transformer.transform(X)\n",
    "    return mb_model_resampled.predict(documents_tfidf)[0]"
   ]
  },
  {
   "cell_type": "code",
   "execution_count": 220,
   "metadata": {},
   "outputs": [],
   "source": [
    "def mb_got_characters():\n",
    "    for character, quote in game_of_thrones.items():\n",
    "        print(f'{\" \".join(character.title().split(\"_\"))} is {mb_predictions(quote).title()}')\n",
    "\n",
    "# def mb_got_characters():\n",
    "#     lst = []\n",
    "#     for character, quote in game_of_thrones.items():\n",
    "#         if mb_predictions(quote) == 0:\n",
    "#             lst.append(f'{character.title()}: Dovish')\n",
    "#         else:\n",
    "#             lst.append(f'{character.title()}: Hawkish')\n",
    "#     return lst"
   ]
  },
  {
   "cell_type": "code",
   "execution_count": 221,
   "metadata": {},
   "outputs": [
    {
     "name": "stdout",
     "output_type": "stream",
     "text": [
      "Tyrion Lannister is Hawkish\n",
      "Jon Snow is Dovish\n",
      "Daenerys Targaryen is Dovish\n",
      "Joffrey Baratheon is Dovish\n",
      "Lord Of Ice And The Wardrobe is Dovish\n"
     ]
    }
   ],
   "source": [
    "mb_got_characters()"
   ]
  },
  {
   "cell_type": "code",
   "execution_count": 222,
   "metadata": {},
   "outputs": [],
   "source": [
    "def got_characters_predictions(model):\n",
    "    for character, quote in game_of_thrones.items():\n",
    "        if model== 'mb':\n",
    "            print(f'{\" \".join(character.title().split(\"_\"))} is {mb_predictions(quote).title()}')\n",
    "        elif model == 'lr':\n",
    "            print(f'{\" \".join(character.title().split(\"_\"))} is {lr_predictions(quote).title()}')     \n",
    "        elif model == 'rf':\n",
    "            print(f'{\" \".join(character.title().split(\"_\"))} is {rf_predictions(quote).title()}')\n",
    "        else:\n",
    "            print('This is not a recognizable model')"
   ]
  },
  {
   "cell_type": "code",
   "execution_count": 230,
   "metadata": {},
   "outputs": [
    {
     "name": "stdout",
     "output_type": "stream",
     "text": [
      "Tyrion Lannister is Hawkish\n",
      "Jon Snow is Dovish\n",
      "Daenerys Targaryen is Dovish\n",
      "Joffrey Baratheon is Dovish\n",
      "Lord Of Ice And The Wardrobe is Dovish\n"
     ]
    }
   ],
   "source": [
    "got_characters_predictions('mb')"
   ]
  }
 ],
 "metadata": {
  "kernelspec": {
   "display_name": "Python 3",
   "language": "python",
   "name": "python3"
  },
  "language_info": {
   "codemirror_mode": {
    "name": "ipython",
    "version": 3
   },
   "file_extension": ".py",
   "mimetype": "text/x-python",
   "name": "python",
   "nbconvert_exporter": "python",
   "pygments_lexer": "ipython3",
   "version": "3.7.1"
  }
 },
 "nbformat": 4,
 "nbformat_minor": 2
}
