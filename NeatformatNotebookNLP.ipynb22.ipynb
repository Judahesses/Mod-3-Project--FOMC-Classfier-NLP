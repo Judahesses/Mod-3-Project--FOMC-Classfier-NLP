{
 "cells": [
  {
   "cell_type": "code",
   "execution_count": 1,
   "metadata": {},
   "outputs": [
    {
     "name": "stderr",
     "output_type": "stream",
     "text": [
      "[nltk_data] Downloading package punkt to\n",
      "[nltk_data]     /Users/marcschneider/nltk_data...\n",
      "[nltk_data]   Package punkt is already up-to-date!\n"
     ]
    }
   ],
   "source": [
    "from bs4 import BeautifulSoup\n",
    "import requests\n",
    "import re\n",
    "import pandas as pd\n",
    "import json\n",
    "import numpy as np\n",
    "from mpl_toolkits.mplot3d import Axes3D\n",
    "import matplotlib.pyplot as plt\n",
    "%matplotlib inline\n",
    "from sklearn.manifold import TSNE\n",
    "from nltk.tokenize import word_tokenize\n",
    "import nltk\n",
    "from sklearn import model_selection, preprocessing, linear_model, naive_bayes, metrics, svm\n",
    "import string\n",
    "from sklearn.feature_extraction.text import TfidfVectorizer\n",
    "from sklearn.metrics import accuracy_score\n",
    "from sklearn.datasets import fetch_20newsgroups\n",
    "from sklearn import model_selection, preprocessing, linear_model, naive_bayes, metrics, svm\n",
    "from sklearn import decomposition, ensemble\n",
    "from sklearn.metrics import classification_report\n",
    "from sklearn.metrics import confusion_matrix\n",
    "from itertools import product\n",
    "nltk.download('punkt')\n",
    "np.random.seed(0)"
   ]
  },
  {
   "cell_type": "code",
   "execution_count": 2,
   "metadata": {},
   "outputs": [
    {
     "name": "stdout",
     "output_type": "stream",
     "text": [
      "Requirement already satisfied: imblearn in /anaconda3/lib/python3.7/site-packages (0.0)\n",
      "Requirement already satisfied: imbalanced-learn in /anaconda3/lib/python3.7/site-packages (from imblearn) (0.4.3)\n",
      "Requirement already satisfied: scikit-learn>=0.20 in /anaconda3/lib/python3.7/site-packages (from imbalanced-learn->imblearn) (0.20.1)\n",
      "Requirement already satisfied: numpy>=1.8.2 in /anaconda3/lib/python3.7/site-packages (from imbalanced-learn->imblearn) (1.15.4)\n",
      "Requirement already satisfied: scipy>=0.13.3 in /anaconda3/lib/python3.7/site-packages (from imbalanced-learn->imblearn) (1.1.0)\n"
     ]
    }
   ],
   "source": [
    "!pip install imblearn"
   ]
  },
  {
   "cell_type": "code",
   "execution_count": 3,
   "metadata": {},
   "outputs": [],
   "source": [
    "#retrieving the url for FOMC Statement\n",
    "html_page= requests.get('https://www.federalreserve.gov/newsevents/pressreleases/monetary20190320a.htm') \n",
    "soup= BeautifulSoup(html_page.content, 'html.parser')"
   ]
  },
  {
   "cell_type": "code",
   "execution_count": 4,
   "metadata": {},
   "outputs": [
    {
     "name": "stdout",
     "output_type": "stream",
     "text": [
      "<!DOCTYPE doctype html>\n",
      "<html class=\"no-js\" lang=\"en\">\n",
      " <head>\n",
      "  <meta charset=\"utf-8\"/>\n",
      "  <meta content=\"IE=edge\" http-equiv=\"X-UA-Compatible\"/>\n",
      "  <meta content=\"width=device-width, initial-scale=1.0, minimum-scale=1.0 maximum-scale=1.6, user-scalable=1\" name=\"viewport\"/>\n",
      "  <meta content=\" Information received since the Federal Open Market Committee met in January indicates that the labor market remains strong but that growth of economic activity\" name=\"description\">\n",
      "   <meta content=\"Federal Reserve issues FOMC statement\" property=\"og:title\">\n",
      "    <meta content=\"Board of Governors of the Federal Reserve System\" property=\"og:site_name\">\n",
      "     <meta content=\"article\" property=\"og:type\"/>\n",
      "     <meta content=\" Information received since the Federal Open Market Committee met in January indicates that the labor market remains strong but that growth of economic activity\" property=\"og:description\"/>\n",
      "     <meta content=\"\" property=\"og:image\"/>\n",
      "     <meta content=\"summary\" name=\"twitter:card\"/>\n",
      "\n"
     ]
    }
   ],
   "source": [
    "#preview the soup... MMM soup\n",
    "print(soup.prettify()[:1000])"
   ]
  },
  {
   "cell_type": "code",
   "execution_count": 5,
   "metadata": {},
   "outputs": [],
   "source": [
    "#search for the text in the article, isolate and save text\n",
    "article = soup.find(\"div\",attrs={\"class\":\"col-xs-12 col-sm-8 col-md-8\"}).getText()"
   ]
  },
  {
   "cell_type": "code",
   "execution_count": 6,
   "metadata": {},
   "outputs": [],
   "source": [
    "# get json data from federal reserve \n",
    "r = requests.get('https://www.federalreserve.gov/json/ne-press.json')"
   ]
  },
  {
   "cell_type": "code",
   "execution_count": 7,
   "metadata": {},
   "outputs": [],
   "source": [
    "# federal reserve json content\n",
    "c = r.content"
   ]
  },
  {
   "cell_type": "code",
   "execution_count": 8,
   "metadata": {},
   "outputs": [],
   "source": [
    "# clean up data using beautiful soup\n",
    "json_file = BeautifulSoup(c)"
   ]
  },
  {
   "cell_type": "code",
   "execution_count": 9,
   "metadata": {},
   "outputs": [
    {
     "data": {
      "text/plain": [
       "'[{\"d\":\"3/28/2019 4:30:00 PM\",\"t\":\"Federal Reserve Board releases document providing additional information on its stress testing program\",\"pt\":\"Banking and Consumer Regulatory Policy\",\"l\":\"/newsevents/pressreleases/bcreg20190328a.htm\"},{\"d\":\"3/25/2019 2:00:00 PM\",\"t\":\"Federal and state financial regulatory agencies issue interagency statement on supervisory practices regarding financial institutions affected by flooding in the Midwest\",\"pt\":\"Banking and Consumer Regulatory Policy\",\"l\":\"/newsevents/pressreleases/bcreg20190325a.htm\"},{\"d\":\"3/22/2019 5:00:00 PM\",\"t\":\"Federal Reserve Board announces approval of proposals by First Interstate Bank\",\"pt\":\"Orders on Banking Applications\",\"l\":\"/newsevents/pressreleases/orders20190322a.htm\"},{\"d\":\"3/22/2019 12:00:00 PM\",\"t\":\"Federal Reserve System publishes annual financial statements\",\"pt\":\"Other Announcements\",\"l\":\"/newsevents/pressreleases/other20190322a.htm\"},{\"d\":\"3/21/2019 12:00:00 PM\",\"t\":\"Federal Reserve Board publishes report containing summary information on debit card transactions in 2017\",\"pt\":\"Other Announcements\",\"l\":\"/newsevents/pressreleases/other20190321a.htm\"},{\"d\":\"3/21/2019 11:00:00 AM\",\"t\":\"Federal Reserve Board announces termination of enforcement action with Commercial State Bank\",\"pt\":\"Enforcement Actions\",\"l\":\"/newsevents/pressreleases/enforcement20190321a.htm\"},{\"d\":\"3/20/2019 2:00:00 PM\",\"t\":\"Balance Sheet Normalization Principles and Plans\",\"pt\":\"Monetary Policy\",\"l\":\"/newsevents/pressreleases/monetary20190320c.htm\"},{\"d\":\"3/20/2019 2:00:00 PM\",\"t\":\"Federal Reserve Board and Federal Open Market Committee release economic projections from the March 19-20 FOMC meeting\",\"pt\":\"Monetary Policy\",\"l\":\"/newsevents/pressreleases/monetary20190320b.htm\"},{\"d\":\"3/20/2019 2:00:00 PM\",\"t\":\"Federal Reserve issues FOMC statement\",\"pt\":\"Monetary Policy\",\"l\":\"/newsevents/pressreleases/monetary20190320a.htm\"},{\"d\":\"3/19/2019 12:45:00 PM\",\"t\":\"Statement by Federal Reserve Board Vice Chair Richard H. Clarida on the passing of Alan Krueger\",\"pt\":\"Other Announcements\",\"l\":\"/newsevents/pressreleases/other20190319a.htm\"},{\"d\":\"3/18/2019 1:00:00 PM\",\"t\":\"Federal Reserve announces members of Fraud Definitions Work Group\",\"pt\":\"Other Announcements\",\"l\":\"/newsevents/pressreleases/other20190318a.htm\"},{\"d\":\"3/15/2019 11:00:00 AM\",\"t\":\"Agencies adopt interim final rule to facilitate transfers of legacy swaps\",\"pt\":\"Banking and Consumer Regulatory Policy\",\"l\":\"/newsevents/pressreleases/bcreg20190315a.htm\"},{\"d\":\"3/14/2019 4:30:00 PM\",\"t\":\"Federal Reserve announces seventh triennial study to examine U.S. payments usage\",\"pt\":\"Other Announcements\",\"l\":\"/newsevents/pressreleases/other20190314b.htm\"},{\"d\":\"3/14/2019 3:30:00 PM\",\"t\":\"Agencies announce two public meetings on merger of BB&T and SunTrust; public comment period extended\",\"pt\":\"Other Announcements\",\"l\":\"/newsevents/pressreleases/other20190314a.htm\"},{\"d\":\"3/12/2019 10:00:00 AM\",\"t\":\"Federal Reserve Board permanently bars two former employees of The Goldman Sachs Group, Inc. from the banking industry\",\"pt\":\"Enforcement Actions\",\"l\":\"/newsevents/pressreleases/enforcement20190312a.htm\"},{\"d\":\"3/11/2019 3:30:00 PM\",\"t\":\"Federal Reserve Board announces approval of application by CenterState Bank Corporation\",\"pt\":\"Orders on Banking Applications\",\"l\":\"/newsevents/pressreleases/orders20190311a.htm\"},{\"d\":\"3/6/2019 5:00:00 PM\",\"t\":\"Federal Reserve Board announces approval of proposals by Fifth Third Bancorp and Fifth Third Bank\",\"pt\":\"Orders on Banking Applications\",\"l\":\"/newsevents/pressreleases/orders20190306a.htm\"}'"
      ]
     },
     "execution_count": 9,
     "metadata": {},
     "output_type": "execute_result"
    }
   ],
   "source": [
    "json_file.text[0:3568]"
   ]
  },
  {
   "cell_type": "code",
   "execution_count": 10,
   "metadata": {},
   "outputs": [
    {
     "data": {
      "text/plain": [
       "[{'d': '3/28/2019 4:30:00 PM',\n",
       "  't': 'Federal Reserve Board releases document providing additional information on its stress testing program',\n",
       "  'pt': 'Banking and Consumer Regulatory Policy',\n",
       "  'l': '/newsevents/pressreleases/bcreg20190328a.htm'},\n",
       " {'d': '3/25/2019 2:00:00 PM',\n",
       "  't': 'Federal and state financial regulatory agencies issue interagency statement on supervisory practices regarding financial institutions affected by flooding in the Midwest',\n",
       "  'pt': 'Banking and Consumer Regulatory Policy',\n",
       "  'l': '/newsevents/pressreleases/bcreg20190325a.htm'},\n",
       " {'d': '3/22/2019 5:00:00 PM',\n",
       "  't': 'Federal Reserve Board announces approval of proposals by First Interstate Bank',\n",
       "  'pt': 'Orders on Banking Applications',\n",
       "  'l': '/newsevents/pressreleases/orders20190322a.htm'},\n",
       " {'d': '3/22/2019 12:00:00 PM',\n",
       "  't': 'Federal Reserve System publishes annual financial statements',\n",
       "  'pt': 'Other Announcements',\n",
       "  'l': '/newsevents/pressreleases/other20190322a.htm'},\n",
       " {'d': '3/21/2019 12:00:00 PM',\n",
       "  't': 'Federal Reserve Board publishes report containing summary information on debit card transactions in 2017',\n",
       "  'pt': 'Other Announcements',\n",
       "  'l': '/newsevents/pressreleases/other20190321a.htm'},\n",
       " {'d': '3/21/2019 11:00:00 AM',\n",
       "  't': 'Federal Reserve Board announces termination of enforcement action with Commercial State Bank',\n",
       "  'pt': 'Enforcement Actions',\n",
       "  'l': '/newsevents/pressreleases/enforcement20190321a.htm'},\n",
       " {'d': '3/20/2019 2:00:00 PM',\n",
       "  't': 'Balance Sheet Normalization Principles and Plans',\n",
       "  'pt': 'Monetary Policy',\n",
       "  'l': '/newsevents/pressreleases/monetary20190320c.htm'},\n",
       " {'d': '3/20/2019 2:00:00 PM',\n",
       "  't': 'Federal Reserve Board and Federal Open Market Committee release economic projections from the March 19-20 FOMC meeting',\n",
       "  'pt': 'Monetary Policy',\n",
       "  'l': '/newsevents/pressreleases/monetary20190320b.htm'},\n",
       " {'d': '3/20/2019 2:00:00 PM',\n",
       "  't': 'Federal Reserve issues FOMC statement',\n",
       "  'pt': 'Monetary Policy',\n",
       "  'l': '/newsevents/pressreleases/monetary20190320a.htm'},\n",
       " {'d': '3/19/2019 12:45:00 PM',\n",
       "  't': 'Statement by Federal Reserve Board Vice Chair Richard H. Clarida on the passing of Alan Krueger',\n",
       "  'pt': 'Other Announcements',\n",
       "  'l': '/newsevents/pressreleases/other20190319a.htm'},\n",
       " {'d': '3/18/2019 1:00:00 PM',\n",
       "  't': 'Federal Reserve announces members of Fraud Definitions Work Group',\n",
       "  'pt': 'Other Announcements',\n",
       "  'l': '/newsevents/pressreleases/other20190318a.htm'},\n",
       " {'d': '3/15/2019 11:00:00 AM',\n",
       "  't': 'Agencies adopt interim final rule to facilitate transfers of legacy swaps',\n",
       "  'pt': 'Banking and Consumer Regulatory Policy',\n",
       "  'l': '/newsevents/pressreleases/bcreg20190315a.htm'},\n",
       " {'d': '3/14/2019 4:30:00 PM',\n",
       "  't': 'Federal Reserve announces seventh triennial study to examine U.S. payments usage',\n",
       "  'pt': 'Other Announcements',\n",
       "  'l': '/newsevents/pressreleases/other20190314b.htm'},\n",
       " {'d': '3/14/2019 3:30:00 PM',\n",
       "  't': 'Agencies announce two public meetings on merger of BB&T and SunTrust; public comment period extended',\n",
       "  'pt': 'Other Announcements',\n",
       "  'l': '/newsevents/pressreleases/other20190314a.htm'},\n",
       " {'d': '3/12/2019 10:00:00 AM',\n",
       "  't': 'Federal Reserve Board permanently bars two former employees of The Goldman Sachs Group, Inc. from the banking industry',\n",
       "  'pt': 'Enforcement Actions',\n",
       "  'l': '/newsevents/pressreleases/enforcement20190312a.htm'},\n",
       " {'d': '3/11/2019 3:30:00 PM',\n",
       "  't': 'Federal Reserve Board announces approval of application by CenterState Bank Corporation',\n",
       "  'pt': 'Orders on Banking Applications',\n",
       "  'l': '/newsevents/pressreleases/orders20190311a.htm'},\n",
       " {'d': '3/6/2019 5:00:00 PM',\n",
       "  't': 'Federal Reserve Board announces approval of proposals by Fifth Third Bancorp and Fifth Third Bank',\n",
       "  'pt': 'Orders on Banking Applications',\n",
       "  'l': '/newsevents/pressreleases/orders20190306a.htm'}]"
      ]
     },
     "execution_count": 10,
     "metadata": {},
     "output_type": "execute_result"
    }
   ],
   "source": [
    "# load data\n",
    "json.loads(json_file.text[0:3568]+ ']')"
   ]
  },
  {
   "cell_type": "markdown",
   "metadata": {},
   "source": [
    "># SAVED A COPY OF DATA AS JSON file for future use as of 03/28/2019\n",
    ">with open(\"modFOMCdata.json\", \"w\") as fp:\n",
    "    json.dump(tosavejson, fp) \n",
    "    \n",
    ">reference the json file if there are issues"
   ]
  },
  {
   "cell_type": "code",
   "execution_count": 11,
   "metadata": {},
   "outputs": [],
   "source": [
    "# split the data on \"Federal Reserve issues FOMC statement\"\n",
    "our_list = json_file.text.split(\"Federal Reserve issues FOMC statement\")"
   ]
  },
  {
   "cell_type": "code",
   "execution_count": 12,
   "metadata": {
    "scrolled": true
   },
   "outputs": [],
   "source": [
    "links = []\n",
    "for element in our_list[1:]:\n",
    "    links.append('https://www.federalreserve.gov/newsevents' + element.split('newsevents')[1][0:36])"
   ]
  },
  {
   "cell_type": "code",
   "execution_count": 13,
   "metadata": {},
   "outputs": [
    {
     "ename": "KeyboardInterrupt",
     "evalue": "",
     "output_type": "error",
     "traceback": [
      "\u001b[0;31m---------------------------------------------------------------------------\u001b[0m",
      "\u001b[0;31mKeyboardInterrupt\u001b[0m                         Traceback (most recent call last)",
      "\u001b[0;32m<ipython-input-13-1a8ad589f3a4>\u001b[0m in \u001b[0;36m<module>\u001b[0;34m()\u001b[0m\n\u001b[1;32m      1\u001b[0m \u001b[0mdocuments\u001b[0m\u001b[0;34m=\u001b[0m\u001b[0;34m[\u001b[0m\u001b[0;34m]\u001b[0m\u001b[0;34m\u001b[0m\u001b[0m\n\u001b[1;32m      2\u001b[0m \u001b[0;32mfor\u001b[0m \u001b[0mlink\u001b[0m \u001b[0;32min\u001b[0m \u001b[0mlinks\u001b[0m\u001b[0;34m:\u001b[0m\u001b[0;34m\u001b[0m\u001b[0m\n\u001b[0;32m----> 3\u001b[0;31m     \u001b[0mhtml_page\u001b[0m\u001b[0;34m=\u001b[0m \u001b[0mrequests\u001b[0m\u001b[0;34m.\u001b[0m\u001b[0mget\u001b[0m\u001b[0;34m(\u001b[0m\u001b[0mlink\u001b[0m\u001b[0;34m)\u001b[0m\u001b[0;34m\u001b[0m\u001b[0m\n\u001b[0m\u001b[1;32m      4\u001b[0m     \u001b[0msoup\u001b[0m\u001b[0;34m=\u001b[0m \u001b[0mBeautifulSoup\u001b[0m\u001b[0;34m(\u001b[0m\u001b[0mhtml_page\u001b[0m\u001b[0;34m.\u001b[0m\u001b[0mcontent\u001b[0m\u001b[0;34m,\u001b[0m \u001b[0;34m'html.parser'\u001b[0m\u001b[0;34m)\u001b[0m\u001b[0;34m\u001b[0m\u001b[0m\n\u001b[1;32m      5\u001b[0m     \u001b[0marticle\u001b[0m \u001b[0;34m=\u001b[0m \u001b[0msoup\u001b[0m\u001b[0;34m.\u001b[0m\u001b[0mfind\u001b[0m\u001b[0;34m(\u001b[0m\u001b[0;34m\"div\"\u001b[0m\u001b[0;34m,\u001b[0m\u001b[0mattrs\u001b[0m\u001b[0;34m=\u001b[0m\u001b[0;34m{\u001b[0m\u001b[0;34m\"class\"\u001b[0m\u001b[0;34m:\u001b[0m\u001b[0;34m\"col-xs-12 col-sm-8 col-md-8\"\u001b[0m\u001b[0;34m}\u001b[0m\u001b[0;34m)\u001b[0m\u001b[0;34m.\u001b[0m\u001b[0mgetText\u001b[0m\u001b[0;34m(\u001b[0m\u001b[0;34m)\u001b[0m\u001b[0;34m\u001b[0m\u001b[0m\n",
      "\u001b[0;32m/anaconda3/envs/learn-env/lib/python3.6/site-packages/requests/api.py\u001b[0m in \u001b[0;36mget\u001b[0;34m(url, params, **kwargs)\u001b[0m\n\u001b[1;32m     70\u001b[0m \u001b[0;34m\u001b[0m\u001b[0m\n\u001b[1;32m     71\u001b[0m     \u001b[0mkwargs\u001b[0m\u001b[0;34m.\u001b[0m\u001b[0msetdefault\u001b[0m\u001b[0;34m(\u001b[0m\u001b[0;34m'allow_redirects'\u001b[0m\u001b[0;34m,\u001b[0m \u001b[0;32mTrue\u001b[0m\u001b[0;34m)\u001b[0m\u001b[0;34m\u001b[0m\u001b[0m\n\u001b[0;32m---> 72\u001b[0;31m     \u001b[0;32mreturn\u001b[0m \u001b[0mrequest\u001b[0m\u001b[0;34m(\u001b[0m\u001b[0;34m'get'\u001b[0m\u001b[0;34m,\u001b[0m \u001b[0murl\u001b[0m\u001b[0;34m,\u001b[0m \u001b[0mparams\u001b[0m\u001b[0;34m=\u001b[0m\u001b[0mparams\u001b[0m\u001b[0;34m,\u001b[0m \u001b[0;34m**\u001b[0m\u001b[0mkwargs\u001b[0m\u001b[0;34m)\u001b[0m\u001b[0;34m\u001b[0m\u001b[0m\n\u001b[0m\u001b[1;32m     73\u001b[0m \u001b[0;34m\u001b[0m\u001b[0m\n\u001b[1;32m     74\u001b[0m \u001b[0;34m\u001b[0m\u001b[0m\n",
      "\u001b[0;32m/anaconda3/envs/learn-env/lib/python3.6/site-packages/requests/api.py\u001b[0m in \u001b[0;36mrequest\u001b[0;34m(method, url, **kwargs)\u001b[0m\n\u001b[1;32m     56\u001b[0m     \u001b[0;31m# cases, and look like a memory leak in others.\u001b[0m\u001b[0;34m\u001b[0m\u001b[0;34m\u001b[0m\u001b[0m\n\u001b[1;32m     57\u001b[0m     \u001b[0;32mwith\u001b[0m \u001b[0msessions\u001b[0m\u001b[0;34m.\u001b[0m\u001b[0mSession\u001b[0m\u001b[0;34m(\u001b[0m\u001b[0;34m)\u001b[0m \u001b[0;32mas\u001b[0m \u001b[0msession\u001b[0m\u001b[0;34m:\u001b[0m\u001b[0;34m\u001b[0m\u001b[0m\n\u001b[0;32m---> 58\u001b[0;31m         \u001b[0;32mreturn\u001b[0m \u001b[0msession\u001b[0m\u001b[0;34m.\u001b[0m\u001b[0mrequest\u001b[0m\u001b[0;34m(\u001b[0m\u001b[0mmethod\u001b[0m\u001b[0;34m=\u001b[0m\u001b[0mmethod\u001b[0m\u001b[0;34m,\u001b[0m \u001b[0murl\u001b[0m\u001b[0;34m=\u001b[0m\u001b[0murl\u001b[0m\u001b[0;34m,\u001b[0m \u001b[0;34m**\u001b[0m\u001b[0mkwargs\u001b[0m\u001b[0;34m)\u001b[0m\u001b[0;34m\u001b[0m\u001b[0m\n\u001b[0m\u001b[1;32m     59\u001b[0m \u001b[0;34m\u001b[0m\u001b[0m\n\u001b[1;32m     60\u001b[0m \u001b[0;34m\u001b[0m\u001b[0m\n",
      "\u001b[0;32m/anaconda3/envs/learn-env/lib/python3.6/site-packages/requests/sessions.py\u001b[0m in \u001b[0;36mrequest\u001b[0;34m(self, method, url, params, data, headers, cookies, files, auth, timeout, allow_redirects, proxies, hooks, stream, verify, cert, json)\u001b[0m\n\u001b[1;32m    510\u001b[0m         }\n\u001b[1;32m    511\u001b[0m         \u001b[0msend_kwargs\u001b[0m\u001b[0;34m.\u001b[0m\u001b[0mupdate\u001b[0m\u001b[0;34m(\u001b[0m\u001b[0msettings\u001b[0m\u001b[0;34m)\u001b[0m\u001b[0;34m\u001b[0m\u001b[0m\n\u001b[0;32m--> 512\u001b[0;31m         \u001b[0mresp\u001b[0m \u001b[0;34m=\u001b[0m \u001b[0mself\u001b[0m\u001b[0;34m.\u001b[0m\u001b[0msend\u001b[0m\u001b[0;34m(\u001b[0m\u001b[0mprep\u001b[0m\u001b[0;34m,\u001b[0m \u001b[0;34m**\u001b[0m\u001b[0msend_kwargs\u001b[0m\u001b[0;34m)\u001b[0m\u001b[0;34m\u001b[0m\u001b[0m\n\u001b[0m\u001b[1;32m    513\u001b[0m \u001b[0;34m\u001b[0m\u001b[0m\n\u001b[1;32m    514\u001b[0m         \u001b[0;32mreturn\u001b[0m \u001b[0mresp\u001b[0m\u001b[0;34m\u001b[0m\u001b[0m\n",
      "\u001b[0;32m/anaconda3/envs/learn-env/lib/python3.6/site-packages/requests/sessions.py\u001b[0m in \u001b[0;36msend\u001b[0;34m(self, request, **kwargs)\u001b[0m\n\u001b[1;32m    620\u001b[0m \u001b[0;34m\u001b[0m\u001b[0m\n\u001b[1;32m    621\u001b[0m         \u001b[0;31m# Send the request\u001b[0m\u001b[0;34m\u001b[0m\u001b[0;34m\u001b[0m\u001b[0m\n\u001b[0;32m--> 622\u001b[0;31m         \u001b[0mr\u001b[0m \u001b[0;34m=\u001b[0m \u001b[0madapter\u001b[0m\u001b[0;34m.\u001b[0m\u001b[0msend\u001b[0m\u001b[0;34m(\u001b[0m\u001b[0mrequest\u001b[0m\u001b[0;34m,\u001b[0m \u001b[0;34m**\u001b[0m\u001b[0mkwargs\u001b[0m\u001b[0;34m)\u001b[0m\u001b[0;34m\u001b[0m\u001b[0m\n\u001b[0m\u001b[1;32m    623\u001b[0m \u001b[0;34m\u001b[0m\u001b[0m\n\u001b[1;32m    624\u001b[0m         \u001b[0;31m# Total elapsed time of the request (approximately)\u001b[0m\u001b[0;34m\u001b[0m\u001b[0;34m\u001b[0m\u001b[0m\n",
      "\u001b[0;32m/anaconda3/envs/learn-env/lib/python3.6/site-packages/requests/adapters.py\u001b[0m in \u001b[0;36msend\u001b[0;34m(self, request, stream, timeout, verify, cert, proxies)\u001b[0m\n\u001b[1;32m    443\u001b[0m                     \u001b[0mdecode_content\u001b[0m\u001b[0;34m=\u001b[0m\u001b[0;32mFalse\u001b[0m\u001b[0;34m,\u001b[0m\u001b[0;34m\u001b[0m\u001b[0m\n\u001b[1;32m    444\u001b[0m                     \u001b[0mretries\u001b[0m\u001b[0;34m=\u001b[0m\u001b[0mself\u001b[0m\u001b[0;34m.\u001b[0m\u001b[0mmax_retries\u001b[0m\u001b[0;34m,\u001b[0m\u001b[0;34m\u001b[0m\u001b[0m\n\u001b[0;32m--> 445\u001b[0;31m                     \u001b[0mtimeout\u001b[0m\u001b[0;34m=\u001b[0m\u001b[0mtimeout\u001b[0m\u001b[0;34m\u001b[0m\u001b[0m\n\u001b[0m\u001b[1;32m    446\u001b[0m                 )\n\u001b[1;32m    447\u001b[0m \u001b[0;34m\u001b[0m\u001b[0m\n",
      "\u001b[0;32m/anaconda3/envs/learn-env/lib/python3.6/site-packages/urllib3/connectionpool.py\u001b[0m in \u001b[0;36murlopen\u001b[0;34m(self, method, url, body, headers, retries, redirect, assert_same_host, timeout, pool_timeout, release_conn, chunked, body_pos, **response_kw)\u001b[0m\n\u001b[1;32m    598\u001b[0m                                                   \u001b[0mtimeout\u001b[0m\u001b[0;34m=\u001b[0m\u001b[0mtimeout_obj\u001b[0m\u001b[0;34m,\u001b[0m\u001b[0;34m\u001b[0m\u001b[0m\n\u001b[1;32m    599\u001b[0m                                                   \u001b[0mbody\u001b[0m\u001b[0;34m=\u001b[0m\u001b[0mbody\u001b[0m\u001b[0;34m,\u001b[0m \u001b[0mheaders\u001b[0m\u001b[0;34m=\u001b[0m\u001b[0mheaders\u001b[0m\u001b[0;34m,\u001b[0m\u001b[0;34m\u001b[0m\u001b[0m\n\u001b[0;32m--> 600\u001b[0;31m                                                   chunked=chunked)\n\u001b[0m\u001b[1;32m    601\u001b[0m \u001b[0;34m\u001b[0m\u001b[0m\n\u001b[1;32m    602\u001b[0m             \u001b[0;31m# If we're going to release the connection in ``finally:``, then\u001b[0m\u001b[0;34m\u001b[0m\u001b[0;34m\u001b[0m\u001b[0m\n",
      "\u001b[0;32m/anaconda3/envs/learn-env/lib/python3.6/site-packages/urllib3/connectionpool.py\u001b[0m in \u001b[0;36m_make_request\u001b[0;34m(self, conn, method, url, timeout, chunked, **httplib_request_kw)\u001b[0m\n\u001b[1;32m    341\u001b[0m         \u001b[0;31m# Trigger any extra validation we need to do.\u001b[0m\u001b[0;34m\u001b[0m\u001b[0;34m\u001b[0m\u001b[0m\n\u001b[1;32m    342\u001b[0m         \u001b[0;32mtry\u001b[0m\u001b[0;34m:\u001b[0m\u001b[0;34m\u001b[0m\u001b[0m\n\u001b[0;32m--> 343\u001b[0;31m             \u001b[0mself\u001b[0m\u001b[0;34m.\u001b[0m\u001b[0m_validate_conn\u001b[0m\u001b[0;34m(\u001b[0m\u001b[0mconn\u001b[0m\u001b[0;34m)\u001b[0m\u001b[0;34m\u001b[0m\u001b[0m\n\u001b[0m\u001b[1;32m    344\u001b[0m         \u001b[0;32mexcept\u001b[0m \u001b[0;34m(\u001b[0m\u001b[0mSocketTimeout\u001b[0m\u001b[0;34m,\u001b[0m \u001b[0mBaseSSLError\u001b[0m\u001b[0;34m)\u001b[0m \u001b[0;32mas\u001b[0m \u001b[0me\u001b[0m\u001b[0;34m:\u001b[0m\u001b[0;34m\u001b[0m\u001b[0m\n\u001b[1;32m    345\u001b[0m             \u001b[0;31m# Py2 raises this as a BaseSSLError, Py3 raises it as socket timeout.\u001b[0m\u001b[0;34m\u001b[0m\u001b[0;34m\u001b[0m\u001b[0m\n",
      "\u001b[0;32m/anaconda3/envs/learn-env/lib/python3.6/site-packages/urllib3/connectionpool.py\u001b[0m in \u001b[0;36m_validate_conn\u001b[0;34m(self, conn)\u001b[0m\n\u001b[1;32m    847\u001b[0m         \u001b[0;31m# Force connect early to allow us to validate the connection.\u001b[0m\u001b[0;34m\u001b[0m\u001b[0;34m\u001b[0m\u001b[0m\n\u001b[1;32m    848\u001b[0m         \u001b[0;32mif\u001b[0m \u001b[0;32mnot\u001b[0m \u001b[0mgetattr\u001b[0m\u001b[0;34m(\u001b[0m\u001b[0mconn\u001b[0m\u001b[0;34m,\u001b[0m \u001b[0;34m'sock'\u001b[0m\u001b[0;34m,\u001b[0m \u001b[0;32mNone\u001b[0m\u001b[0;34m)\u001b[0m\u001b[0;34m:\u001b[0m  \u001b[0;31m# AppEngine might not have  `.sock`\u001b[0m\u001b[0;34m\u001b[0m\u001b[0m\n\u001b[0;32m--> 849\u001b[0;31m             \u001b[0mconn\u001b[0m\u001b[0;34m.\u001b[0m\u001b[0mconnect\u001b[0m\u001b[0;34m(\u001b[0m\u001b[0;34m)\u001b[0m\u001b[0;34m\u001b[0m\u001b[0m\n\u001b[0m\u001b[1;32m    850\u001b[0m \u001b[0;34m\u001b[0m\u001b[0m\n\u001b[1;32m    851\u001b[0m         \u001b[0;32mif\u001b[0m \u001b[0;32mnot\u001b[0m \u001b[0mconn\u001b[0m\u001b[0;34m.\u001b[0m\u001b[0mis_verified\u001b[0m\u001b[0;34m:\u001b[0m\u001b[0;34m\u001b[0m\u001b[0m\n",
      "\u001b[0;32m/anaconda3/envs/learn-env/lib/python3.6/site-packages/urllib3/connection.py\u001b[0m in \u001b[0;36mconnect\u001b[0;34m(self)\u001b[0m\n\u001b[1;32m    354\u001b[0m             \u001b[0mca_cert_dir\u001b[0m\u001b[0;34m=\u001b[0m\u001b[0mself\u001b[0m\u001b[0;34m.\u001b[0m\u001b[0mca_cert_dir\u001b[0m\u001b[0;34m,\u001b[0m\u001b[0;34m\u001b[0m\u001b[0m\n\u001b[1;32m    355\u001b[0m             \u001b[0mserver_hostname\u001b[0m\u001b[0;34m=\u001b[0m\u001b[0mhostname\u001b[0m\u001b[0;34m,\u001b[0m\u001b[0;34m\u001b[0m\u001b[0m\n\u001b[0;32m--> 356\u001b[0;31m             ssl_context=context)\n\u001b[0m\u001b[1;32m    357\u001b[0m \u001b[0;34m\u001b[0m\u001b[0m\n\u001b[1;32m    358\u001b[0m         \u001b[0;32mif\u001b[0m \u001b[0mself\u001b[0m\u001b[0;34m.\u001b[0m\u001b[0massert_fingerprint\u001b[0m\u001b[0;34m:\u001b[0m\u001b[0;34m\u001b[0m\u001b[0m\n",
      "\u001b[0;32m/anaconda3/envs/learn-env/lib/python3.6/site-packages/urllib3/util/ssl_.py\u001b[0m in \u001b[0;36mssl_wrap_socket\u001b[0;34m(sock, keyfile, certfile, cert_reqs, ca_certs, server_hostname, ssl_version, ciphers, ssl_context, ca_cert_dir)\u001b[0m\n\u001b[1;32m    357\u001b[0m             or IS_SECURETRANSPORT):\n\u001b[1;32m    358\u001b[0m         \u001b[0;32mif\u001b[0m \u001b[0mHAS_SNI\u001b[0m \u001b[0;32mand\u001b[0m \u001b[0mserver_hostname\u001b[0m \u001b[0;32mis\u001b[0m \u001b[0;32mnot\u001b[0m \u001b[0;32mNone\u001b[0m\u001b[0;34m:\u001b[0m\u001b[0;34m\u001b[0m\u001b[0m\n\u001b[0;32m--> 359\u001b[0;31m             \u001b[0;32mreturn\u001b[0m \u001b[0mcontext\u001b[0m\u001b[0;34m.\u001b[0m\u001b[0mwrap_socket\u001b[0m\u001b[0;34m(\u001b[0m\u001b[0msock\u001b[0m\u001b[0;34m,\u001b[0m \u001b[0mserver_hostname\u001b[0m\u001b[0;34m=\u001b[0m\u001b[0mserver_hostname\u001b[0m\u001b[0;34m)\u001b[0m\u001b[0;34m\u001b[0m\u001b[0m\n\u001b[0m\u001b[1;32m    360\u001b[0m \u001b[0;34m\u001b[0m\u001b[0m\n\u001b[1;32m    361\u001b[0m         warnings.warn(\n",
      "\u001b[0;32m/anaconda3/envs/learn-env/lib/python3.6/site-packages/urllib3/contrib/pyopenssl.py\u001b[0m in \u001b[0;36mwrap_socket\u001b[0;34m(self, sock, server_side, do_handshake_on_connect, suppress_ragged_eofs, server_hostname)\u001b[0m\n\u001b[1;32m    442\u001b[0m         \u001b[0;32mwhile\u001b[0m \u001b[0;32mTrue\u001b[0m\u001b[0;34m:\u001b[0m\u001b[0;34m\u001b[0m\u001b[0m\n\u001b[1;32m    443\u001b[0m             \u001b[0;32mtry\u001b[0m\u001b[0;34m:\u001b[0m\u001b[0;34m\u001b[0m\u001b[0m\n\u001b[0;32m--> 444\u001b[0;31m                 \u001b[0mcnx\u001b[0m\u001b[0;34m.\u001b[0m\u001b[0mdo_handshake\u001b[0m\u001b[0;34m(\u001b[0m\u001b[0;34m)\u001b[0m\u001b[0;34m\u001b[0m\u001b[0m\n\u001b[0m\u001b[1;32m    445\u001b[0m             \u001b[0;32mexcept\u001b[0m \u001b[0mOpenSSL\u001b[0m\u001b[0;34m.\u001b[0m\u001b[0mSSL\u001b[0m\u001b[0;34m.\u001b[0m\u001b[0mWantReadError\u001b[0m\u001b[0;34m:\u001b[0m\u001b[0;34m\u001b[0m\u001b[0m\n\u001b[1;32m    446\u001b[0m                 \u001b[0;32mif\u001b[0m \u001b[0;32mnot\u001b[0m \u001b[0mutil\u001b[0m\u001b[0;34m.\u001b[0m\u001b[0mwait_for_read\u001b[0m\u001b[0;34m(\u001b[0m\u001b[0msock\u001b[0m\u001b[0;34m,\u001b[0m \u001b[0msock\u001b[0m\u001b[0;34m.\u001b[0m\u001b[0mgettimeout\u001b[0m\u001b[0;34m(\u001b[0m\u001b[0;34m)\u001b[0m\u001b[0;34m)\u001b[0m\u001b[0;34m:\u001b[0m\u001b[0;34m\u001b[0m\u001b[0m\n",
      "\u001b[0;32m/anaconda3/envs/learn-env/lib/python3.6/site-packages/OpenSSL/SSL.py\u001b[0m in \u001b[0;36mdo_handshake\u001b[0;34m(self)\u001b[0m\n\u001b[1;32m   1904\u001b[0m         \u001b[0;34m:\u001b[0m\u001b[0;32mreturn\u001b[0m\u001b[0;34m:\u001b[0m \u001b[0;32mNone\u001b[0m\u001b[0;34m.\u001b[0m\u001b[0;34m\u001b[0m\u001b[0m\n\u001b[1;32m   1905\u001b[0m         \"\"\"\n\u001b[0;32m-> 1906\u001b[0;31m         \u001b[0mresult\u001b[0m \u001b[0;34m=\u001b[0m \u001b[0m_lib\u001b[0m\u001b[0;34m.\u001b[0m\u001b[0mSSL_do_handshake\u001b[0m\u001b[0;34m(\u001b[0m\u001b[0mself\u001b[0m\u001b[0;34m.\u001b[0m\u001b[0m_ssl\u001b[0m\u001b[0;34m)\u001b[0m\u001b[0;34m\u001b[0m\u001b[0m\n\u001b[0m\u001b[1;32m   1907\u001b[0m         \u001b[0mself\u001b[0m\u001b[0;34m.\u001b[0m\u001b[0m_raise_ssl_error\u001b[0m\u001b[0;34m(\u001b[0m\u001b[0mself\u001b[0m\u001b[0;34m.\u001b[0m\u001b[0m_ssl\u001b[0m\u001b[0;34m,\u001b[0m \u001b[0mresult\u001b[0m\u001b[0;34m)\u001b[0m\u001b[0;34m\u001b[0m\u001b[0m\n\u001b[1;32m   1908\u001b[0m \u001b[0;34m\u001b[0m\u001b[0m\n",
      "\u001b[0;31mKeyboardInterrupt\u001b[0m: "
     ]
    }
   ],
   "source": [
    "documents=[]\n",
    "for link in links:\n",
    "    html_page= requests.get(link) \n",
    "    soup= BeautifulSoup(html_page.content, 'html.parser')\n",
    "    article = soup.find(\"div\",attrs={\"class\":\"col-xs-12 col-sm-8 col-md-8\"}).getText()\n",
    "    documents.append(article)"
   ]
  },
  {
   "cell_type": "code",
   "execution_count": null,
   "metadata": {},
   "outputs": [],
   "source": [
    "listoftags=[]\n",
    "for doc in documents:\n",
    "    listoftags.append([doc,'dovish'])"
   ]
  },
  {
   "cell_type": "code",
   "execution_count": null,
   "metadata": {},
   "outputs": [],
   "source": [
    "df= pd.DataFrame(listoftags)"
   ]
  },
  {
   "cell_type": "code",
   "execution_count": null,
   "metadata": {},
   "outputs": [],
   "source": [
    "df.to_excel(\"FOMC.xlsx\")"
   ]
  },
  {
   "cell_type": "code",
   "execution_count": null,
   "metadata": {},
   "outputs": [],
   "source": [
    "df=pd.read_excel(\"FOMC copy.xlsx\")"
   ]
  },
  {
   "cell_type": "code",
   "execution_count": 1362,
   "metadata": {},
   "outputs": [],
   "source": [
    "df.drop(columns = 'Unnamed: 2', inplace= True)"
   ]
  },
  {
   "cell_type": "code",
   "execution_count": 1363,
   "metadata": {},
   "outputs": [],
   "source": [
    "df.columns = [\"Documents\", \"Category\"]"
   ]
  },
  {
   "cell_type": "code",
   "execution_count": 1364,
   "metadata": {},
   "outputs": [],
   "source": [
    "def clean_data(data):\n",
    "    cleaned_data = []\n",
    "    for line in data:\n",
    "        if not '[' in line and not ']' in line:\n",
    "            for symbol in \",.?!''\\n\":\n",
    "                line = line.replace(symbol, '').lower()\n",
    "            cleaned_data.append(line)\n",
    "    return \"\".join(cleaned_data)\n",
    "data_without_brackets = clean_data(df.Documents[0])"
   ]
  },
  {
   "cell_type": "code",
   "execution_count": 1365,
   "metadata": {},
   "outputs": [],
   "source": [
    "df['Documents']= df['Documents'].apply(lambda x: clean_data(x))"
   ]
  },
  {
   "cell_type": "code",
   "execution_count": 1366,
   "metadata": {},
   "outputs": [],
   "source": [
    "from nltk.corpus import stopwords\n",
    "import re"
   ]
  },
  {
   "cell_type": "code",
   "execution_count": 2384,
   "metadata": {},
   "outputs": [],
   "source": [
    "stopwords_list = stopwords.words('english') + list(string.punctuation)"
   ]
  },
  {
   "cell_type": "code",
   "execution_count": 2886,
   "metadata": {},
   "outputs": [],
   "source": [
    "#This function returns a PARAGRAPH of words that have stopwords and numbers removed\n",
    "def process_data(Documents):\n",
    "    tokens = nltk.word_tokenize(Documents)\n",
    "    stopwords_removed = ' '.join([token.lower() for token in tokens if token not in stopwords_list])\n",
    "    pattern= r\"[a-z]+\"\n",
    "    regex_tokens = re.findall(pattern, stopwords_removed)\n",
    "    return ' '.join(regex_tokens)"
   ]
  },
  {
   "cell_type": "code",
   "execution_count": 3099,
   "metadata": {},
   "outputs": [],
   "source": [
    "document_words = df['Documents'].tolist()"
   ]
  },
  {
   "cell_type": "code",
   "execution_count": 2889,
   "metadata": {},
   "outputs": [],
   "source": [
    "category = df['Category'].tolist()"
   ]
  },
  {
   "cell_type": "code",
   "execution_count": 2890,
   "metadata": {},
   "outputs": [],
   "source": [
    "processed_data= list(map(process_data, document_words))"
   ]
  },
  {
   "cell_type": "code",
   "execution_count": 2892,
   "metadata": {
    "scrolled": false
   },
   "outputs": [],
   "source": [
    "#Process the data for each document and create a new column in the data frame with the preprocessed data\n",
    "corpus= []\n",
    "for i in processed_data:\n",
    "    corpus.append(i)"
   ]
  },
  {
   "cell_type": "code",
   "execution_count": 2893,
   "metadata": {},
   "outputs": [],
   "source": [
    "df['Processed_Data'] = np.nan"
   ]
  },
  {
   "cell_type": "code",
   "execution_count": 2894,
   "metadata": {},
   "outputs": [],
   "source": [
    "df['Processed_Data'] = df.apply(lambda x: corpus)"
   ]
  },
  {
   "cell_type": "code",
   "execution_count": 3029,
   "metadata": {},
   "outputs": [],
   "source": [
    "def tokenize(data):\n",
    "    joined_data = ' '.join(data)\n",
    "    tokenized_data = word_tokenize(data)\n",
    "    \n",
    "    return tokenized_data\n",
    "\n",
    "tokenized_test_data = tokenize(df['Processed_Data'][0])"
   ]
  },
  {
   "cell_type": "code",
   "execution_count": 3030,
   "metadata": {
    "scrolled": true
   },
   "outputs": [],
   "source": [
    "df['Tokenized_Data']= df['Processed_Data'].apply(lambda x: tokenize(x))"
   ]
  },
  {
   "cell_type": "markdown",
   "metadata": {},
   "source": [
    "## Word Tokenize and Frequency Distributions"
   ]
  },
  {
   "cell_type": "code",
   "execution_count": 3031,
   "metadata": {},
   "outputs": [],
   "source": [
    "from nltk import word_tokenize, FreqDist"
   ]
  },
  {
   "cell_type": "code",
   "execution_count": 3032,
   "metadata": {},
   "outputs": [],
   "source": [
    "fdist = FreqDist()\n",
    "for row in df['Tokenized_Data']:\n",
    "    for word in row:\n",
    "        fdist[word] += 1"
   ]
  },
  {
   "cell_type": "code",
   "execution_count": 3033,
   "metadata": {
    "scrolled": false
   },
   "outputs": [],
   "source": [
    "count_vectorizer= CountVectorizer()"
   ]
  },
  {
   "cell_type": "code",
   "execution_count": 3034,
   "metadata": {},
   "outputs": [],
   "source": [
    "processed_words_df = pd.DataFrame(df['Tokenized_Data'])\n",
    "categories_df = pd.DataFrame(category)"
   ]
  },
  {
   "cell_type": "code",
   "execution_count": 3035,
   "metadata": {},
   "outputs": [],
   "source": [
    "df_model= pd.concat([processed_words_df, categories_df], axis =1, sort= False)"
   ]
  },
  {
   "cell_type": "code",
   "execution_count": 3036,
   "metadata": {
    "scrolled": true
   },
   "outputs": [],
   "source": [
    "df_model.columns= ['Statement_Words', 'Category']"
   ]
  },
  {
   "cell_type": "code",
   "execution_count": 3037,
   "metadata": {},
   "outputs": [],
   "source": [
    "def make_raw_doc(list_of_words):\n",
    "    return ' '.join(list(list_of_words))"
   ]
  },
  {
   "cell_type": "code",
   "execution_count": 3038,
   "metadata": {},
   "outputs": [],
   "source": [
    "df_model['raw_document'] = df_model.Statement_Words.apply(lambda x: make_raw_doc(x))"
   ]
  },
  {
   "cell_type": "code",
   "execution_count": 3039,
   "metadata": {},
   "outputs": [],
   "source": [
    "X_train, X_test, y_train, y_test = model_selection.train_test_split(df_model.raw_document, df_model.Category, train_size = .8, random_state = 0)\n",
    "\n",
    "#do we need this\n"
   ]
  },
  {
   "cell_type": "code",
   "execution_count": 3040,
   "metadata": {},
   "outputs": [],
   "source": [
    "# create a count vectorizer object \n",
    "count_vect = CountVectorizer(analyzer='word', token_pattern=r'\\w{1,}')\n",
    "count_vect.fit(X_train ,y_train)\n",
    "\n",
    "# transform the training and validation data using count vectorizer object\n",
    "xtrain_count =  count_vect.transform(X_train)\n",
    "xtest_count =  count_vect.transform(X_test)\n"
   ]
  },
  {
   "cell_type": "code",
   "execution_count": 3041,
   "metadata": {},
   "outputs": [],
   "source": [
    "# word level tf-idf\n",
    "tfidf_vect = TfidfVectorizer(analyzer='word', token_pattern=r'\\w{1,}', max_features=5000)\n",
    "tfidf_vect.fit(X_train)\n",
    "xtrain_tfidf =  tfidf_vect.transform(X_train)\n",
    "xtest_tfidf =  tfidf_vect.transform(X_test)"
   ]
  },
  {
   "cell_type": "code",
   "execution_count": 3042,
   "metadata": {},
   "outputs": [],
   "source": [
    "# ngram level tf-idf \n",
    "tfidf_vect_ngram = TfidfVectorizer(analyzer='word', token_pattern=r'\\w{1,}', ngram_range=(1,3), max_features=5000)\n",
    "tfidf_vect_ngram.fit(X_train)\n",
    "xtrain_tfidf_ngram =  tfidf_vect_ngram.transform(X_train)\n",
    "xtest_tfidf_ngram =  tfidf_vect_ngram.transform(X_test)"
   ]
  },
  {
   "cell_type": "markdown",
   "metadata": {},
   "source": [
    "## Count Vectorizing"
   ]
  },
  {
   "cell_type": "code",
   "execution_count": 3043,
   "metadata": {},
   "outputs": [],
   "source": [
    "from sklearn.feature_extraction.text import CountVectorizer"
   ]
  },
  {
   "cell_type": "code",
   "execution_count": 3044,
   "metadata": {
    "scrolled": false
   },
   "outputs": [],
   "source": [
    "#create a vectorizer to ultimate create a sparse matrix of our corpus\n",
    "vectorizer = CountVectorizer()"
   ]
  },
  {
   "cell_type": "code",
   "execution_count": 3045,
   "metadata": {},
   "outputs": [],
   "source": [
    "#fits a model to our corpus\n",
    "X = vectorizer.fit_transform(corpus)"
   ]
  },
  {
   "cell_type": "markdown",
   "metadata": {},
   "source": [
    "## Endogeniety"
   ]
  },
  {
   "cell_type": "code",
   "execution_count": 3046,
   "metadata": {},
   "outputs": [],
   "source": [
    "sorted_wordsbyappearance = sorted(vectorizer.vocabulary_.items(), key=lambda kv: kv[1], reverse=True)"
   ]
  },
  {
   "cell_type": "code",
   "execution_count": 3047,
   "metadata": {},
   "outputs": [],
   "source": [
    "for i in sorted_wordsbyappearance:\n",
    "    if i[1] > 800:\n",
    "        stopwords_list.append(i[0])      "
   ]
  },
  {
   "cell_type": "markdown",
   "metadata": {},
   "source": [
    "## Sparse Matrix and Sparsity "
   ]
  },
  {
   "cell_type": "code",
   "execution_count": 3048,
   "metadata": {},
   "outputs": [
    {
     "name": "stdout",
     "output_type": "stream",
     "text": [
      "Shape of Sparse Matrix:  (63, 617)\n",
      "Amount of Non-Zero occurences:  8660\n"
     ]
    }
   ],
   "source": [
    "print('Shape of Sparse Matrix: ', X.shape)\n",
    "print('Amount of Non-Zero occurences: ', X.nnz)"
   ]
  },
  {
   "cell_type": "code",
   "execution_count": 3049,
   "metadata": {},
   "outputs": [
    {
     "name": "stdout",
     "output_type": "stream",
     "text": [
      "sparsity: 22\n"
     ]
    }
   ],
   "source": [
    "sparsity = (100.0 * X.nnz / (X.shape[0] * X.shape[1]))\n",
    "print('sparsity:', round(sparsity))"
   ]
  },
  {
   "cell_type": "markdown",
   "metadata": {},
   "source": [
    "## Creating TD-IDF"
   ]
  },
  {
   "cell_type": "code",
   "execution_count": 3050,
   "metadata": {},
   "outputs": [],
   "source": [
    "from sklearn.feature_extraction.text import TfidfTransformer"
   ]
  },
  {
   "cell_type": "code",
   "execution_count": 3051,
   "metadata": {
    "scrolled": true
   },
   "outputs": [],
   "source": [
    "tfidf_transformer = TfidfTransformer().fit(X)"
   ]
  },
  {
   "cell_type": "code",
   "execution_count": 3052,
   "metadata": {
    "scrolled": true
   },
   "outputs": [],
   "source": [
    "documents_tfidf = tfidf_transformer.transform(X)"
   ]
  },
  {
   "cell_type": "code",
   "execution_count": 3053,
   "metadata": {},
   "outputs": [],
   "source": [
    "X_train, X_test, y_train, y_test = model_selection.train_test_split(documents_tfidf, df_model.Category, train_size = .6, random_state= 0)\n"
   ]
  },
  {
   "cell_type": "code",
   "execution_count": 3054,
   "metadata": {},
   "outputs": [
    {
     "data": {
      "text/plain": [
       "106"
      ]
     },
     "execution_count": 3054,
     "metadata": {},
     "output_type": "execute_result"
    }
   ],
   "source": [
    "X_resampled.shape[0]"
   ]
  },
  {
   "cell_type": "markdown",
   "metadata": {},
   "source": [
    "## Handling Overfitting/Class Imbalance"
   ]
  },
  {
   "cell_type": "code",
   "execution_count": 3055,
   "metadata": {},
   "outputs": [],
   "source": [
    "from imblearn.over_sampling import SMOTE, ADASYN"
   ]
  },
  {
   "cell_type": "code",
   "execution_count": 3056,
   "metadata": {},
   "outputs": [
    {
     "name": "stdout",
     "output_type": "stream",
     "text": [
      "dovish     53\n",
      "hawkish    10\n",
      "Name: Category, dtype: int64\n"
     ]
    }
   ],
   "source": [
    "print(df_model['Category'].value_counts()) #Previous original class distribution\n",
    "X_resampled, y_resampled = SMOTE().fit_sample(documents_tfidf, df_model['Category']) "
   ]
  },
  {
   "cell_type": "markdown",
   "metadata": {},
   "source": [
    "## Multinomial Naive Bayes"
   ]
  },
  {
   "cell_type": "code",
   "execution_count": 3057,
   "metadata": {},
   "outputs": [],
   "source": [
    "from sklearn.naive_bayes import MultinomialNB"
   ]
  },
  {
   "cell_type": "code",
   "execution_count": 3115,
   "metadata": {},
   "outputs": [],
   "source": [
    "mb_model_resampled = MultinomialNB().fit(X_resampled, y_resampled)"
   ]
  },
  {
   "cell_type": "code",
   "execution_count": 3103,
   "metadata": {
    "scrolled": true
   },
   "outputs": [
    {
     "name": "stdout",
     "output_type": "stream",
     "text": [
      "['hawkish' 'hawkish' 'hawkish' 'hawkish' 'hawkish' 'hawkish' 'hawkish'\n",
      " 'hawkish' 'hawkish' 'hawkish' 'hawkish' 'hawkish' 'hawkish' 'hawkish'\n",
      " 'hawkish' 'hawkish' 'hawkish' 'hawkish' 'hawkish' 'hawkish' 'hawkish'\n",
      " 'dovish' 'dovish' 'dovish' 'dovish' 'dovish' 'dovish' 'dovish' 'dovish'\n",
      " 'dovish' 'dovish' 'dovish' 'dovish' 'dovish' 'dovish' 'dovish' 'dovish'\n",
      " 'dovish' 'dovish' 'dovish' 'dovish' 'dovish' 'dovish' 'dovish' 'dovish'\n",
      " 'dovish' 'dovish' 'dovish' 'dovish' 'dovish' 'dovish' 'dovish' 'dovish'\n",
      " 'dovish' 'dovish' 'dovish' 'dovish' 'hawkish' 'hawkish' 'hawkish'\n",
      " 'hawkish' 'hawkish' 'hawkish' 'hawkish' 'hawkish' 'hawkish' 'hawkish'\n",
      " 'hawkish' 'hawkish' 'hawkish' 'hawkish' 'hawkish' 'hawkish' 'hawkish'\n",
      " 'hawkish' 'hawkish' 'hawkish' 'hawkish' 'hawkish' 'hawkish' 'hawkish'\n",
      " 'hawkish' 'hawkish' 'hawkish' 'hawkish' 'hawkish' 'hawkish' 'hawkish'\n",
      " 'hawkish' 'hawkish' 'hawkish' 'hawkish' 'hawkish' 'hawkish' 'hawkish'\n",
      " 'hawkish' 'hawkish' 'hawkish' 'hawkish' 'hawkish' 'hawkish' 'hawkish'\n",
      " 'hawkish' 'hawkish' 'hawkish' 'hawkish']\n"
     ]
    }
   ],
   "source": [
    "mb_all_predictions_resampled = mb_model_resampled.predict(X_resampled)\n",
    "print(mb_all_predictions_resampled)"
   ]
  },
  {
   "cell_type": "code",
   "execution_count": 3104,
   "metadata": {
    "scrolled": true
   },
   "outputs": [
    {
     "name": "stdout",
     "output_type": "stream",
     "text": [
      "              precision    recall  f1-score   support\n",
      "\n",
      "      dovish       1.00      0.68      0.81        53\n",
      "     hawkish       0.76      1.00      0.86        53\n",
      "\n",
      "   micro avg       0.84      0.84      0.84       106\n",
      "   macro avg       0.88      0.84      0.84       106\n",
      "weighted avg       0.88      0.84      0.84       106\n",
      "\n"
     ]
    }
   ],
   "source": [
    "print(classification_report(y_resampled, mb_all_predictions_resampled))"
   ]
  },
  {
   "cell_type": "code",
   "execution_count": 3105,
   "metadata": {},
   "outputs": [
    {
     "data": {
      "text/plain": [
       "0.839622641509434"
      ]
     },
     "execution_count": 3105,
     "metadata": {},
     "output_type": "execute_result"
    }
   ],
   "source": [
    "mb_model_resampled.score(X_resampled, y_resampled)"
   ]
  },
  {
   "cell_type": "code",
   "execution_count": 3106,
   "metadata": {},
   "outputs": [
    {
     "data": {
      "image/png": "[encoded data removed]",
      "text/plain": [
       "<Figure size 432x288 with 2 Axes>"
      ]
     },
     "metadata": {
      "needs_background": "light"
     },
     "output_type": "display_data"
    }
   ],
   "source": [
    "cf1 = confusion_matrix(y_resampled, mb_all_predictions_resampled)\n",
    "plt.imshow(cf1, cmap=plt.cm.Greens)\n",
    "\n",
    "plt.title('MultiNomial Naive Bayes Confusion Matrix')\n",
    "plt.ylabel('True label')\n",
    "plt.xlabel('Predicted label')\n",
    "\n",
    "class_names = set(y_resampled)\n",
    "tick_marks = np.arange(len(class_names))\n",
    "plt.xticks(tick_marks, class_names, rotation=45)\n",
    "plt.yticks(tick_marks, class_names)\n",
    "\n",
    "thresh = cf1.max() / 2.\n",
    "\n",
    "for i, j in product(range(cf1.shape[0]), range(cf1.shape[1])):\n",
    "    plt.text(j, i, cf1[i, j],\n",
    "         horizontalalignment=\"center\",\n",
    "         color=\"white\" if cf1[i, j] > thresh else \"black\")\n",
    "\n",
    "plt.colorbar();"
   ]
  },
  {
   "cell_type": "markdown",
   "metadata": {},
   "source": [
    "## Random Forest"
   ]
  },
  {
   "cell_type": "code",
   "execution_count": 3063,
   "metadata": {},
   "outputs": [],
   "source": [
    "from sklearn.ensemble import RandomForestClassifier"
   ]
  },
  {
   "cell_type": "code",
   "execution_count": 3064,
   "metadata": {},
   "outputs": [],
   "source": [
    "rf_model_resampled = RandomForestClassifier().fit(X_resampled, y_resampled)"
   ]
  },
  {
   "cell_type": "code",
   "execution_count": 3065,
   "metadata": {},
   "outputs": [
    {
     "name": "stdout",
     "output_type": "stream",
     "text": [
      "['dovish' 'dovish' 'hawkish' 'dovish' 'hawkish' 'dovish' 'hawkish'\n",
      " 'dovish' 'hawkish' 'dovish' 'hawkish' 'dovish' 'dovish' 'dovish'\n",
      " 'hawkish' 'dovish' 'hawkish' 'hawkish' 'hawkish' 'dovish' 'dovish'\n",
      " 'dovish' 'dovish' 'dovish' 'dovish' 'dovish' 'dovish' 'dovish' 'dovish'\n",
      " 'dovish' 'dovish' 'dovish' 'dovish' 'dovish' 'dovish' 'dovish' 'dovish'\n",
      " 'dovish' 'dovish' 'dovish' 'dovish' 'dovish' 'dovish' 'dovish' 'dovish'\n",
      " 'dovish' 'dovish' 'dovish' 'dovish' 'dovish' 'dovish' 'dovish' 'dovish'\n",
      " 'dovish' 'dovish' 'dovish' 'dovish' 'hawkish' 'dovish' 'dovish' 'dovish'\n",
      " 'dovish' 'dovish' 'hawkish' 'hawkish' 'hawkish' 'hawkish' 'hawkish'\n",
      " 'hawkish' 'hawkish' 'hawkish' 'hawkish' 'hawkish' 'hawkish' 'hawkish'\n",
      " 'hawkish' 'hawkish' 'hawkish' 'hawkish' 'hawkish' 'hawkish' 'hawkish'\n",
      " 'hawkish' 'hawkish' 'hawkish' 'hawkish' 'hawkish' 'hawkish' 'hawkish'\n",
      " 'hawkish' 'hawkish' 'hawkish' 'hawkish' 'hawkish' 'hawkish' 'hawkish'\n",
      " 'hawkish' 'hawkish' 'hawkish' 'hawkish' 'hawkish' 'hawkish' 'hawkish'\n",
      " 'hawkish' 'hawkish' 'hawkish']\n"
     ]
    }
   ],
   "source": [
    "rf_all_predictions_resampled = rf_model_resampled.predict(X_resampled)\n",
    "print(rf_all_predictions_resampled)"
   ]
  },
  {
   "cell_type": "code",
   "execution_count": 3066,
   "metadata": {
    "scrolled": true
   },
   "outputs": [
    {
     "name": "stdout",
     "output_type": "stream",
     "text": [
      "              precision    recall  f1-score   support\n",
      "\n",
      "      dovish       1.00      1.00      1.00        53\n",
      "     hawkish       1.00      1.00      1.00        53\n",
      "\n",
      "   micro avg       1.00      1.00      1.00       106\n",
      "   macro avg       1.00      1.00      1.00       106\n",
      "weighted avg       1.00      1.00      1.00       106\n",
      "\n"
     ]
    }
   ],
   "source": [
    "from sklearn.metrics import classification_report\n",
    "print(classification_report(y_resampled, rf_all_predictions_resampled))"
   ]
  },
  {
   "cell_type": "code",
   "execution_count": 3067,
   "metadata": {},
   "outputs": [
    {
     "data": {
      "text/plain": [
       "1.0"
      ]
     },
     "execution_count": 3067,
     "metadata": {},
     "output_type": "execute_result"
    }
   ],
   "source": [
    "rf_model_resampled.score(X_resampled, y_resampled)"
   ]
  },
  {
   "cell_type": "code",
   "execution_count": 3068,
   "metadata": {},
   "outputs": [
    {
     "data": {
      "image/png": "[encoded data removed]",
      "text/plain": [
       "<Figure size 432x288 with 2 Axes>"
      ]
     },
     "metadata": {
      "needs_background": "light"
     },
     "output_type": "display_data"
    }
   ],
   "source": [
    "cf1 = confusion_matrix(y_resampled, rf_all_predictions_resampled)\n",
    "plt.imshow(cf1, cmap=plt.cm.Greens)\n",
    "\n",
    "plt.title('Random Forest Confusion Matrix')\n",
    "plt.ylabel('True label')\n",
    "plt.xlabel('Predicted label')\n",
    "\n",
    "class_names = set(y_resampled)\n",
    "tick_marks = np.arange(len(class_names))\n",
    "plt.xticks(tick_marks, class_names, rotation=45)\n",
    "plt.yticks(tick_marks, class_names)\n",
    "\n",
    "thresh = cf1.max() / 2.\n",
    "\n",
    "for i, j in product(range(cf1.shape[0]), range(cf1.shape[1])):\n",
    "    plt.text(j, i, cf1[i, j],\n",
    "         horizontalalignment=\"center\",\n",
    "         color=\"white\" if cf1[i, j] > thresh else \"black\")\n",
    "\n",
    "plt.colorbar();"
   ]
  },
  {
   "cell_type": "markdown",
   "metadata": {},
   "source": [
    "## Logistic Regression "
   ]
  },
  {
   "cell_type": "code",
   "execution_count": 3069,
   "metadata": {},
   "outputs": [],
   "source": [
    "from sklearn.linear_model import LogisticRegression"
   ]
  },
  {
   "cell_type": "code",
   "execution_count": 3070,
   "metadata": {},
   "outputs": [],
   "source": [
    "lr_model_resampled = LogisticRegression().fit(X_resampled,y_resampled)"
   ]
  },
  {
   "cell_type": "code",
   "execution_count": 3071,
   "metadata": {},
   "outputs": [
    {
     "name": "stdout",
     "output_type": "stream",
     "text": [
      "['hawkish' 'hawkish' 'hawkish' 'hawkish' 'hawkish' 'hawkish' 'hawkish'\n",
      " 'hawkish' 'hawkish' 'hawkish' 'hawkish' 'hawkish' 'hawkish' 'hawkish'\n",
      " 'hawkish' 'hawkish' 'hawkish' 'hawkish' 'hawkish' 'hawkish' 'hawkish'\n",
      " 'dovish' 'dovish' 'dovish' 'dovish' 'dovish' 'dovish' 'dovish' 'dovish'\n",
      " 'dovish' 'dovish' 'dovish' 'dovish' 'dovish' 'dovish' 'dovish' 'dovish'\n",
      " 'dovish' 'dovish' 'dovish' 'dovish' 'dovish' 'dovish' 'dovish' 'dovish'\n",
      " 'dovish' 'dovish' 'dovish' 'dovish' 'dovish' 'dovish' 'dovish' 'dovish'\n",
      " 'dovish' 'dovish' 'dovish' 'dovish' 'hawkish' 'hawkish' 'hawkish'\n",
      " 'hawkish' 'hawkish' 'hawkish' 'hawkish' 'hawkish' 'hawkish' 'hawkish'\n",
      " 'hawkish' 'hawkish' 'hawkish' 'hawkish' 'hawkish' 'hawkish' 'hawkish'\n",
      " 'hawkish' 'hawkish' 'hawkish' 'hawkish' 'hawkish' 'hawkish' 'hawkish'\n",
      " 'hawkish' 'hawkish' 'hawkish' 'hawkish' 'hawkish' 'hawkish' 'hawkish'\n",
      " 'hawkish' 'hawkish' 'hawkish' 'hawkish' 'hawkish' 'hawkish' 'hawkish'\n",
      " 'hawkish' 'hawkish' 'hawkish' 'hawkish' 'hawkish' 'hawkish' 'hawkish'\n",
      " 'hawkish' 'hawkish' 'hawkish' 'hawkish']\n"
     ]
    }
   ],
   "source": [
    "lr_all_predictions_resampled = lr_model_resampled.predict(X_resampled)\n",
    "print(lr_all_predictions_resampled)"
   ]
  },
  {
   "cell_type": "code",
   "execution_count": 3072,
   "metadata": {
    "scrolled": true
   },
   "outputs": [
    {
     "name": "stdout",
     "output_type": "stream",
     "text": [
      "              precision    recall  f1-score   support\n",
      "\n",
      "      dovish       1.00      0.68      0.81        53\n",
      "     hawkish       0.76      1.00      0.86        53\n",
      "\n",
      "   micro avg       0.84      0.84      0.84       106\n",
      "   macro avg       0.88      0.84      0.84       106\n",
      "weighted avg       0.88      0.84      0.84       106\n",
      "\n"
     ]
    }
   ],
   "source": [
    "from sklearn.metrics import classification_report\n",
    "print(classification_report(y_resampled, lr_all_predictions_resampled))"
   ]
  },
  {
   "cell_type": "code",
   "execution_count": 3073,
   "metadata": {},
   "outputs": [
    {
     "data": {
      "text/plain": [
       "0.839622641509434"
      ]
     },
     "execution_count": 3073,
     "metadata": {},
     "output_type": "execute_result"
    }
   ],
   "source": [
    "lr_model_resampled.score(X_resampled, y_resampled)"
   ]
  },
  {
   "cell_type": "code",
   "execution_count": 3074,
   "metadata": {},
   "outputs": [
    {
     "data": {
      "image/png": "[encoded data removed]",
      "text/plain": [
       "<Figure size 432x288 with 2 Axes>"
      ]
     },
     "metadata": {
      "needs_background": "light"
     },
     "output_type": "display_data"
    }
   ],
   "source": [
    "cf1 = confusion_matrix(y_resampled, lr_all_predictions_resampled)\n",
    "plt.imshow(cf1, cmap=plt.cm.Greens)\n",
    "\n",
    "plt.title('Logistic Regression Confusion Matrix')\n",
    "plt.ylabel('True label')\n",
    "plt.xlabel('Predicted label')\n",
    "\n",
    "class_names = set(y_resampled)\n",
    "tick_marks = np.arange(len(class_names))\n",
    "plt.xticks(tick_marks, class_names, rotation=45)\n",
    "plt.yticks(tick_marks, class_names)\n",
    "\n",
    "thresh = cf1.max() / 2.\n",
    "\n",
    "for i, j in product(range(cf1.shape[0]), range(cf1.shape[1])):\n",
    "    plt.text(j, i, cf1[i, j],\n",
    "         horizontalalignment=\"center\",\n",
    "         color=\"white\" if cf1[i, j] > thresh else \"black\")\n",
    "\n",
    "plt.colorbar();"
   ]
  },
  {
   "cell_type": "code",
   "execution_count": 3075,
   "metadata": {},
   "outputs": [],
   "source": [
    "# change test train split to test \n",
    "# play with stop words amount"
   ]
  },
  {
   "cell_type": "markdown",
   "metadata": {},
   "source": [
    "## Making Predictions"
   ]
  },
  {
   "cell_type": "code",
   "execution_count": 3076,
   "metadata": {},
   "outputs": [
    {
     "data": {
      "text/plain": [
       "<1x617 sparse matrix of type '<class 'numpy.float64'>'\n",
       "\twith 165 stored elements in Compressed Sparse Row format>"
      ]
     },
     "execution_count": 3076,
     "metadata": {},
     "output_type": "execute_result"
    }
   ],
   "source": [
    "X_test[0]"
   ]
  },
  {
   "cell_type": "code",
   "execution_count": 3077,
   "metadata": {},
   "outputs": [
    {
     "data": {
      "text/plain": [
       "106"
      ]
     },
     "execution_count": 3077,
     "metadata": {},
     "output_type": "execute_result"
    }
   ],
   "source": [
    "X_resampled.shape[0]"
   ]
  },
  {
   "cell_type": "code",
   "execution_count": 3078,
   "metadata": {},
   "outputs": [
    {
     "data": {
      "text/plain": [
       "array(['dovish', 'dovish', 'hawkish', 'dovish', 'hawkish', 'dovish',\n",
       "       'hawkish', 'dovish', 'hawkish', 'dovish', 'hawkish', 'dovish',\n",
       "       'dovish', 'dovish', 'hawkish', 'dovish', 'hawkish', 'hawkish',\n",
       "       'hawkish', 'dovish', 'dovish', 'dovish', 'dovish', 'dovish',\n",
       "       'dovish', 'dovish', 'dovish', 'dovish', 'dovish', 'dovish',\n",
       "       'dovish', 'dovish', 'dovish', 'dovish', 'dovish', 'dovish',\n",
       "       'dovish', 'dovish', 'dovish', 'dovish', 'dovish', 'dovish',\n",
       "       'dovish', 'dovish', 'dovish', 'dovish', 'dovish', 'dovish',\n",
       "       'dovish', 'dovish', 'dovish', 'dovish', 'dovish', 'dovish',\n",
       "       'dovish', 'dovish', 'dovish', 'hawkish', 'dovish', 'dovish',\n",
       "       'dovish', 'dovish', 'dovish', 'hawkish', 'hawkish', 'hawkish',\n",
       "       'hawkish', 'hawkish', 'hawkish', 'hawkish', 'hawkish', 'hawkish',\n",
       "       'hawkish', 'hawkish', 'hawkish', 'hawkish', 'hawkish', 'hawkish',\n",
       "       'hawkish', 'hawkish', 'hawkish', 'hawkish', 'hawkish', 'hawkish',\n",
       "       'hawkish', 'hawkish', 'hawkish', 'hawkish', 'hawkish', 'hawkish',\n",
       "       'hawkish', 'hawkish', 'hawkish', 'hawkish', 'hawkish', 'hawkish',\n",
       "       'hawkish', 'hawkish', 'hawkish', 'hawkish', 'hawkish', 'hawkish',\n",
       "       'hawkish', 'hawkish', 'hawkish', 'hawkish'], dtype=object)"
      ]
     },
     "execution_count": 3078,
     "metadata": {},
     "output_type": "execute_result"
    }
   ],
   "source": [
    "y_resampled"
   ]
  },
  {
   "cell_type": "code",
   "execution_count": 3079,
   "metadata": {},
   "outputs": [
    {
     "name": "stdout",
     "output_type": "stream",
     "text": [
      "dovish\n",
      "dovish\n",
      "hawkish\n",
      "dovish\n",
      "hawkish\n",
      "dovish\n",
      "hawkish\n",
      "dovish\n",
      "hawkish\n",
      "dovish\n",
      "hawkish\n",
      "dovish\n",
      "dovish\n",
      "dovish\n",
      "hawkish\n",
      "dovish\n",
      "hawkish\n",
      "hawkish\n",
      "hawkish\n",
      "dovish\n",
      "dovish\n",
      "dovish\n",
      "dovish\n",
      "dovish\n",
      "dovish\n",
      "dovish\n",
      "dovish\n",
      "dovish\n",
      "dovish\n",
      "dovish\n",
      "dovish\n",
      "dovish\n",
      "dovish\n",
      "dovish\n",
      "dovish\n",
      "dovish\n",
      "dovish\n",
      "dovish\n",
      "dovish\n",
      "dovish\n",
      "dovish\n",
      "dovish\n",
      "dovish\n",
      "dovish\n",
      "dovish\n",
      "dovish\n",
      "dovish\n",
      "dovish\n",
      "dovish\n",
      "dovish\n",
      "dovish\n",
      "dovish\n",
      "dovish\n",
      "dovish\n",
      "dovish\n",
      "dovish\n",
      "dovish\n",
      "hawkish\n",
      "dovish\n",
      "dovish\n",
      "dovish\n",
      "dovish\n",
      "dovish\n",
      "hawkish\n",
      "hawkish\n",
      "hawkish\n",
      "hawkish\n",
      "hawkish\n",
      "hawkish\n",
      "hawkish\n",
      "hawkish\n",
      "hawkish\n",
      "hawkish\n",
      "hawkish\n",
      "hawkish\n",
      "hawkish\n",
      "hawkish\n",
      "hawkish\n",
      "hawkish\n",
      "hawkish\n",
      "hawkish\n",
      "hawkish\n",
      "hawkish\n",
      "hawkish\n",
      "hawkish\n",
      "hawkish\n",
      "hawkish\n",
      "hawkish\n",
      "hawkish\n",
      "hawkish\n",
      "hawkish\n",
      "hawkish\n",
      "hawkish\n",
      "hawkish\n",
      "hawkish\n",
      "hawkish\n",
      "hawkish\n",
      "hawkish\n",
      "hawkish\n",
      "hawkish\n",
      "hawkish\n",
      "hawkish\n",
      "hawkish\n",
      "hawkish\n",
      "hawkish\n",
      "hawkish\n"
     ]
    }
   ],
   "source": [
    "for i in range(106):\n",
    "    print(rf_model_resampled.predict(X_resampled[i])[0])"
   ]
  },
  {
   "cell_type": "code",
   "execution_count": 3080,
   "metadata": {},
   "outputs": [
    {
     "data": {
      "text/plain": [
       "'hawkish'"
      ]
     },
     "execution_count": 3080,
     "metadata": {},
     "output_type": "execute_result"
    }
   ],
   "source": [
    "rf_model_resampled.predict(X_resampled[4])[0]"
   ]
  },
  {
   "cell_type": "code",
   "execution_count": 3081,
   "metadata": {},
   "outputs": [
    {
     "name": "stdout",
     "output_type": "stream",
     "text": [
      "Help on RandomForestClassifier in module sklearn.ensemble.forest object:\n",
      "\n",
      "class RandomForestClassifier(ForestClassifier)\n",
      " |  RandomForestClassifier(n_estimators='warn', criterion='gini', max_depth=None, min_samples_split=2, min_samples_leaf=1, min_weight_fraction_leaf=0.0, max_features='auto', max_leaf_nodes=None, min_impurity_decrease=0.0, min_impurity_split=None, bootstrap=True, oob_score=False, n_jobs=None, random_state=None, verbose=0, warm_start=False, class_weight=None)\n",
      " |  \n",
      " |  A random forest classifier.\n",
      " |  \n",
      " |  A random forest is a meta estimator that fits a number of decision tree\n",
      " |  classifiers on various sub-samples of the dataset and uses averaging to\n",
      " |  improve the predictive accuracy and control over-fitting.\n",
      " |  The sub-sample size is always the same as the original\n",
      " |  input sample size but the samples are drawn with replacement if\n",
      " |  `bootstrap=True` (default).\n",
      " |  \n",
      " |  Read more in the :ref:`User Guide <forest>`.\n",
      " |  \n",
      " |  Parameters\n",
      " |  ----------\n",
      " |  n_estimators : integer, optional (default=10)\n",
      " |      The number of trees in the forest.\n",
      " |  \n",
      " |      .. versionchanged:: 0.20\n",
      " |         The default value of ``n_estimators`` will change from 10 in\n",
      " |         version 0.20 to 100 in version 0.22.\n",
      " |  \n",
      " |  criterion : string, optional (default=\"gini\")\n",
      " |      The function to measure the quality of a split. Supported criteria are\n",
      " |      \"gini\" for the Gini impurity and \"entropy\" for the information gain.\n",
      " |      Note: this parameter is tree-specific.\n",
      " |  \n",
      " |  max_depth : integer or None, optional (default=None)\n",
      " |      The maximum depth of the tree. If None, then nodes are expanded until\n",
      " |      all leaves are pure or until all leaves contain less than\n",
      " |      min_samples_split samples.\n",
      " |  \n",
      " |  min_samples_split : int, float, optional (default=2)\n",
      " |      The minimum number of samples required to split an internal node:\n",
      " |  \n",
      " |      - If int, then consider `min_samples_split` as the minimum number.\n",
      " |      - If float, then `min_samples_split` is a fraction and\n",
      " |        `ceil(min_samples_split * n_samples)` are the minimum\n",
      " |        number of samples for each split.\n",
      " |  \n",
      " |      .. versionchanged:: 0.18\n",
      " |         Added float values for fractions.\n",
      " |  \n",
      " |  min_samples_leaf : int, float, optional (default=1)\n",
      " |      The minimum number of samples required to be at a leaf node.\n",
      " |      A split point at any depth will only be considered if it leaves at\n",
      " |      least ``min_samples_leaf`` training samples in each of the left and\n",
      " |      right branches.  This may have the effect of smoothing the model,\n",
      " |      especially in regression.\n",
      " |  \n",
      " |      - If int, then consider `min_samples_leaf` as the minimum number.\n",
      " |      - If float, then `min_samples_leaf` is a fraction and\n",
      " |        `ceil(min_samples_leaf * n_samples)` are the minimum\n",
      " |        number of samples for each node.\n",
      " |  \n",
      " |      .. versionchanged:: 0.18\n",
      " |         Added float values for fractions.\n",
      " |  \n",
      " |  min_weight_fraction_leaf : float, optional (default=0.)\n",
      " |      The minimum weighted fraction of the sum total of weights (of all\n",
      " |      the input samples) required to be at a leaf node. Samples have\n",
      " |      equal weight when sample_weight is not provided.\n",
      " |  \n",
      " |  max_features : int, float, string or None, optional (default=\"auto\")\n",
      " |      The number of features to consider when looking for the best split:\n",
      " |  \n",
      " |      - If int, then consider `max_features` features at each split.\n",
      " |      - If float, then `max_features` is a fraction and\n",
      " |        `int(max_features * n_features)` features are considered at each\n",
      " |        split.\n",
      " |      - If \"auto\", then `max_features=sqrt(n_features)`.\n",
      " |      - If \"sqrt\", then `max_features=sqrt(n_features)` (same as \"auto\").\n",
      " |      - If \"log2\", then `max_features=log2(n_features)`.\n",
      " |      - If None, then `max_features=n_features`.\n",
      " |  \n",
      " |      Note: the search for a split does not stop until at least one\n",
      " |      valid partition of the node samples is found, even if it requires to\n",
      " |      effectively inspect more than ``max_features`` features.\n",
      " |  \n",
      " |  max_leaf_nodes : int or None, optional (default=None)\n",
      " |      Grow trees with ``max_leaf_nodes`` in best-first fashion.\n",
      " |      Best nodes are defined as relative reduction in impurity.\n",
      " |      If None then unlimited number of leaf nodes.\n",
      " |  \n",
      " |  min_impurity_decrease : float, optional (default=0.)\n",
      " |      A node will be split if this split induces a decrease of the impurity\n",
      " |      greater than or equal to this value.\n",
      " |  \n",
      " |      The weighted impurity decrease equation is the following::\n",
      " |  \n",
      " |          N_t / N * (impurity - N_t_R / N_t * right_impurity\n",
      " |                              - N_t_L / N_t * left_impurity)\n",
      " |  \n",
      " |      where ``N`` is the total number of samples, ``N_t`` is the number of\n",
      " |      samples at the current node, ``N_t_L`` is the number of samples in the\n",
      " |      left child, and ``N_t_R`` is the number of samples in the right child.\n",
      " |  \n",
      " |      ``N``, ``N_t``, ``N_t_R`` and ``N_t_L`` all refer to the weighted sum,\n",
      " |      if ``sample_weight`` is passed.\n",
      " |  \n",
      " |      .. versionadded:: 0.19\n",
      " |  \n",
      " |  min_impurity_split : float, (default=1e-7)\n",
      " |      Threshold for early stopping in tree growth. A node will split\n",
      " |      if its impurity is above the threshold, otherwise it is a leaf.\n",
      " |  \n",
      " |      .. deprecated:: 0.19\n",
      " |         ``min_impurity_split`` has been deprecated in favor of\n",
      " |         ``min_impurity_decrease`` in 0.19. The default value of\n",
      " |         ``min_impurity_split`` will change from 1e-7 to 0 in 0.23 and it\n",
      " |         will be removed in 0.25. Use ``min_impurity_decrease`` instead.\n",
      " |  \n",
      " |  \n",
      " |  bootstrap : boolean, optional (default=True)\n",
      " |      Whether bootstrap samples are used when building trees.\n",
      " |  \n",
      " |  oob_score : bool (default=False)\n",
      " |      Whether to use out-of-bag samples to estimate\n",
      " |      the generalization accuracy.\n",
      " |  \n",
      " |  n_jobs : int or None, optional (default=None)\n",
      " |      The number of jobs to run in parallel for both `fit` and `predict`.\n",
      " |      ``None`` means 1 unless in a :obj:`joblib.parallel_backend` context.\n",
      " |      ``-1`` means using all processors. See :term:`Glossary <n_jobs>`\n",
      " |      for more details.\n",
      " |  \n",
      " |  random_state : int, RandomState instance or None, optional (default=None)\n",
      " |      If int, random_state is the seed used by the random number generator;\n",
      " |      If RandomState instance, random_state is the random number generator;\n",
      " |      If None, the random number generator is the RandomState instance used\n",
      " |      by `np.random`.\n",
      " |  \n",
      " |  verbose : int, optional (default=0)\n",
      " |      Controls the verbosity when fitting and predicting.\n",
      " |  \n",
      " |  warm_start : bool, optional (default=False)\n",
      " |      When set to ``True``, reuse the solution of the previous call to fit\n",
      " |      and add more estimators to the ensemble, otherwise, just fit a whole\n",
      " |      new forest. See :term:`the Glossary <warm_start>`.\n",
      " |  \n",
      " |  class_weight : dict, list of dicts, \"balanced\", \"balanced_subsample\" or     None, optional (default=None)\n",
      " |      Weights associated with classes in the form ``{class_label: weight}``.\n",
      " |      If not given, all classes are supposed to have weight one. For\n",
      " |      multi-output problems, a list of dicts can be provided in the same\n",
      " |      order as the columns of y.\n",
      " |  \n",
      " |      Note that for multioutput (including multilabel) weights should be\n",
      " |      defined for each class of every column in its own dict. For example,\n",
      " |      for four-class multilabel classification weights should be\n",
      " |      [{0: 1, 1: 1}, {0: 1, 1: 5}, {0: 1, 1: 1}, {0: 1, 1: 1}] instead of\n",
      " |      [{1:1}, {2:5}, {3:1}, {4:1}].\n",
      " |  \n",
      " |      The \"balanced\" mode uses the values of y to automatically adjust\n",
      " |      weights inversely proportional to class frequencies in the input data\n",
      " |      as ``n_samples / (n_classes * np.bincount(y))``\n",
      " |  \n",
      " |      The \"balanced_subsample\" mode is the same as \"balanced\" except that\n",
      " |      weights are computed based on the bootstrap sample for every tree\n",
      " |      grown.\n",
      " |  \n",
      " |      For multi-output, the weights of each column of y will be multiplied.\n",
      " |  \n",
      " |      Note that these weights will be multiplied with sample_weight (passed\n",
      " |      through the fit method) if sample_weight is specified.\n",
      " |  \n",
      " |  Attributes\n",
      " |  ----------\n",
      " |  estimators_ : list of DecisionTreeClassifier\n",
      " |      The collection of fitted sub-estimators.\n",
      " |  \n",
      " |  classes_ : array of shape = [n_classes] or a list of such arrays\n",
      " |      The classes labels (single output problem), or a list of arrays of\n",
      " |      class labels (multi-output problem).\n",
      " |  \n",
      " |  n_classes_ : int or list\n",
      " |      The number of classes (single output problem), or a list containing the\n",
      " |      number of classes for each output (multi-output problem).\n",
      " |  \n",
      " |  n_features_ : int\n",
      " |      The number of features when ``fit`` is performed.\n",
      " |  \n",
      " |  n_outputs_ : int\n",
      " |      The number of outputs when ``fit`` is performed.\n",
      " |  \n",
      " |  feature_importances_ : array of shape = [n_features]\n",
      " |      The feature importances (the higher, the more important the feature).\n",
      " |  \n",
      " |  oob_score_ : float\n",
      " |      Score of the training dataset obtained using an out-of-bag estimate.\n",
      " |  \n",
      " |  oob_decision_function_ : array of shape = [n_samples, n_classes]\n",
      " |      Decision function computed with out-of-bag estimate on the training\n",
      " |      set. If n_estimators is small it might be possible that a data point\n",
      " |      was never left out during the bootstrap. In this case,\n",
      " |      `oob_decision_function_` might contain NaN.\n",
      " |  \n",
      " |  Examples\n",
      " |  --------\n",
      " |  >>> from sklearn.ensemble import RandomForestClassifier\n",
      " |  >>> from sklearn.datasets import make_classification\n",
      " |  \n",
      " |  >>> X, y = make_classification(n_samples=1000, n_features=4,\n",
      " |  ...                            n_informative=2, n_redundant=0,\n",
      " |  ...                            random_state=0, shuffle=False)\n",
      " |  >>> clf = RandomForestClassifier(n_estimators=100, max_depth=2,\n",
      " |  ...                              random_state=0)\n",
      " |  >>> clf.fit(X, y)\n",
      " |  RandomForestClassifier(bootstrap=True, class_weight=None, criterion='gini',\n",
      " |              max_depth=2, max_features='auto', max_leaf_nodes=None,\n",
      " |              min_impurity_decrease=0.0, min_impurity_split=None,\n",
      " |              min_samples_leaf=1, min_samples_split=2,\n",
      " |              min_weight_fraction_leaf=0.0, n_estimators=100, n_jobs=None,\n",
      " |              oob_score=False, random_state=0, verbose=0, warm_start=False)\n",
      " |  >>> print(clf.feature_importances_)\n",
      " |  [0.14205973 0.76664038 0.0282433  0.06305659]\n",
      " |  >>> print(clf.predict([[0, 0, 0, 0]]))\n",
      " |  [1]\n",
      " |  \n",
      " |  Notes\n",
      " |  -----\n",
      " |  The default values for the parameters controlling the size of the trees\n",
      " |  (e.g. ``max_depth``, ``min_samples_leaf``, etc.) lead to fully grown and\n",
      " |  unpruned trees which can potentially be very large on some data sets. To\n",
      " |  reduce memory consumption, the complexity and size of the trees should be\n",
      " |  controlled by setting those parameter values.\n",
      " |  \n",
      " |  The features are always randomly permuted at each split. Therefore,\n",
      " |  the best found split may vary, even with the same training data,\n",
      " |  ``max_features=n_features`` and ``bootstrap=False``, if the improvement\n",
      " |  of the criterion is identical for several splits enumerated during the\n",
      " |  search of the best split. To obtain a deterministic behaviour during\n",
      " |  fitting, ``random_state`` has to be fixed.\n",
      " |  \n",
      " |  References\n",
      " |  ----------\n",
      " |  \n",
      " |  .. [1] L. Breiman, \"Random Forests\", Machine Learning, 45(1), 5-32, 2001.\n",
      " |  \n",
      " |  See also\n",
      " |  --------\n",
      " |  DecisionTreeClassifier, ExtraTreesClassifier\n",
      " |  \n",
      " |  Method resolution order:\n",
      " |      RandomForestClassifier\n",
      " |      ForestClassifier\n",
      " |      abc.NewBase\n",
      " |      BaseForest\n",
      " |      abc.NewBase\n",
      " |      sklearn.ensemble.base.BaseEnsemble\n",
      " |      abc.NewBase\n",
      " |      sklearn.base.BaseEstimator\n",
      " |      sklearn.base.MetaEstimatorMixin\n",
      " |      sklearn.base.ClassifierMixin\n",
      " |      builtins.object\n",
      " |  \n",
      " |  Methods defined here:\n",
      " |  \n",
      " |  __init__(self, n_estimators='warn', criterion='gini', max_depth=None, min_samples_split=2, min_samples_leaf=1, min_weight_fraction_leaf=0.0, max_features='auto', max_leaf_nodes=None, min_impurity_decrease=0.0, min_impurity_split=None, bootstrap=True, oob_score=False, n_jobs=None, random_state=None, verbose=0, warm_start=False, class_weight=None)\n",
      " |      Initialize self.  See help(type(self)) for accurate signature.\n",
      " |  \n",
      " |  ----------------------------------------------------------------------\n",
      " |  Data and other attributes defined here:\n",
      " |  \n",
      " |  __abstractmethods__ = frozenset()\n",
      " |  \n",
      " |  ----------------------------------------------------------------------\n",
      " |  Methods inherited from ForestClassifier:\n",
      " |  \n",
      " |  predict(self, X)\n",
      " |      Predict class for X.\n",
      " |      \n",
      " |      The predicted class of an input sample is a vote by the trees in\n",
      " |      the forest, weighted by their probability estimates. That is,\n",
      " |      the predicted class is the one with highest mean probability\n",
      " |      estimate across the trees.\n",
      " |      \n",
      " |      Parameters\n",
      " |      ----------\n",
      " |      X : array-like or sparse matrix of shape = [n_samples, n_features]\n",
      " |          The input samples. Internally, its dtype will be converted to\n",
      " |          ``dtype=np.float32``. If a sparse matrix is provided, it will be\n",
      " |          converted into a sparse ``csr_matrix``.\n",
      " |      \n",
      " |      Returns\n",
      " |      -------\n",
      " |      y : array of shape = [n_samples] or [n_samples, n_outputs]\n",
      " |          The predicted classes.\n",
      " |  \n",
      " |  predict_log_proba(self, X)\n",
      " |      Predict class log-probabilities for X.\n",
      " |      \n",
      " |      The predicted class log-probabilities of an input sample is computed as\n",
      " |      the log of the mean predicted class probabilities of the trees in the\n",
      " |      forest.\n",
      " |      \n",
      " |      Parameters\n",
      " |      ----------\n",
      " |      X : array-like or sparse matrix of shape = [n_samples, n_features]\n",
      " |          The input samples. Internally, its dtype will be converted to\n",
      " |          ``dtype=np.float32``. If a sparse matrix is provided, it will be\n",
      " |          converted into a sparse ``csr_matrix``.\n",
      " |      \n",
      " |      Returns\n",
      " |      -------\n",
      " |      p : array of shape = [n_samples, n_classes], or a list of n_outputs\n",
      " |          such arrays if n_outputs > 1.\n",
      " |          The class probabilities of the input samples. The order of the\n",
      " |          classes corresponds to that in the attribute `classes_`.\n",
      " |  \n",
      " |  predict_proba(self, X)\n",
      " |      Predict class probabilities for X.\n",
      " |      \n",
      " |      The predicted class probabilities of an input sample are computed as\n",
      " |      the mean predicted class probabilities of the trees in the forest. The\n",
      " |      class probability of a single tree is the fraction of samples of the same\n",
      " |      class in a leaf.\n",
      " |      \n",
      " |      Parameters\n",
      " |      ----------\n",
      " |      X : array-like or sparse matrix of shape = [n_samples, n_features]\n",
      " |          The input samples. Internally, its dtype will be converted to\n",
      " |          ``dtype=np.float32``. If a sparse matrix is provided, it will be\n",
      " |          converted into a sparse ``csr_matrix``.\n",
      " |      \n",
      " |      Returns\n",
      " |      -------\n",
      " |      p : array of shape = [n_samples, n_classes], or a list of n_outputs\n",
      " |          such arrays if n_outputs > 1.\n",
      " |          The class probabilities of the input samples. The order of the\n",
      " |          classes corresponds to that in the attribute `classes_`.\n",
      " |  \n",
      " |  ----------------------------------------------------------------------\n",
      " |  Methods inherited from BaseForest:\n",
      " |  \n",
      " |  apply(self, X)\n",
      " |      Apply trees in the forest to X, return leaf indices.\n",
      " |      \n",
      " |      Parameters\n",
      " |      ----------\n",
      " |      X : array-like or sparse matrix, shape = [n_samples, n_features]\n",
      " |          The input samples. Internally, its dtype will be converted to\n",
      " |          ``dtype=np.float32``. If a sparse matrix is provided, it will be\n",
      " |          converted into a sparse ``csr_matrix``.\n",
      " |      \n",
      " |      Returns\n",
      " |      -------\n",
      " |      X_leaves : array_like, shape = [n_samples, n_estimators]\n",
      " |          For each datapoint x in X and for each tree in the forest,\n",
      " |          return the index of the leaf x ends up in.\n",
      " |  \n",
      " |  decision_path(self, X)\n",
      " |      Return the decision path in the forest\n",
      " |      \n",
      " |      .. versionadded:: 0.18\n",
      " |      \n",
      " |      Parameters\n",
      " |      ----------\n",
      " |      X : array-like or sparse matrix, shape = [n_samples, n_features]\n",
      " |          The input samples. Internally, its dtype will be converted to\n",
      " |          ``dtype=np.float32``. If a sparse matrix is provided, it will be\n",
      " |          converted into a sparse ``csr_matrix``.\n",
      " |      \n",
      " |      Returns\n",
      " |      -------\n",
      " |      indicator : sparse csr array, shape = [n_samples, n_nodes]\n",
      " |          Return a node indicator matrix where non zero elements\n",
      " |          indicates that the samples goes through the nodes.\n",
      " |      \n",
      " |      n_nodes_ptr : array of size (n_estimators + 1, )\n",
      " |          The columns from indicator[n_nodes_ptr[i]:n_nodes_ptr[i+1]]\n",
      " |          gives the indicator value for the i-th estimator.\n",
      " |  \n",
      " |  fit(self, X, y, sample_weight=None)\n",
      " |      Build a forest of trees from the training set (X, y).\n",
      " |      \n",
      " |      Parameters\n",
      " |      ----------\n",
      " |      X : array-like or sparse matrix of shape = [n_samples, n_features]\n",
      " |          The training input samples. Internally, its dtype will be converted\n",
      " |          to ``dtype=np.float32``. If a sparse matrix is provided, it will be\n",
      " |          converted into a sparse ``csc_matrix``.\n",
      " |      \n",
      " |      y : array-like, shape = [n_samples] or [n_samples, n_outputs]\n",
      " |          The target values (class labels in classification, real numbers in\n",
      " |          regression).\n",
      " |      \n",
      " |      sample_weight : array-like, shape = [n_samples] or None\n",
      " |          Sample weights. If None, then samples are equally weighted. Splits\n",
      " |          that would create child nodes with net zero or negative weight are\n",
      " |          ignored while searching for a split in each node. In the case of\n",
      " |          classification, splits are also ignored if they would result in any\n",
      " |          single class carrying a negative weight in either child node.\n",
      " |      \n",
      " |      Returns\n",
      " |      -------\n",
      " |      self : object\n",
      " |  \n",
      " |  ----------------------------------------------------------------------\n",
      " |  Data descriptors inherited from BaseForest:\n",
      " |  \n",
      " |  feature_importances_\n",
      " |      Return the feature importances (the higher, the more important the\n",
      " |         feature).\n",
      " |      \n",
      " |      Returns\n",
      " |      -------\n",
      " |      feature_importances_ : array, shape = [n_features]\n",
      " |  \n",
      " |  ----------------------------------------------------------------------\n",
      " |  Methods inherited from sklearn.ensemble.base.BaseEnsemble:\n",
      " |  \n",
      " |  __getitem__(self, index)\n",
      " |      Returns the index'th estimator in the ensemble.\n",
      " |  \n",
      " |  __iter__(self)\n",
      " |      Returns iterator over estimators in the ensemble.\n",
      " |  \n",
      " |  __len__(self)\n",
      " |      Returns the number of estimators in the ensemble.\n",
      " |  \n",
      " |  ----------------------------------------------------------------------\n",
      " |  Methods inherited from sklearn.base.BaseEstimator:\n",
      " |  \n",
      " |  __getstate__(self)\n",
      " |  \n",
      " |  __repr__(self)\n",
      " |      Return repr(self).\n",
      " |  \n",
      " |  __setstate__(self, state)\n",
      " |  \n",
      " |  get_params(self, deep=True)\n",
      " |      Get parameters for this estimator.\n",
      " |      \n",
      " |      Parameters\n",
      " |      ----------\n",
      " |      deep : boolean, optional\n",
      " |          If True, will return the parameters for this estimator and\n",
      " |          contained subobjects that are estimators.\n",
      " |      \n",
      " |      Returns\n",
      " |      -------\n",
      " |      params : mapping of string to any\n",
      " |          Parameter names mapped to their values.\n",
      " |  \n",
      " |  set_params(self, **params)\n",
      " |      Set the parameters of this estimator.\n",
      " |      \n",
      " |      The method works on simple estimators as well as on nested objects\n",
      " |      (such as pipelines). The latter have parameters of the form\n",
      " |      ``<component>__<parameter>`` so that it's possible to update each\n",
      " |      component of a nested object.\n",
      " |      \n",
      " |      Returns\n",
      " |      -------\n",
      " |      self\n",
      " |  \n",
      " |  ----------------------------------------------------------------------\n",
      " |  Data descriptors inherited from sklearn.base.BaseEstimator:\n",
      " |  \n",
      " |  __dict__\n",
      " |      dictionary for instance variables (if defined)\n",
      " |  \n",
      " |  __weakref__\n",
      " |      list of weak references to the object (if defined)\n",
      " |  \n",
      " |  ----------------------------------------------------------------------\n",
      " |  Methods inherited from sklearn.base.ClassifierMixin:\n",
      " |  \n",
      " |  score(self, X, y, sample_weight=None)\n",
      " |      Returns the mean accuracy on the given test data and labels.\n",
      " |      \n",
      " |      In multi-label classification, this is the subset accuracy\n",
      " |      which is a harsh metric since you require for each sample that\n",
      " |      each label set be correctly predicted.\n",
      " |      \n",
      " |      Parameters\n",
      " |      ----------\n",
      " |      X : array-like, shape = (n_samples, n_features)\n",
      " |          Test samples.\n",
      " |      \n",
      " |      y : array-like, shape = (n_samples) or (n_samples, n_outputs)\n",
      " |          True labels for X.\n",
      " |      \n",
      " |      sample_weight : array-like, shape = [n_samples], optional\n",
      " |          Sample weights.\n",
      " |      \n",
      " |      Returns\n",
      " |      -------\n",
      " |      score : float\n",
      " |          Mean accuracy of self.predict(X) wrt. y.\n",
      "\n"
     ]
    }
   ],
   "source": [
    "help(rf_model_resampled)"
   ]
  },
  {
   "cell_type": "code",
   "execution_count": 3082,
   "metadata": {},
   "outputs": [
    {
     "data": {
      "text/plain": [
       "array([0.        , 0.        , 0.        , 0.        , 0.        ,\n",
       "       0.        , 0.        , 0.        , 0.        , 0.        ,\n",
       "       0.        , 0.        , 0.        , 0.        , 0.00835297,\n",
       "       0.        , 0.        , 0.        , 0.        , 0.        ,\n",
       "       0.        , 0.        , 0.        , 0.        , 0.        ,\n",
       "       0.        , 0.        , 0.        , 0.        , 0.        ,\n",
       "       0.00614665, 0.        , 0.        , 0.        , 0.        ,\n",
       "       0.        , 0.        , 0.        , 0.        , 0.        ,\n",
       "       0.        , 0.        , 0.        , 0.        , 0.        ,\n",
       "       0.        , 0.        , 0.        , 0.0033208 , 0.        ,\n",
       "       0.        , 0.00191129, 0.        , 0.        , 0.        ,\n",
       "       0.        , 0.00147442, 0.        , 0.        , 0.        ,\n",
       "       0.        , 0.        , 0.        , 0.        , 0.        ,\n",
       "       0.        , 0.        , 0.        , 0.        , 0.        ,\n",
       "       0.        , 0.        , 0.00408618, 0.        , 0.        ,\n",
       "       0.        , 0.        , 0.        , 0.        , 0.        ,\n",
       "       0.        , 0.        , 0.        , 0.        , 0.        ,\n",
       "       0.        , 0.        , 0.        , 0.        , 0.        ,\n",
       "       0.        , 0.        , 0.        , 0.        , 0.        ,\n",
       "       0.        , 0.        , 0.        , 0.        , 0.        ,\n",
       "       0.        , 0.        , 0.        , 0.        , 0.00955025,\n",
       "       0.        , 0.        , 0.00372198, 0.        , 0.05469697,\n",
       "       0.        , 0.        , 0.        , 0.        , 0.        ,\n",
       "       0.00369943, 0.        , 0.        , 0.        , 0.        ,\n",
       "       0.        , 0.        , 0.        , 0.        , 0.        ,\n",
       "       0.        , 0.        , 0.        , 0.        , 0.        ,\n",
       "       0.        , 0.        , 0.        , 0.        , 0.        ,\n",
       "       0.        , 0.        , 0.        , 0.        , 0.        ,\n",
       "       0.        , 0.        , 0.        , 0.        , 0.        ,\n",
       "       0.        , 0.        , 0.        , 0.        , 0.        ,\n",
       "       0.        , 0.        , 0.        , 0.        , 0.        ,\n",
       "       0.        , 0.        , 0.00896071, 0.        , 0.        ,\n",
       "       0.        , 0.        , 0.        , 0.        , 0.        ,\n",
       "       0.        , 0.        , 0.        , 0.04722222, 0.        ,\n",
       "       0.        , 0.        , 0.        , 0.        , 0.        ,\n",
       "       0.        , 0.        , 0.        , 0.        , 0.        ,\n",
       "       0.        , 0.        , 0.        , 0.        , 0.        ,\n",
       "       0.        , 0.        , 0.        , 0.        , 0.        ,\n",
       "       0.        , 0.        , 0.        , 0.        , 0.        ,\n",
       "       0.        , 0.        , 0.        , 0.        , 0.        ,\n",
       "       0.        , 0.        , 0.01474309, 0.        , 0.        ,\n",
       "       0.        , 0.        , 0.        , 0.00647131, 0.01834922,\n",
       "       0.        , 0.        , 0.        , 0.        , 0.        ,\n",
       "       0.        , 0.        , 0.        , 0.        , 0.        ,\n",
       "       0.        , 0.        , 0.        , 0.        , 0.        ,\n",
       "       0.        , 0.        , 0.        , 0.        , 0.        ,\n",
       "       0.        , 0.        , 0.        , 0.        , 0.        ,\n",
       "       0.        , 0.        , 0.        , 0.        , 0.        ,\n",
       "       0.        , 0.        , 0.        , 0.        , 0.        ,\n",
       "       0.        , 0.        , 0.        , 0.        , 0.        ,\n",
       "       0.        , 0.        , 0.        , 0.        , 0.        ,\n",
       "       0.        , 0.        , 0.        , 0.        , 0.01325176,\n",
       "       0.        , 0.        , 0.        , 0.        , 0.        ,\n",
       "       0.        , 0.        , 0.        , 0.        , 0.        ,\n",
       "       0.        , 0.        , 0.        , 0.        , 0.        ,\n",
       "       0.01488833, 0.        , 0.        , 0.00369811, 0.        ,\n",
       "       0.        , 0.        , 0.        , 0.        , 0.        ,\n",
       "       0.        , 0.        , 0.        , 0.        , 0.        ,\n",
       "       0.        , 0.        , 0.02757561, 0.00691869, 0.        ,\n",
       "       0.        , 0.        , 0.        , 0.        , 0.        ,\n",
       "       0.        , 0.        , 0.        , 0.        , 0.00301887,\n",
       "       0.        , 0.        , 0.        , 0.        , 0.        ,\n",
       "       0.03347094, 0.00087352, 0.02265215, 0.        , 0.        ,\n",
       "       0.        , 0.        , 0.        , 0.        , 0.        ,\n",
       "       0.        , 0.        , 0.        , 0.        , 0.        ,\n",
       "       0.        , 0.        , 0.        , 0.00711109, 0.        ,\n",
       "       0.00286693, 0.0033125 , 0.        , 0.        , 0.        ,\n",
       "       0.        , 0.0067366 , 0.        , 0.        , 0.        ,\n",
       "       0.05000214, 0.        , 0.        , 0.        , 0.        ,\n",
       "       0.        , 0.        , 0.        , 0.        , 0.        ,\n",
       "       0.00068571, 0.        , 0.        , 0.        , 0.        ,\n",
       "       0.        , 0.        , 0.00283019, 0.        , 0.00368913,\n",
       "       0.00254838, 0.        , 0.        , 0.        , 0.        ,\n",
       "       0.        , 0.        , 0.02542916, 0.        , 0.        ,\n",
       "       0.        , 0.00123716, 0.        , 0.        , 0.        ,\n",
       "       0.        , 0.        , 0.        , 0.        , 0.        ,\n",
       "       0.        , 0.        , 0.00095564, 0.        , 0.        ,\n",
       "       0.        , 0.        , 0.        , 0.        , 0.        ,\n",
       "       0.        , 0.        , 0.03705515, 0.        , 0.        ,\n",
       "       0.        , 0.        , 0.        , 0.        , 0.        ,\n",
       "       0.        , 0.        , 0.00349423, 0.        , 0.        ,\n",
       "       0.        , 0.        , 0.        , 0.00754986, 0.        ,\n",
       "       0.        , 0.        , 0.        , 0.        , 0.        ,\n",
       "       0.01034694, 0.        , 0.02115262, 0.0482794 , 0.        ,\n",
       "       0.        , 0.        , 0.03874912, 0.        , 0.        ,\n",
       "       0.        , 0.05118903, 0.        , 0.        , 0.        ,\n",
       "       0.        , 0.        , 0.        , 0.        , 0.        ,\n",
       "       0.        , 0.        , 0.        , 0.        , 0.        ,\n",
       "       0.05820896, 0.        , 0.        , 0.        , 0.        ,\n",
       "       0.        , 0.        , 0.        , 0.        , 0.        ,\n",
       "       0.        , 0.        , 0.04982813, 0.00868895, 0.        ,\n",
       "       0.        , 0.        , 0.        , 0.        , 0.        ,\n",
       "       0.00472935, 0.        , 0.00325762, 0.        , 0.        ,\n",
       "       0.        , 0.        , 0.0030125 , 0.        , 0.06215385,\n",
       "       0.        , 0.        , 0.        , 0.        , 0.        ,\n",
       "       0.        , 0.        , 0.        , 0.        , 0.        ,\n",
       "       0.        , 0.        , 0.        , 0.        , 0.        ,\n",
       "       0.        , 0.        , 0.        , 0.01692019, 0.        ,\n",
       "       0.        , 0.        , 0.        , 0.00253831, 0.        ,\n",
       "       0.        , 0.        , 0.        , 0.04752211, 0.        ,\n",
       "       0.        , 0.        , 0.        , 0.        , 0.        ,\n",
       "       0.        , 0.        , 0.00696952, 0.        , 0.00883368,\n",
       "       0.        , 0.        , 0.        , 0.        , 0.        ,\n",
       "       0.        , 0.00573386, 0.0041531 , 0.        , 0.        ,\n",
       "       0.        , 0.00701058, 0.00923378, 0.        , 0.00308746,\n",
       "       0.        , 0.        , 0.        , 0.        , 0.        ,\n",
       "       0.        , 0.        , 0.        , 0.        , 0.        ,\n",
       "       0.        , 0.00589053, 0.        , 0.        , 0.        ,\n",
       "       0.        , 0.        , 0.        , 0.        , 0.        ,\n",
       "       0.        , 0.00588889, 0.        , 0.        , 0.        ,\n",
       "       0.        , 0.        , 0.        , 0.        , 0.        ,\n",
       "       0.        , 0.        , 0.        , 0.        , 0.        ,\n",
       "       0.        , 0.        , 0.        , 0.        , 0.        ,\n",
       "       0.        , 0.        , 0.        , 0.        , 0.00586424,\n",
       "       0.        , 0.        , 0.        , 0.        , 0.        ,\n",
       "       0.        , 0.        , 0.        , 0.        , 0.        ,\n",
       "       0.        , 0.        , 0.        , 0.        , 0.        ,\n",
       "       0.        , 0.        , 0.01298755, 0.        , 0.        ,\n",
       "       0.        , 0.00711844, 0.        , 0.00911994, 0.        ,\n",
       "       0.        , 0.        , 0.        , 0.        , 0.        ,\n",
       "       0.        , 0.        , 0.        , 0.        , 0.        ,\n",
       "       0.        , 0.        , 0.        , 0.        , 0.006972  ,\n",
       "       0.        , 0.        , 0.        , 0.        , 0.        ,\n",
       "       0.        , 0.        ])"
      ]
     },
     "execution_count": 3082,
     "metadata": {},
     "output_type": "execute_result"
    }
   ],
   "source": [
    "rf_model_resampled.feature_importances_"
   ]
  },
  {
   "cell_type": "code",
   "execution_count": 3083,
   "metadata": {
    "scrolled": true
   },
   "outputs": [
    {
     "data": {
      "text/plain": [
       "array(['dovish'], dtype=object)"
      ]
     },
     "execution_count": 3083,
     "metadata": {},
     "output_type": "execute_result"
    }
   ],
   "source": [
    "rf_model_resampled.predict(X_resampled[15])"
   ]
  },
  {
   "cell_type": "code",
   "execution_count": 3084,
   "metadata": {},
   "outputs": [],
   "source": [
    "hawkish = df_model.loc[df_model['Category']=='hawkish', 'raw_document']"
   ]
  },
  {
   "cell_type": "code",
   "execution_count": 3085,
   "metadata": {},
   "outputs": [],
   "source": [
    "df_hawkish = pd.DataFrame(hawkish)"
   ]
  },
  {
   "cell_type": "code",
   "execution_count": 3086,
   "metadata": {},
   "outputs": [
    {
     "name": "stdout",
     "output_type": "stream",
     "text": [
      "information federal open market committee met november indicates labor market continued economic activity job gains average months low household continued grow growth business fixed investment moderated pace earlier month basis overall inflation inflation items food energy near indicators longer term inflation expectations little changed balanceconsistent mandate committee foster maximum employment committee judges gradual increases federal funds consistent expansion economic activity labor market conditions inflation near committees objective medium committee judges economic outlook balanced continue monitor global economic financial developments assess implications economic outlookin expected labor market conditions inflation committee decided federal funds determining future adjustments federal funds committee assess expected economic conditions maximum employment objective inflation objective assessment account information including measures labor market conditions indicators inflation inflation expectations financial international developmentsvoting fomc monetary action jerome h chairman john c chairman barkin w bostic michelle w bowman lael brainard h clarida mary c daly loretta j mester k note issued december\n",
      "information federal open market committee met august indicates labor market continued economic activity job gains average months low household business fixed investment grown month basis overall inflation inflation items food energy near indicators longer term inflation expectations little changed balanceconsistent mandate committee foster maximum employment committee expects gradual increases federal funds consistent expansion economic activity labor market conditions inflation near committees objective medium economic outlook appear balancedin expected labor market conditions inflation committee decided federal funds determining future adjustments federal funds committee assess expected economic conditions maximum employment objective inflation objective assessment account information including measures labor market conditions indicators inflation inflation expectations financial international developmentsvoting fomc monetary action jerome h chairman john c chairman barkin w bostic lael brainard h clarida esther l george loretta j mester k note issued\n",
      "information federal open market committee met may indicates labor market continued economic activity job gains average months declined data growth household business fixed investment continued grow month basis overall inflation inflation items food energy moved close indicators longer term inflation expectations little changed balanceconsistent mandate committee foster maximum employment committee expects gradual increases federal funds consistent expansion economic activity labor market conditions inflation near committees objective medium economic outlook appear balancedin expected labor market conditions inflation committee decided federal funds monetary accommodative labor market conditions inflationin determining future adjustments federal funds committee assess expected economic conditions maximum employment objective inflation objective assessment account information including measures labor market conditions indicators inflation inflation expectations financial international developmentsvoting fomc monetary action jerome h chairman c dudley chairman barkin w bostic lael brainard loretta j mester k john c note issued june\n",
      "information federal open market committee met january indicates labor market continued economic activity moderate job gains months low data growth household business fixed investment moderated fourth quarter month basis overall inflation inflation items food energy continued market based measures inflation compensation increased months low survey based measures longer term inflation expectations little changed balanceconsistent mandate committee foster maximum employment economic outlook months committee expects gradual adjustments monetary economic activity expand moderate pace medium labor market conditions inflation month basis expected move coming months around committees objective medium near term economic outlook appear balanced committee monitoring inflation developments closelyin expected labor market conditions inflation committee decided federal funds monetary accommodative labor market conditions inflationin determining future adjustments federal funds committee assess expected economic conditions objectives maximum employment inflation assessment account information including measures labor market conditions indicators inflation inflation expectations financial international developments committee carefully monitor actual expected inflation developments inflation goal committee expects economic conditions evolve manner gradual increases federal funds federal funds likely levels expected longer however actual federal funds depend economic outlook informed incoming datavoting fomc monetary action jerome h chairman c dudley chairman barkin w bostic lael brainard loretta j mester k john c note issued march\n",
      "information federal open market committee met november indicates labor market continued economic activity averaging hurricane related fluctuations job gains declined household expanding moderate growth business fixed investment month basis overall inflation inflation items food energy declined market based measures inflation compensation low survey based measures longer term inflation expectations little changed balanceconsistent mandate committee foster maximum employment hurricane related disruptions affected economic activity employment inflation months materially altered outlook national economy consequently committee continues expect gradual adjustments monetary economic activity expand moderate pace labor market conditions inflation month basis expected near around committees objective medium near term economic outlook appear balanced committee monitoring inflation developments closelyin expected labor market conditions inflation committee decided federal funds monetary accommodative labor market conditions inflationin determining future adjustments federal funds committee assess expected economic conditions objectives maximum employment inflation assessment account information including measures labor market conditions indicators inflation inflation expectations financial international developments committee carefully monitor actual expected inflation developments inflation goal committee expects economic conditions evolve manner gradual increases federal funds federal funds likely levels expected longer however actual federal funds depend economic outlook informed incoming datavoting fomc monetary action janet l chair c dudley chairman lael brainard harker kaplan jerome h k action charles l evans neel kashkari meeting maintain existing federal funds note issued december\n",
      "information federal open market committee met may indicates labor market continued economic activity moderately far job gains moderated average beginning declined household months business fixed investment continued expand month basis inflation declined like measure excluding food energy market based measures inflation compensation low survey based measures longer term inflation expectations little changed balanceconsistent mandate committee foster maximum employment committee continues expect gradual adjustments monetary economic activity expand moderate pace labor market conditions inflation month basis expected near around committees objective medium near term economic outlook appear balanced committee monitoring inflation developments closelyin expected labor market conditions inflation committee decided federal funds monetary accommodative labor market conditions inflationin determining future adjustments federal funds committee assess expected economic conditions objectives maximum employment inflation assessment account information including measures labor market conditions indicators inflation inflation expectations financial international developments committee carefully monitor actual expected inflation developments inflation goal committee expects economic conditions evolve manner gradual increases federal funds federal funds likely levels expected longer however actual federal funds depend economic outlook informed incoming datathe committee maintaining existing holdings agency debt agency mortgage backed agency mortgage backed maturing auction committee currently expects begin implementing balance normalization economy evolves broadly anticipated gradually federal holdings decreasing described accompanying addendum committees normalization fomc monetary action janet l chair c dudley chairman lael brainard charles l evans fischer harker kaplan jerome h action neel kashkari meeting maintain existing federal funds note issued june\n",
      "information federal open market committee met february indicates labor market continued economic activity continued expand moderate pace job gains little changed months household continued moderately business fixed investment appears firmed inflation increased moving close committees longer run objective excluding energy food inflation little changed continued market based measures inflation compensation low survey based measures longer term inflation expectations little changed balanceconsistent mandate committee foster maximum employment committee expects gradual adjustments monetary economic activity expand moderate pace labor market conditions inflation around medium near term economic outlook appear balanced committee continues closely monitor inflation indicators global economic financial developmentsin expected labor market conditions inflation committee decided federal funds monetary accommodative labor market conditions inflationin determining future adjustments federal funds committee assess expected economic conditions objectives maximum employment inflation assessment account information including measures labor market conditions indicators inflation inflation expectations financial international developments committee carefully monitor actual expected inflation developments inflation goal committee expects economic conditions evolve manner gradual increases federal funds federal funds likely levels expected longer however actual federal funds depend economic outlook informed incoming datathe committee maintaining existing holdings agency debt agency mortgage backed agency mortgage backed maturing auction anticipates normalization level federal funds keeping committees holdings longer term levels help maintain accommodative financial conditionsvoting fomc monetary action janet l chair c dudley chairman lael brainard charles l evans fischer harker kaplan jerome h daniel k action neel kashkari meeting maintain existing federal funds note issued march\n",
      "information federal open market committee met november indicates labor market continued economic activity expanding moderate pace mid year job gains months declined household moderately business fixed investment inflation increased earlier committees longer run objective earlier declines energy non energy imports market based measures inflation compensation moved considerably low survey based measures longer term inflation expectations little changed balance monthsconsistent mandate committee foster maximum employment committee expects gradual adjustments monetary economic activity expand moderate pace labor market conditions inflation expected medium effects declines energy import dissipate labor market near term economic outlook appear balanced committee continues closely monitor inflation indicators global economic financial developmentsin expected labor market conditions inflation committee decided federal funds monetary accommodative labor market conditions inflationin determining future adjustments federal funds committee assess expected economic conditions objectives maximum employment inflation assessment account information including measures labor market conditions indicators inflation inflation expectations financial international developments light current inflation committee carefully monitor actual expected inflation goal committee expects economic conditions evolve manner gradual increases federal funds federal funds likely levels expected longer however actual federal funds depend economic outlook informed incoming datathe committee maintaining existing holdings agency debt agency mortgage backed agency mortgage backed maturing auction anticipates normalization level federal funds keeping committees holdings longer term levels help maintain accommodative financial conditionsvoting fomc monetary action janet l chair c dudley chairman lael brainard james bullard fischer esther l george loretta j mester jerome h eric daniel k note issued december\n",
      "information federal open market committee met indicates labor market continued growth economic activity modest pace first half although little changed months job gains household moderately business fixed investment inflation increased earlier committees longer run objective earlier declines energy non energy imports market based measures inflation compensation moved low survey based measures longer term inflation expectations little changed balance monthsconsistent mandate committee foster maximum employment committee expects gradual adjustments monetary economic activity expand moderate pace labor market conditions inflation expected medium effects declines energy import dissipate labor market near term economic outlook appear balanced committee continues closely monitor inflation indicators global economic financial developmentsagainst backdrop committee decided maintain federal funds committee judges case increase federal funds continued decided evidence continued objectives monetary accommodative improvement labor market conditions inflationin determining future adjustments federal funds committee assess expected economic conditions objectives maximum employment inflation assessment account information including measures labor market conditions indicators inflation inflation expectations financial international developments light current inflation committee carefully monitor actual expected inflation goal committee expects economic conditions evolve manner gradual increases federal funds federal funds likely levels expected longer however actual federal funds depend economic outlook informed incoming datathe committee maintaining existing holdings agency debt agency mortgage backed agency mortgage backed maturing auction anticipates normalization level federal funds keeping committees holdings longer term levels help maintain accommodative financial conditionsvoting fomc monetary action janet l chair c dudley chairman lael brainard james bullard fischer jerome h eric daniel k action esther l george loretta j mester meeting federal funds note issued november\n",
      "information federal open market committee met october economic activity expanding moderate pace household business fixed investment increasing months housing improved however net exports labor market indicators including ongoing job gains declining improvement confirms labor diminished appreciably early inflation continued committees longer run objective declines energy non energy imports market based measures inflation compensation low survey based measures longer term inflation expectations edged downconsistent mandate committee foster maximum employment committee currently expects gradual adjustments monetary economic activity continue expand moderate pace labor market indicators continue overall account domestic international developments committee outlook economic activity labor market balanced inflation expected medium effects declines energy import dissipate labor market committee continues monitor inflation developments closelythe committee judges considerable improvement labor market conditions confident inflation medium objective given economic outlook actions affect future economic outcomes committee decided federal funds monetary accommodative increase improvement labor market conditions inflationin determining future adjustments federal funds committee assess expected economic conditions objectives maximum employment inflation assessment account information including measures labor market conditions indicators inflation inflation expectations financial international developments light current inflation committee carefully monitor actual expected inflation goal committee expects economic conditions evolve manner gradual increases federal funds federal funds likely levels expected longer however actual federal funds depend economic outlook informed incoming datathe committee maintaining existing holdings agency debt agency mortgage backed agency mortgage backed maturing auction anticipates normalization level federal funds keeping committees holdings longer term levels help maintain accommodative financial conditionsvoting fomc monetary action janet l chair c dudley chairman lael brainard charles l evans fischer jeffrey lacker dennis p lockhart jerome h daniel k john c\n"
     ]
    }
   ],
   "source": [
    "for hawk in hawkish:\n",
    "    print(hawk)"
   ]
  },
  {
   "cell_type": "code",
   "execution_count": 3111,
   "metadata": {},
   "outputs": [],
   "source": [
    "def mb_predictions(document):\n",
    "    X = vectorizer.transform([document])\n",
    "    documents_tfidf = tfidf_transformer.transform(X)\n",
    "    return mb_model_resampled.predict(documents_tfidf)[0]"
   ]
  },
  {
   "cell_type": "code",
   "execution_count": 3120,
   "metadata": {},
   "outputs": [],
   "source": [
    "got_quotes = 'Never forget what you are, for surely the world will not. Make it your strength. Then it can never be your weakness. Armour yourself in it, and it will never be used to hurt you.'"
   ]
  },
  {
   "cell_type": "code",
   "execution_count": 3116,
   "metadata": {},
   "outputs": [
    {
     "data": {
      "text/plain": [
       "'dovish'"
      ]
     },
     "execution_count": 3116,
     "metadata": {},
     "output_type": "execute_result"
    }
   ],
   "source": [
    "mb_predictions('ee met november indicates labor market continued strengthen economic activity rising strong rate job gains strong average recent months unemployment rate remained low household spending continued grow strongly growth business fixed investment moderated rapid pace earlier year month basis overall inflation inflation items food energy remain near percent indicators longer term inflation expectations little changed balanceconsistent statutory mandate committee seeks foster maximum employment price stability committee judges gradual increases target range federal funds rate consistent sustained expansion economic activity strong labor market conditions inflation near committees symmetric percent objective medium term committee judges risks economic outlook roughly balanced continue monitor global economic financial developments assess implications economic outlookin view realized expected labor market conditions inflation committee decided raise target range federal funds rate percentin determining timing size future adjustments target range federal funds rate committee assess realized expected economic conditions relative maximum employment objective symmetric percent inflation objective assessment take account wide range information including measures labor market conditions indicators inflation pressures inflation expectations readings financial international developmentsvoting fomc monetary policy action jerome h powell chairman john c williams vice chairman thomas barkin raphael w bostic michelle w bowman lael brainard richard h clarida mary c daly loretta j mester randal k quarlesimplementation note issued december')\n",
    "\n",
    "\n",
    "mb_predictions('Never forget what you are, for surely the world will not. Make it your strength. Then it can never be your weakness. Armour yourself in it, and it will never be used to hurt you.')"
   ]
  },
  {
   "cell_type": "code",
   "execution_count": 3113,
   "metadata": {},
   "outputs": [
    {
     "data": {
      "text/plain": [
       "'hawkish'"
      ]
     },
     "execution_count": 3113,
     "metadata": {},
     "output_type": "execute_result"
    }
   ],
   "source": [
    "mb_predictions('In view of realized and expected labor market conditions and inflation, the Committee decided to maintain the target range for the federal funds rate at 2 to 2-1/4 percent.')"
   ]
  },
  {
   "cell_type": "code",
   "execution_count": 3114,
   "metadata": {},
   "outputs": [
    {
     "data": {
      "text/plain": [
       "'hawkish'"
      ]
     },
     "execution_count": 3114,
     "metadata": {},
     "output_type": "execute_result"
    }
   ],
   "source": [
    "mb_predictions('The Federal Open Market Committee decided today to raise its target for the federal funds rate by 25 basis points to 4-1/2 percent.')"
   ]
  },
  {
   "cell_type": "code",
   "execution_count": 3091,
   "metadata": {},
   "outputs": [],
   "source": [
    "def rf_predictions(document):\n",
    "    X = vectorizer.transform([document])\n",
    "    documents_tfidf = tfidf_transformer.transform(X)\n",
    "    return rf_model_resampled.predict(documents_tfidf)[0]"
   ]
  },
  {
   "cell_type": "code",
   "execution_count": 3092,
   "metadata": {},
   "outputs": [
    {
     "data": {
      "text/plain": [
       "'hawkish'"
      ]
     },
     "execution_count": 3092,
     "metadata": {},
     "output_type": "execute_result"
    }
   ],
   "source": [
    "rf_predictions('information received since federal open market committee met november indicates labor market continued strengthen economic activity rising strong rate job gains strong average recent months unemployment rate remained low household spending continued grow strongly growth business fixed investment moderated rapid pace earlier year month basis overall inflation inflation items food energy remain near percent indicators longer term inflation expectations little changed balanceconsistent statutory mandate committee seeks foster maximum employment price stability committee judges gradual increases target range federal funds rate consistent sustained expansion economic activity strong labor market conditions inflation near committees symmetric percent objective medium term committee judges risks economic outlook roughly balanced continue monitor global economic financial developments assess implications economic outlookin view realized expected labor market conditions inflation committee decided raise target range federal funds rate percentin determining timing size future adjustments target range federal funds rate committee assess realized expected economic conditions relative maximum employment objective symmetric percent inflation objective assessment take account wide range information including measures labor market conditions indicators inflation pressures inflation expectations readings financial international developmentsvoting fomc monetary policy action jerome h powell chairman john c williams vice chairman thomas barkin raphael w bostic michelle w bowman lael brainard richard h clarida mary c daly loretta j mester randal k quarlesimplementation note issued december')"
   ]
  },
  {
   "cell_type": "code",
   "execution_count": 3117,
   "metadata": {},
   "outputs": [
    {
     "data": {
      "text/plain": [
       "'dovish'"
      ]
     },
     "execution_count": 3117,
     "metadata": {},
     "output_type": "execute_result"
    }
   ],
   "source": [
    "rf_predictions('Never forget what you are, for surely the world will not. Make it your strength. Then it can never be your weakness. Armour yourself in it, and it will never be used to hurt you.')"
   ]
  },
  {
   "cell_type": "code",
   "execution_count": 3093,
   "metadata": {},
   "outputs": [
    {
     "data": {
      "text/plain": [
       "'dovish'"
      ]
     },
     "execution_count": 3093,
     "metadata": {},
     "output_type": "execute_result"
    }
   ],
   "source": [
    "rf_predictions('In view of realized and expected labor market conditions and inflation, the Committee decided to maintain the target range for the federal funds rate at 2 to 2-1/4 percent.')"
   ]
  },
  {
   "cell_type": "code",
   "execution_count": 3094,
   "metadata": {},
   "outputs": [
    {
     "data": {
      "text/plain": [
       "'dovish'"
      ]
     },
     "execution_count": 3094,
     "metadata": {},
     "output_type": "execute_result"
    }
   ],
   "source": [
    "rf_predictions('The Federal Open Market Committee decided today to raise its target for the federal funds rate by 25 basis points to 4-1/2 percent.')"
   ]
  },
  {
   "cell_type": "code",
   "execution_count": 3095,
   "metadata": {},
   "outputs": [],
   "source": [
    "def lr_predictions(document):\n",
    "    X = vectorizer.transform([document])\n",
    "    documents_tfidf = tfidf_transformer.transform(X)\n",
    "    return lr_model_resampled.predict(documents_tfidf)[0]"
   ]
  },
  {
   "cell_type": "code",
   "execution_count": 3096,
   "metadata": {},
   "outputs": [
    {
     "data": {
      "text/plain": [
       "'hawkish'"
      ]
     },
     "execution_count": 3096,
     "metadata": {},
     "output_type": "execute_result"
    }
   ],
   "source": [
    "lr_predictions('information received since federal open market committee met november indicates labor market continued strengthen economic activity rising strong rate job gains strong average recent months unemployment rate remained low household spending continued grow strongly growth business fixed investment moderated rapid pace earlier year month basis overall inflation inflation items food energy remain near percent indicators longer term inflation expectations little changed balanceconsistent statutory mandate committee seeks foster maximum employment price stability committee judges gradual increases target range federal funds rate consistent sustained expansion economic activity strong labor market conditions inflation near committees symmetric percent objective medium term committee judges risks economic outlook roughly balanced continue monitor global economic financial developments assess implications economic outlookin view realized expected labor market conditions inflation committee decided raise target range federal funds rate percentin determining timing size future adjustments target range federal funds rate committee assess realized expected economic conditions relative maximum employment objective symmetric percent inflation objective assessment take account wide range information including measures labor market conditions indicators inflation pressures inflation expectations readings financial international developmentsvoting fomc monetary policy action jerome h powell chairman john c williams vice chairman thomas barkin raphael w bostic michelle w bowman lael brainard richard h clarida mary c daly loretta j mester randal k quarlesimplementation note issued december')"
   ]
  },
  {
   "cell_type": "code",
   "execution_count": 3097,
   "metadata": {},
   "outputs": [
    {
     "data": {
      "text/plain": [
       "'dovish'"
      ]
     },
     "execution_count": 3097,
     "metadata": {},
     "output_type": "execute_result"
    }
   ],
   "source": [
    "lr_predictions('In view of realized and expected labor market conditions and inflation, the Committee decided to maintain the target range for the federal funds rate at 2 to 2-1/4 percent.')"
   ]
  },
  {
   "cell_type": "code",
   "execution_count": 3098,
   "metadata": {},
   "outputs": [
    {
     "data": {
      "text/plain": [
       "'dovish'"
      ]
     },
     "execution_count": 3098,
     "metadata": {},
     "output_type": "execute_result"
    }
   ],
   "source": [
    "lr_predictions('The Federal Open Market Committee decided today to raise its target for the federal funds rate by 25 basis points to 4-1/2 percent.')"
   ]
  },
  {
   "cell_type": "code",
   "execution_count": 3119,
   "metadata": {},
   "outputs": [
    {
     "data": {
      "text/plain": [
       "'dovish'"
      ]
     },
     "execution_count": 3119,
     "metadata": {},
     "output_type": "execute_result"
    }
   ],
   "source": [
    "lr_predictions('Never forget what you are, for surely the world will not. Make it your strength. Then it can never be your weakness. Armour yourself in it, and it will never be used to hurt you.')"
   ]
  },
  {
   "cell_type": "code",
   "execution_count": null,
   "metadata": {},
   "outputs": [],
   "source": []
  },
  {
   "cell_type": "code",
   "execution_count": null,
   "metadata": {},
   "outputs": [],
   "source": []
  },
  {
   "cell_type": "code",
   "execution_count": null,
   "metadata": {},
   "outputs": [],
   "source": []
  },
  {
   "cell_type": "code",
   "execution_count": null,
   "metadata": {},
   "outputs": [],
   "source": []
  },
  {
   "cell_type": "code",
   "execution_count": null,
   "metadata": {},
   "outputs": [],
   "source": []
  },
  {
   "cell_type": "code",
   "execution_count": null,
   "metadata": {},
   "outputs": [],
   "source": []
  },
  {
   "cell_type": "code",
   "execution_count": null,
   "metadata": {},
   "outputs": [],
   "source": []
  },
  {
   "cell_type": "code",
   "execution_count": null,
   "metadata": {},
   "outputs": [],
   "source": []
  },
  {
   "cell_type": "code",
   "execution_count": null,
   "metadata": {},
   "outputs": [],
   "source": []
  },
  {
   "cell_type": "code",
   "execution_count": null,
   "metadata": {},
   "outputs": [],
   "source": []
  },
  {
   "cell_type": "code",
   "execution_count": null,
   "metadata": {},
   "outputs": [],
   "source": []
  },
  {
   "cell_type": "code",
   "execution_count": null,
   "metadata": {},
   "outputs": [],
   "source": []
  },
  {
   "cell_type": "code",
   "execution_count": null,
   "metadata": {},
   "outputs": [],
   "source": []
  },
  {
   "cell_type": "code",
   "execution_count": null,
   "metadata": {},
   "outputs": [],
   "source": []
  },
  {
   "cell_type": "code",
   "execution_count": null,
   "metadata": {},
   "outputs": [],
   "source": []
  },
  {
   "cell_type": "code",
   "execution_count": null,
   "metadata": {},
   "outputs": [],
   "source": []
  },
  {
   "cell_type": "code",
   "execution_count": null,
   "metadata": {},
   "outputs": [],
   "source": []
  },
  {
   "cell_type": "code",
   "execution_count": null,
   "metadata": {},
   "outputs": [],
   "source": []
  },
  {
   "cell_type": "code",
   "execution_count": null,
   "metadata": {},
   "outputs": [],
   "source": []
  },
  {
   "cell_type": "code",
   "execution_count": null,
   "metadata": {},
   "outputs": [],
   "source": []
  },
  {
   "cell_type": "code",
   "execution_count": null,
   "metadata": {},
   "outputs": [],
   "source": []
  },
  {
   "cell_type": "code",
   "execution_count": null,
   "metadata": {},
   "outputs": [],
   "source": []
  },
  {
   "cell_type": "code",
   "execution_count": null,
   "metadata": {},
   "outputs": [],
   "source": []
  },
  {
   "cell_type": "code",
   "execution_count": null,
   "metadata": {},
   "outputs": [],
   "source": []
  },
  {
   "cell_type": "code",
   "execution_count": null,
   "metadata": {},
   "outputs": [],
   "source": []
  },
  {
   "cell_type": "code",
   "execution_count": null,
   "metadata": {},
   "outputs": [],
   "source": []
  }
 ],
 "metadata": {
  "kernelspec": {
   "display_name": "learn-env",
   "language": "python",
   "name": "learn-env"
  },
  "language_info": {
   "codemirror_mode": {
    "name": "ipython",
    "version": 3
   },
   "file_extension": ".py",
   "mimetype": "text/x-python",
   "name": "python",
   "nbconvert_exporter": "python",
   "pygments_lexer": "ipython3",
   "version": "3.6.6"
  }
 },
 "nbformat": 4,
 "nbformat_minor": 2
}
